{
 "cells": [
  {
   "cell_type": "markdown",
   "metadata": {},
   "source": [
    "# Audio key estimation of digital music with CNNs"
   ]
  },
  {
   "cell_type": "markdown",
   "metadata": {},
   "source": [
    "## Data Preprocessing\n",
    "---"
   ]
  },
  {
   "cell_type": "markdown",
   "metadata": {},
   "source": [
    "### Million Song Dataset\n",
    "- utilized to select appropriate song samples\n",
    "- holds information about key and mode per song (targets)"
   ]
  },
  {
   "cell_type": "markdown",
   "metadata": {},
   "source": [
    "Juypter Notebook <a href='./00.hlp/msd/msd.ipynb'>msd</a>\n",
    "\n",
    "outputs: csv file *songs_conf=75_tracks_filt.csv*, which holds all songs with key confidence and mode confidence > 0.75"
   ]
  },
  {
   "cell_type": "code",
   "execution_count": null,
   "metadata": {},
   "outputs": [],
   "source": [
    "# LIST SELECTED SONGS\n",
    "import os\n",
    "import pandas as pd\n",
    "from IPython.display import display\n",
    "\n",
    "selsongsfile = os.path.join ('00.hlp', 'msd', 'songs_conf=75_tracks_filt.csv')\n",
    "selsongs = pd.read_csv (selsongsfile, header=0, index_col=0)\n",
    "display (selsongs.head (1))\n",
    "print ('[i] number of records:', len (selsongs))"
   ]
  },
  {
   "cell_type": "code",
   "execution_count": null,
   "metadata": {},
   "outputs": [],
   "source": [
    "# LOAD AUDIO DATASET\n",
    "import os\n",
    "import numpy as np\n",
    "from sklearn import datasets\n",
    "\n",
    "PARAM_RND_STATE = 42\n",
    "\n",
    "container_path = os.path.join ('src_audio')\n",
    "load_content = False\n",
    "description = ['key C, mode minor', 'key C, mode major',\n",
    "               'key C#, mode minor', 'key C#, mode major',\n",
    "               'key D, mode minor', 'key D, mode major',\n",
    "               'key D#, mode minor', 'key D#, mode major',\n",
    "               'key E, mode minor', 'key E, mode major',\n",
    "               'key F, mode minor', 'key F, mode major',\n",
    "               'key F#, mode minor', 'key F#, mode major',\n",
    "               'key G, mode minor', 'key G, mode major',\n",
    "               'key G#, mode minor', 'key G#, mode major',\n",
    "               'key A, mode minor', 'key A, mode major',\n",
    "               'key A#, mode minor', 'key A#, mode major',\n",
    "               'key B, mode minor', 'key B, mode major']\n",
    "\n",
    "src_audio_data = datasets.load_files (container_path=container_path,\n",
    "                                      description=description,\n",
    "                                      load_content=load_content,\n",
    "                                      random_state=PARAM_RND_STATE)"
   ]
  },
  {
   "cell_type": "code",
   "execution_count": null,
   "metadata": {},
   "outputs": [],
   "source": [
    "# FYI: LIST SOME OF THE USED SONGS\n",
    "filenames = list (os.path.basename (filepath) for filepath in src_audio_data['filenames'])\n",
    "usedsongs_track_id = list (os.path.splitext (fn)[0] for fn in filenames)\n",
    "usedsongs = selsongs.query ('track_id in @usedsongs_track_id')\n",
    "\n",
    "display (usedsongs.sample(5))\n",
    "print ('[i] min of: key_confidence =', usedsongs['key_confidence'].min (), ',', \\\n",
    "       'mode_confidence =', usedsongs['mode_confidence'].min ())\n",
    "print ('[i] number of records:', len (usedsongs))"
   ]
  },
  {
   "cell_type": "markdown",
   "metadata": {},
   "source": [
    "### Feature Extraction\n",
    "- create spectrograms of audio files with discrete Fourier transform (DFT)\n",
    "- save spectrograms as images for further use in CNN"
   ]
  },
  {
   "cell_type": "markdown",
   "metadata": {},
   "source": [
    "Juypter Notebook <a href='./00.hlp/fft/fft.ipynb'>fft</a>\n",
    "\n",
    "ouptuts: spectrograms (png images) of audio files with same folder structure as *src_audio* in new container path named *src_spectro*"
   ]
  },
  {
   "cell_type": "markdown",
   "metadata": {},
   "source": [
    "**Example of a spectrogram image**\n",
    "\n",
    "<img src ='./src_spectro/7-0/TREDRTV12903D03829.png' align=left>"
   ]
  },
  {
   "cell_type": "markdown",
   "metadata": {},
   "source": [
    "## Model Preparation\n",
    "---"
   ]
  },
  {
   "cell_type": "markdown",
   "metadata": {},
   "source": [
    "### Load and prepare data"
   ]
  },
  {
   "cell_type": "code",
   "execution_count": 1,
   "metadata": {},
   "outputs": [
    {
     "data": {
      "text/plain": [
       "dict_keys(['target_names', 'filenames', 'target', 'DESCR'])"
      ]
     },
     "execution_count": 1,
     "metadata": {},
     "output_type": "execute_result"
    }
   ],
   "source": [
    "# LOAD SPECTROGRAM FILENAMES\n",
    "import os\n",
    "import numpy as np\n",
    "from sklearn import datasets\n",
    "\n",
    "PARAM_RND_STATE = 42\n",
    "\n",
    "container_path = os.path.join ('src_spectro')\n",
    "load_content = False\n",
    "description = ['key C, mode minor', 'key C, mode major',\n",
    "               'key C#, mode minor', 'key C#, mode major',\n",
    "               'key D, mode minor', 'key D, mode major',\n",
    "               'key D#, mode minor', 'key D#, mode major',\n",
    "               'key E, mode minor', 'key E, mode major',\n",
    "               'key F, mode minor', 'key F, mode major',\n",
    "               'key F#, mode minor', 'key F#, mode major',\n",
    "               'key G, mode minor', 'key G, mode major',\n",
    "               'key G#, mode minor', 'key G#, mode major',\n",
    "               'key A, mode minor', 'key A, mode major',\n",
    "               'key A#, mode minor', 'key A#, mode major',\n",
    "               'key B, mode minor', 'key B, mode major']\n",
    "\n",
    "src_spectro_data = datasets.load_files (container_path=container_path,\n",
    "                                        description=description,\n",
    "                                        load_content=load_content,\n",
    "                                        random_state=PARAM_RND_STATE)\n",
    "src_spectro_data.keys ()"
   ]
  },
  {
   "cell_type": "code",
   "execution_count": 42,
   "metadata": {},
   "outputs": [
    {
     "name": "stdout",
     "output_type": "stream",
     "text": [
      "[i] example of loaded spectrogram file data:\n",
      "    spectrogram image name: src_spectro/1-0/TRLZZOJ128F1494C12.png\n",
      "    spectrogram image key-mode pair: 1-0 = key C#, mode minor = target class 2\n"
     ]
    }
   ],
   "source": [
    "print ('[i] example of loaded spectrogram file data:')\n",
    "print ('    spectrogram image name:', src_spectro_data['filenames'][0])\n",
    "print ('    spectrogram image key-mode pair:',\\\n",
    "       src_spectro_data['target_names'][src_spectro_data['target'][0]],\\\n",
    "       '=', src_spectro_data['DESCR'][src_spectro_data['target'][0]],\\\n",
    "       '= target class', src_spectro_data['target'][0])"
   ]
  },
  {
   "cell_type": "markdown",
   "metadata": {},
   "source": [
    "### read in images, convert to tensors\n",
    "Keras Conv2D layers expect a **4D tensor with shape (batch, rows, cols, channels)** (if param data_format='channels_last') (src: <a href='https://keras.io/layers/convolutional/#conv2d'>Keras Conv2D</a>)"
   ]
  },
  {
   "cell_type": "code",
   "execution_count": 43,
   "metadata": {},
   "outputs": [
    {
     "name": "stdout",
     "output_type": "stream",
     "text": [
      "[i] image size: (174, 174)\n",
      "[i] pixel format: RGB\n"
     ]
    }
   ],
   "source": [
    "# open a random image and take a look at the attributes\n",
    "import numpy as np\n",
    "from PIL import Image\n",
    "\n",
    "im = Image.open (src_spectro_data['filenames'][0])\n",
    "print ('[i] image size:', im.size)\n",
    "print ('[i] pixel format:', im.mode)"
   ]
  },
  {
   "cell_type": "markdown",
   "metadata": {},
   "source": [
    "images are of size (174, 174) and have 3 channels\n",
    "\n",
    "for CNN: no need to change target size\n",
    "\n",
    "below functions read images and convert those to tensors - code taken from Udacity MLND dog-project"
   ]
  },
  {
   "cell_type": "code",
   "execution_count": 44,
   "metadata": {},
   "outputs": [],
   "source": [
    "from keras.preprocessing import image                  \n",
    "from tqdm import tqdm\n",
    "\n",
    "def path_to_tensor (img_path):\n",
    "    # loads RGB image as PIL.Image.Image type\n",
    "    img = image.load_img (img_path, color_mode='grayscale')#, target_size=(88, 88))\n",
    "    # convert PIL.Image.Image type to 3D tensor\n",
    "    x = image.img_to_array (img)\n",
    "    # convert 3D tensor to 4D tensor\n",
    "    return np.expand_dims (x, axis=0)\n",
    "\n",
    "def paths_to_tensor (img_paths):\n",
    "    list_of_tensors = [path_to_tensor (img_path) for img_path in tqdm (img_paths)]\n",
    "    return np.vstack (list_of_tensors)"
   ]
  },
  {
   "cell_type": "code",
   "execution_count": 45,
   "metadata": {},
   "outputs": [
    {
     "name": "stderr",
     "output_type": "stream",
     "text": [
      "100%|██████████| 240/240 [00:00<00:00, 1468.76it/s]\n"
     ]
    }
   ],
   "source": [
    "from PIL import ImageFile                            \n",
    "ImageFile.LOAD_TRUNCATED_IMAGES = True                 \n",
    "\n",
    "spectro_tensors = paths_to_tensor (src_spectro_data['filenames'])#.astype ('float32') / 255"
   ]
  },
  {
   "cell_type": "code",
   "execution_count": 46,
   "metadata": {},
   "outputs": [
    {
     "name": "stdout",
     "output_type": "stream",
     "text": [
      "[i] shape of spectrogram tensors: (240, 174, 174, 1)\n"
     ]
    }
   ],
   "source": [
    "print ('[i] shape of spectrogram tensors:', spectro_tensors.shape)"
   ]
  },
  {
   "cell_type": "code",
   "execution_count": 47,
   "metadata": {},
   "outputs": [
    {
     "name": "stdout",
     "output_type": "stream",
     "text": [
      "[i] number of output classes: 24\n"
     ]
    }
   ],
   "source": [
    "from keras.utils import np_utils\n",
    "targets = np_utils.to_categorical (np.array (src_spectro_data['target']), 24)\n",
    "print ('[i] number of output classes:', targets.shape[1])"
   ]
  },
  {
   "cell_type": "markdown",
   "metadata": {},
   "source": [
    "### split data into train and test set"
   ]
  },
  {
   "cell_type": "code",
   "execution_count": 49,
   "metadata": {},
   "outputs": [
    {
     "name": "stdout",
     "output_type": "stream",
     "text": [
      "[i] Training dataset consists of 216 samples\n",
      "[i] Testing dataset consists of 24 samples\n"
     ]
    }
   ],
   "source": [
    "from sklearn.model_selection import train_test_split\n",
    "\n",
    "X_train, X_test, y_train, y_test = \\\n",
    "    train_test_split (spectro_tensors, targets, test_size=0.10, shuffle=True, random_state=PARAM_RND_STATE)\n",
    "\n",
    "print ('[i] Training dataset consists of {} samples'.format (X_train.shape[0]))\n",
    "print ('[i] Testing dataset consists of {} samples'.format (X_test.shape[0]))"
   ]
  },
  {
   "cell_type": "markdown",
   "metadata": {},
   "source": [
    "### Model architecture"
   ]
  },
  {
   "cell_type": "code",
   "execution_count": 50,
   "metadata": {},
   "outputs": [
    {
     "name": "stdout",
     "output_type": "stream",
     "text": [
      "_________________________________________________________________\n",
      "Layer (type)                 Output Shape              Param #   \n",
      "=================================================================\n",
      "input (InputLayer)           (None, 174, 174, 1)       0         \n",
      "_________________________________________________________________\n",
      "conv2d_1 (Conv2D)            (None, 174, 174, 8)       16        \n",
      "_________________________________________________________________\n",
      "conv2d_2 (Conv2D)            (None, 174, 174, 16)      528       \n",
      "_________________________________________________________________\n",
      "maxp_2 (MaxPooling2D)        (None, 87, 87, 16)        0         \n",
      "_________________________________________________________________\n",
      "conv2d_3 (Conv2D)            (None, 87, 87, 32)        2080      \n",
      "_________________________________________________________________\n",
      "maxp_3 (MaxPooling2D)        (None, 43, 43, 32)        0         \n",
      "_________________________________________________________________\n",
      "conv2d_4 (Conv2D)            (None, 43, 43, 64)        8256      \n",
      "_________________________________________________________________\n",
      "maxp_4 (MaxPooling2D)        (None, 21, 21, 64)        0         \n",
      "_________________________________________________________________\n",
      "avg_flatten (GlobalAveragePo (None, 64)                0         \n",
      "_________________________________________________________________\n",
      "output (Dense)               (None, 24)                1560      \n",
      "=================================================================\n",
      "Total params: 12,440\n",
      "Trainable params: 12,440\n",
      "Non-trainable params: 0\n",
      "_________________________________________________________________\n"
     ]
    }
   ],
   "source": [
    "from keras import layers, models\n",
    "from keras import backend as K\n",
    "\n",
    "# clear everything known of past instances (\"useful to avoid clutter from old models / layers\")\n",
    "K.clear_session ()\n",
    "\n",
    "# input layer\n",
    "inputs = layers.Input (shape=spectro_tensors.shape[1:], name='input')\n",
    "\n",
    "# hidden layers\n",
    "net = layers.Conv2D (filters=8, kernel_size=(1,1), strides=(1,1),\n",
    "                     padding='same', # don't lose information due to conv window runs out of image / strides = 1 = OK\n",
    "                     activation='relu',\n",
    "                     name='conv2d_1') (inputs)\n",
    "#net = layers.MaxPooling2D (pool_size=(2,2), strides=None, name='maxp_1') (net)\n",
    "\n",
    "net = layers.Conv2D (filters=16, kernel_size=(2,2), strides=(1,1),\n",
    "              padding='same',\n",
    "              activation='relu',\n",
    "              name='conv2d_2') (net)\n",
    "net = layers.MaxPooling2D (pool_size=(2,2), strides=None, name='maxp_2') (net)\n",
    "\n",
    "net = layers.Conv2D (filters=32, kernel_size=(2,2), strides=(1,1),\n",
    "              padding='same',\n",
    "              activation='relu',\n",
    "              name='conv2d_3') (net)\n",
    "net = layers.MaxPooling2D (pool_size=(2,2), strides=None, name='maxp_3') (net)\n",
    "\n",
    "net = layers.Conv2D (filters=64, kernel_size=(2,2), strides=(1,1),\n",
    "              padding='same',\n",
    "              activation='relu',\n",
    "              name='conv2d_4') (net)\n",
    "net = layers.MaxPooling2D (pool_size=(2,2), strides=None, name='maxp_4') (net)\n",
    "\n",
    "# 'flatten layer'\n",
    "net = layers.GlobalAveragePooling2D (name='avg_flatten') (net)\n",
    "\n",
    "# output layer\n",
    "outputs = layers.Dense (units=targets.shape[1], activation='softmax', name='output') (net)\n",
    "\n",
    "\n",
    "model = models.Model (inputs=inputs, outputs=outputs)\n",
    "model.summary ()"
   ]
  },
  {
   "cell_type": "markdown",
   "metadata": {},
   "source": [
    "### Model parameter (metric, loss function)"
   ]
  },
  {
   "cell_type": "code",
   "execution_count": 52,
   "metadata": {},
   "outputs": [],
   "source": [
    "# from: Arseny Kravchenko http://arseny.info/2017/f-beta-score-for-keras.html\n",
    "from keras import backend as K\n",
    "\n",
    "PARAM_BETA = 0\n",
    "def fbeta (y_true, y_pred):\n",
    "\n",
    "    # just in case of hipster activation at the final layer\n",
    "    y_pred = K.clip (y_pred, 0, 1)\n",
    "\n",
    "    tp = K.sum (K.round (y_true * y_pred)) + K.epsilon ()\n",
    "    fp = K.sum (K.round (K.clip (y_pred - y_true, 0, 1)))\n",
    "    fn = K.sum (K.round (K.clip (y_true - y_pred, 0, 1)))\n",
    "\n",
    "    precision = tp / (tp + fp)\n",
    "    recall = tp / (tp + fn)\n",
    "\n",
    "    beta_squared = PARAM_BETA ** 2\n",
    "    return (beta_squared + 1) * (precision * recall) / (beta_squared * precision + recall)"
   ]
  },
  {
   "cell_type": "code",
   "execution_count": 53,
   "metadata": {},
   "outputs": [],
   "source": [
    "from keras import optimizers, losses\n",
    "\n",
    "PARAM_LR = 0.0001\n",
    "opt_sgd = optimizers.SGD (lr=PARAM_LR, momentum=0.8)\n",
    "opt_adamax = optimizers.Adamax (lr=PARAM_LR, beta_1=0.9, beta_2=0.999, epsilon=None, decay=0.0)\n",
    "\n",
    "\n",
    "model.compile (optimizer=opt_sgd, loss=losses.mean_squared_error, metrics=[fbeta])"
   ]
  },
  {
   "cell_type": "markdown",
   "metadata": {},
   "source": [
    "## Model Training and Evaluation\n",
    "---"
   ]
  },
  {
   "cell_type": "markdown",
   "metadata": {},
   "source": [
    "### Model training"
   ]
  },
  {
   "cell_type": "code",
   "execution_count": 54,
   "metadata": {
    "scrolled": true
   },
   "outputs": [
    {
     "name": "stdout",
     "output_type": "stream",
     "text": [
      "Train on 194 samples, validate on 22 samples\n",
      "Epoch 1/100\n",
      "194/194 [==============================] - 7s 38ms/step - loss: 0.0550 - fbeta: 0.0557 - val_loss: 0.0543 - val_fbeta: 0.2045\n",
      "\n",
      "Epoch 00001: val_loss improved from inf to 0.05430, saving model to model/model.w.best.h5\n",
      "Epoch 2/100\n",
      "194/194 [==============================] - 7s 37ms/step - loss: 0.0532 - fbeta: 0.4588 - val_loss: 0.0533 - val_fbeta: 0.5455\n",
      "\n",
      "Epoch 00002: val_loss improved from 0.05430 to 0.05326, saving model to model/model.w.best.h5\n",
      "Epoch 3/100\n",
      "194/194 [==============================] - 7s 37ms/step - loss: 0.0526 - fbeta: 0.6392 - val_loss: 0.0529 - val_fbeta: 1.0000\n",
      "\n",
      "Epoch 00003: val_loss improved from 0.05326 to 0.05285, saving model to model/model.w.best.h5\n",
      "Epoch 4/100\n",
      "194/194 [==============================] - 7s 37ms/step - loss: 0.0524 - fbeta: 0.8247 - val_loss: 0.0526 - val_fbeta: 1.0000\n",
      "\n",
      "Epoch 00004: val_loss improved from 0.05285 to 0.05264, saving model to model/model.w.best.h5\n",
      "Epoch 5/100\n",
      "194/194 [==============================] - 7s 38ms/step - loss: 0.0523 - fbeta: 0.7423 - val_loss: 0.0526 - val_fbeta: 1.0000\n",
      "\n",
      "Epoch 00005: val_loss improved from 0.05264 to 0.05257, saving model to model/model.w.best.h5\n",
      "Epoch 6/100\n",
      "194/194 [==============================] - 7s 37ms/step - loss: 0.0523 - fbeta: 0.7938 - val_loss: 0.0526 - val_fbeta: 1.0000\n",
      "\n",
      "Epoch 00006: val_loss improved from 0.05257 to 0.05255, saving model to model/model.w.best.h5\n",
      "Epoch 7/100\n",
      "194/194 [==============================] - 7s 37ms/step - loss: 0.0523 - fbeta: 0.7423 - val_loss: 0.0525 - val_fbeta: 1.0000\n",
      "\n",
      "Epoch 00007: val_loss improved from 0.05255 to 0.05252, saving model to model/model.w.best.h5\n",
      "Epoch 8/100\n",
      "194/194 [==============================] - 7s 38ms/step - loss: 0.0523 - fbeta: 0.6392 - val_loss: 0.0525 - val_fbeta: 1.0000\n",
      "\n",
      "Epoch 00008: val_loss did not improve from 0.05252\n",
      "Epoch 9/100\n",
      "194/194 [==============================] - 7s 37ms/step - loss: 0.0523 - fbeta: 0.7216 - val_loss: 0.0525 - val_fbeta: 1.0000\n",
      "\n",
      "Epoch 00009: val_loss improved from 0.05252 to 0.05252, saving model to model/model.w.best.h5\n",
      "Epoch 10/100\n",
      "194/194 [==============================] - 7s 37ms/step - loss: 0.0523 - fbeta: 0.6392 - val_loss: 0.0525 - val_fbeta: 1.0000\n",
      "\n",
      "Epoch 00010: val_loss improved from 0.05252 to 0.05252, saving model to model/model.w.best.h5\n",
      "Epoch 11/100\n",
      "194/194 [==============================] - 7s 37ms/step - loss: 0.0523 - fbeta: 0.6907 - val_loss: 0.0525 - val_fbeta: 1.0000\n",
      "\n",
      "Epoch 00011: val_loss improved from 0.05252 to 0.05250, saving model to model/model.w.best.h5\n",
      "Epoch 12/100\n",
      "194/194 [==============================] - 7s 37ms/step - loss: 0.0523 - fbeta: 0.7216 - val_loss: 0.0525 - val_fbeta: 1.0000\n",
      "\n",
      "Epoch 00012: val_loss improved from 0.05250 to 0.05250, saving model to model/model.w.best.h5\n",
      "Epoch 13/100\n",
      "194/194 [==============================] - 7s 37ms/step - loss: 0.0523 - fbeta: 0.6392 - val_loss: 0.0525 - val_fbeta: 1.0000\n",
      "\n",
      "Epoch 00013: val_loss improved from 0.05250 to 0.05249, saving model to model/model.w.best.h5\n",
      "Epoch 14/100\n",
      "194/194 [==============================] - 7s 37ms/step - loss: 0.0523 - fbeta: 0.7216 - val_loss: 0.0525 - val_fbeta: 1.0000\n",
      "\n",
      "Epoch 00014: val_loss improved from 0.05249 to 0.05249, saving model to model/model.w.best.h5\n",
      "Epoch 15/100\n",
      "194/194 [==============================] - 7s 37ms/step - loss: 0.0523 - fbeta: 0.6392 - val_loss: 0.0525 - val_fbeta: 1.0000\n",
      "\n",
      "Epoch 00015: val_loss improved from 0.05249 to 0.05249, saving model to model/model.w.best.h5\n",
      "Epoch 16/100\n",
      "194/194 [==============================] - 7s 37ms/step - loss: 0.0523 - fbeta: 0.6907 - val_loss: 0.0525 - val_fbeta: 1.0000\n",
      "\n",
      "Epoch 00016: val_loss improved from 0.05249 to 0.05248, saving model to model/model.w.best.h5\n",
      "Epoch 17/100\n",
      "194/194 [==============================] - 7s 37ms/step - loss: 0.0522 - fbeta: 0.6907 - val_loss: 0.0525 - val_fbeta: 1.0000\n",
      "\n",
      "Epoch 00017: val_loss improved from 0.05248 to 0.05247, saving model to model/model.w.best.h5\n",
      "Epoch 18/100\n",
      "194/194 [==============================] - 7s 37ms/step - loss: 0.0522 - fbeta: 0.7423 - val_loss: 0.0525 - val_fbeta: 1.0000\n",
      "\n",
      "Epoch 00018: val_loss did not improve from 0.05247\n",
      "Epoch 19/100\n",
      "194/194 [==============================] - 7s 37ms/step - loss: 0.0522 - fbeta: 0.6701 - val_loss: 0.0525 - val_fbeta: 1.0000\n",
      "\n",
      "Epoch 00019: val_loss improved from 0.05247 to 0.05246, saving model to model/model.w.best.h5\n",
      "Epoch 20/100\n",
      "194/194 [==============================] - 7s 37ms/step - loss: 0.0522 - fbeta: 0.6907 - val_loss: 0.0525 - val_fbeta: 1.0000\n",
      "\n",
      "Epoch 00020: val_loss improved from 0.05246 to 0.05246, saving model to model/model.w.best.h5\n",
      "Epoch 21/100\n",
      "194/194 [==============================] - 7s 37ms/step - loss: 0.0522 - fbeta: 0.6701 - val_loss: 0.0524 - val_fbeta: 1.0000\n",
      "\n",
      "Epoch 00021: val_loss improved from 0.05246 to 0.05244, saving model to model/model.w.best.h5\n",
      "Epoch 22/100\n",
      "194/194 [==============================] - 7s 37ms/step - loss: 0.0522 - fbeta: 0.6907 - val_loss: 0.0525 - val_fbeta: 1.0000\n",
      "\n",
      "Epoch 00022: val_loss did not improve from 0.05244\n",
      "Epoch 23/100\n",
      "194/194 [==============================] - 7s 37ms/step - loss: 0.0522 - fbeta: 0.6392 - val_loss: 0.0524 - val_fbeta: 1.0000\n",
      "\n",
      "Epoch 00023: val_loss improved from 0.05244 to 0.05243, saving model to model/model.w.best.h5\n",
      "Epoch 24/100\n",
      "194/194 [==============================] - 7s 37ms/step - loss: 0.0522 - fbeta: 0.7423 - val_loss: 0.0524 - val_fbeta: 1.0000\n",
      "\n",
      "Epoch 00024: val_loss improved from 0.05243 to 0.05243, saving model to model/model.w.best.h5\n",
      "Epoch 25/100\n",
      "194/194 [==============================] - 7s 37ms/step - loss: 0.0522 - fbeta: 0.6392 - val_loss: 0.0524 - val_fbeta: 1.0000\n",
      "\n",
      "Epoch 00025: val_loss improved from 0.05243 to 0.05241, saving model to model/model.w.best.h5\n",
      "Epoch 26/100\n",
      "194/194 [==============================] - 7s 37ms/step - loss: 0.0522 - fbeta: 0.7423 - val_loss: 0.0524 - val_fbeta: 1.0000\n",
      "\n",
      "Epoch 00026: val_loss improved from 0.05241 to 0.05240, saving model to model/model.w.best.h5\n",
      "Epoch 27/100\n",
      "194/194 [==============================] - 7s 37ms/step - loss: 0.0522 - fbeta: 0.6701 - val_loss: 0.0524 - val_fbeta: 1.0000\n",
      "\n",
      "Epoch 00027: val_loss improved from 0.05240 to 0.05239, saving model to model/model.w.best.h5\n",
      "Epoch 28/100\n",
      "194/194 [==============================] - 7s 37ms/step - loss: 0.0522 - fbeta: 0.6392 - val_loss: 0.0524 - val_fbeta: 1.0000\n",
      "\n",
      "Epoch 00028: val_loss improved from 0.05239 to 0.05239, saving model to model/model.w.best.h5\n",
      "Epoch 29/100\n",
      "194/194 [==============================] - 7s 38ms/step - loss: 0.0522 - fbeta: 0.7216 - val_loss: 0.0524 - val_fbeta: 1.0000\n",
      "\n",
      "Epoch 00029: val_loss improved from 0.05239 to 0.05238, saving model to model/model.w.best.h5\n",
      "Epoch 30/100\n",
      "194/194 [==============================] - 7s 38ms/step - loss: 0.0522 - fbeta: 0.7423 - val_loss: 0.0524 - val_fbeta: 1.0000\n",
      "\n",
      "Epoch 00030: val_loss improved from 0.05238 to 0.05236, saving model to model/model.w.best.h5\n",
      "Epoch 31/100\n",
      "194/194 [==============================] - 7s 37ms/step - loss: 0.0522 - fbeta: 0.6907 - val_loss: 0.0524 - val_fbeta: 1.0000\n",
      "\n",
      "Epoch 00031: val_loss improved from 0.05236 to 0.05236, saving model to model/model.w.best.h5\n",
      "Epoch 32/100\n",
      "194/194 [==============================] - 7s 37ms/step - loss: 0.0521 - fbeta: 0.7216 - val_loss: 0.0523 - val_fbeta: 1.0000\n",
      "\n",
      "Epoch 00032: val_loss improved from 0.05236 to 0.05235, saving model to model/model.w.best.h5\n",
      "Epoch 33/100\n",
      "194/194 [==============================] - 7s 37ms/step - loss: 0.0521 - fbeta: 0.6392 - val_loss: 0.0523 - val_fbeta: 1.0000\n",
      "\n",
      "Epoch 00033: val_loss improved from 0.05235 to 0.05234, saving model to model/model.w.best.h5\n",
      "Epoch 34/100\n",
      "194/194 [==============================] - 7s 37ms/step - loss: 0.0521 - fbeta: 0.7423 - val_loss: 0.0523 - val_fbeta: 1.0000\n",
      "\n",
      "Epoch 00034: val_loss improved from 0.05234 to 0.05234, saving model to model/model.w.best.h5\n",
      "Epoch 35/100\n",
      "194/194 [==============================] - 7s 37ms/step - loss: 0.0521 - fbeta: 0.7732 - val_loss: 0.0523 - val_fbeta: 1.0000\n",
      "\n",
      "Epoch 00035: val_loss improved from 0.05234 to 0.05233, saving model to model/model.w.best.h5\n",
      "Epoch 36/100\n",
      "194/194 [==============================] - 7s 37ms/step - loss: 0.0521 - fbeta: 0.6907 - val_loss: 0.0523 - val_fbeta: 1.0000\n"
     ]
    },
    {
     "name": "stdout",
     "output_type": "stream",
     "text": [
      "\n",
      "Epoch 00036: val_loss improved from 0.05233 to 0.05231, saving model to model/model.w.best.h5\n",
      "Epoch 37/100\n",
      "194/194 [==============================] - 7s 37ms/step - loss: 0.0521 - fbeta: 0.7732 - val_loss: 0.0523 - val_fbeta: 1.0000\n",
      "\n",
      "Epoch 00037: val_loss improved from 0.05231 to 0.05231, saving model to model/model.w.best.h5\n",
      "Epoch 38/100\n",
      "194/194 [==============================] - 7s 37ms/step - loss: 0.0521 - fbeta: 0.7423 - val_loss: 0.0523 - val_fbeta: 1.0000\n",
      "\n",
      "Epoch 00038: val_loss improved from 0.05231 to 0.05229, saving model to model/model.w.best.h5\n",
      "Epoch 39/100\n",
      "194/194 [==============================] - 7s 37ms/step - loss: 0.0521 - fbeta: 0.6392 - val_loss: 0.0523 - val_fbeta: 1.0000\n",
      "\n",
      "Epoch 00039: val_loss improved from 0.05229 to 0.05227, saving model to model/model.w.best.h5\n",
      "Epoch 40/100\n",
      "194/194 [==============================] - 7s 37ms/step - loss: 0.0521 - fbeta: 0.7423 - val_loss: 0.0523 - val_fbeta: 1.0000\n",
      "\n",
      "Epoch 00040: val_loss improved from 0.05227 to 0.05227, saving model to model/model.w.best.h5\n",
      "Epoch 41/100\n",
      "194/194 [==============================] - 7s 37ms/step - loss: 0.0521 - fbeta: 0.6907 - val_loss: 0.0523 - val_fbeta: 1.0000\n",
      "\n",
      "Epoch 00041: val_loss improved from 0.05227 to 0.05226, saving model to model/model.w.best.h5\n",
      "Epoch 42/100\n",
      "194/194 [==============================] - 7s 37ms/step - loss: 0.0520 - fbeta: 0.7938 - val_loss: 0.0523 - val_fbeta: 1.0000\n",
      "\n",
      "Epoch 00042: val_loss improved from 0.05226 to 0.05225, saving model to model/model.w.best.h5\n",
      "Epoch 43/100\n",
      "194/194 [==============================] - 7s 37ms/step - loss: 0.0520 - fbeta: 0.7423 - val_loss: 0.0522 - val_fbeta: 1.0000\n",
      "\n",
      "Epoch 00043: val_loss improved from 0.05225 to 0.05223, saving model to model/model.w.best.h5\n",
      "Epoch 44/100\n",
      "194/194 [==============================] - 7s 37ms/step - loss: 0.0520 - fbeta: 0.6907 - val_loss: 0.0522 - val_fbeta: 1.0000\n",
      "\n",
      "Epoch 00044: val_loss improved from 0.05223 to 0.05221, saving model to model/model.w.best.h5\n",
      "Epoch 45/100\n",
      "194/194 [==============================] - 7s 37ms/step - loss: 0.0520 - fbeta: 0.7423 - val_loss: 0.0522 - val_fbeta: 1.0000\n",
      "\n",
      "Epoch 00045: val_loss improved from 0.05221 to 0.05221, saving model to model/model.w.best.h5\n",
      "Epoch 46/100\n",
      "194/194 [==============================] - 7s 37ms/step - loss: 0.0520 - fbeta: 0.7938 - val_loss: 0.0522 - val_fbeta: 1.0000\n",
      "\n",
      "Epoch 00046: val_loss improved from 0.05221 to 0.05219, saving model to model/model.w.best.h5\n",
      "Epoch 47/100\n",
      "194/194 [==============================] - 7s 37ms/step - loss: 0.0520 - fbeta: 0.7423 - val_loss: 0.0522 - val_fbeta: 1.0000\n",
      "\n",
      "Epoch 00047: val_loss improved from 0.05219 to 0.05218, saving model to model/model.w.best.h5\n",
      "Epoch 48/100\n",
      "194/194 [==============================] - 7s 37ms/step - loss: 0.0520 - fbeta: 0.7423 - val_loss: 0.0522 - val_fbeta: 1.0000\n",
      "\n",
      "Epoch 00048: val_loss improved from 0.05218 to 0.05216, saving model to model/model.w.best.h5\n",
      "Epoch 49/100\n",
      "194/194 [==============================] - 7s 37ms/step - loss: 0.0520 - fbeta: 0.8454 - val_loss: 0.0521 - val_fbeta: 1.0000\n",
      "\n",
      "Epoch 00049: val_loss improved from 0.05216 to 0.05214, saving model to model/model.w.best.h5\n",
      "Epoch 50/100\n",
      "194/194 [==============================] - 7s 37ms/step - loss: 0.0520 - fbeta: 0.8454 - val_loss: 0.0521 - val_fbeta: 1.0000\n",
      "\n",
      "Epoch 00050: val_loss improved from 0.05214 to 0.05213, saving model to model/model.w.best.h5\n",
      "Epoch 51/100\n",
      "194/194 [==============================] - 7s 37ms/step - loss: 0.0519 - fbeta: 0.7938 - val_loss: 0.0521 - val_fbeta: 1.0000\n",
      "\n",
      "Epoch 00051: val_loss improved from 0.05213 to 0.05211, saving model to model/model.w.best.h5\n",
      "Epoch 52/100\n",
      "194/194 [==============================] - 7s 37ms/step - loss: 0.0519 - fbeta: 0.7423 - val_loss: 0.0521 - val_fbeta: 1.0000\n",
      "\n",
      "Epoch 00052: val_loss improved from 0.05211 to 0.05209, saving model to model/model.w.best.h5\n",
      "Epoch 53/100\n",
      "194/194 [==============================] - 7s 37ms/step - loss: 0.0519 - fbeta: 0.7938 - val_loss: 0.0521 - val_fbeta: 1.0000\n",
      "\n",
      "Epoch 00053: val_loss improved from 0.05209 to 0.05207, saving model to model/model.w.best.h5\n",
      "Epoch 54/100\n",
      "194/194 [==============================] - 7s 37ms/step - loss: 0.0519 - fbeta: 0.7423 - val_loss: 0.0521 - val_fbeta: 1.0000\n",
      "\n",
      "Epoch 00054: val_loss improved from 0.05207 to 0.05206, saving model to model/model.w.best.h5\n",
      "Epoch 55/100\n",
      "194/194 [==============================] - 7s 37ms/step - loss: 0.0519 - fbeta: 0.7938 - val_loss: 0.0520 - val_fbeta: 1.0000\n",
      "\n",
      "Epoch 00055: val_loss improved from 0.05206 to 0.05204, saving model to model/model.w.best.h5\n",
      "Epoch 56/100\n",
      "194/194 [==============================] - 7s 36ms/step - loss: 0.0518 - fbeta: 0.7938 - val_loss: 0.0520 - val_fbeta: 1.0000\n",
      "\n",
      "Epoch 00056: val_loss improved from 0.05204 to 0.05203, saving model to model/model.w.best.h5\n",
      "Epoch 57/100\n",
      "194/194 [==============================] - 7s 37ms/step - loss: 0.0518 - fbeta: 0.7938 - val_loss: 0.0520 - val_fbeta: 1.0000\n",
      "\n",
      "Epoch 00057: val_loss improved from 0.05203 to 0.05200, saving model to model/model.w.best.h5\n",
      "Epoch 58/100\n",
      "194/194 [==============================] - 7s 37ms/step - loss: 0.0518 - fbeta: 0.7938 - val_loss: 0.0520 - val_fbeta: 1.0000\n",
      "\n",
      "Epoch 00058: val_loss improved from 0.05200 to 0.05197, saving model to model/model.w.best.h5\n",
      "Epoch 59/100\n",
      "194/194 [==============================] - 7s 37ms/step - loss: 0.0518 - fbeta: 0.7938 - val_loss: 0.0519 - val_fbeta: 1.0000\n",
      "\n",
      "Epoch 00059: val_loss improved from 0.05197 to 0.05194, saving model to model/model.w.best.h5\n",
      "Epoch 60/100\n",
      "194/194 [==============================] - 7s 37ms/step - loss: 0.0517 - fbeta: 0.8247 - val_loss: 0.0519 - val_fbeta: 1.0000\n",
      "\n",
      "Epoch 00060: val_loss improved from 0.05194 to 0.05193, saving model to model/model.w.best.h5\n",
      "Epoch 61/100\n",
      "194/194 [==============================] - 7s 37ms/step - loss: 0.0517 - fbeta: 0.7938 - val_loss: 0.0519 - val_fbeta: 1.0000\n",
      "\n",
      "Epoch 00061: val_loss improved from 0.05193 to 0.05190, saving model to model/model.w.best.h5\n",
      "Epoch 62/100\n",
      "194/194 [==============================] - 7s 37ms/step - loss: 0.0517 - fbeta: 0.7938 - val_loss: 0.0519 - val_fbeta: 1.0000\n",
      "\n",
      "Epoch 00062: val_loss improved from 0.05190 to 0.05186, saving model to model/model.w.best.h5\n",
      "Epoch 63/100\n",
      "194/194 [==============================] - 7s 38ms/step - loss: 0.0517 - fbeta: 0.7938 - val_loss: 0.0518 - val_fbeta: 1.0000\n",
      "\n",
      "Epoch 00063: val_loss improved from 0.05186 to 0.05183, saving model to model/model.w.best.h5\n",
      "Epoch 64/100\n",
      "194/194 [==============================] - 7s 37ms/step - loss: 0.0516 - fbeta: 0.7938 - val_loss: 0.0518 - val_fbeta: 1.0000\n",
      "\n",
      "Epoch 00064: val_loss improved from 0.05183 to 0.05180, saving model to model/model.w.best.h5\n",
      "Epoch 65/100\n",
      "194/194 [==============================] - 7s 37ms/step - loss: 0.0516 - fbeta: 0.7938 - val_loss: 0.0518 - val_fbeta: 1.0000\n",
      "\n",
      "Epoch 00065: val_loss improved from 0.05180 to 0.05177, saving model to model/model.w.best.h5\n",
      "Epoch 66/100\n",
      "194/194 [==============================] - 7s 37ms/step - loss: 0.0516 - fbeta: 0.8454 - val_loss: 0.0517 - val_fbeta: 1.0000\n",
      "\n",
      "Epoch 00066: val_loss improved from 0.05177 to 0.05174, saving model to model/model.w.best.h5\n",
      "Epoch 67/100\n",
      "194/194 [==============================] - 7s 37ms/step - loss: 0.0515 - fbeta: 0.8454 - val_loss: 0.0517 - val_fbeta: 1.0000\n",
      "\n",
      "Epoch 00067: val_loss improved from 0.05174 to 0.05170, saving model to model/model.w.best.h5\n",
      "Epoch 68/100\n",
      "194/194 [==============================] - 7s 37ms/step - loss: 0.0515 - fbeta: 0.8454 - val_loss: 0.0517 - val_fbeta: 1.0000\n",
      "\n",
      "Epoch 00068: val_loss improved from 0.05170 to 0.05166, saving model to model/model.w.best.h5\n",
      "Epoch 69/100\n",
      "194/194 [==============================] - 7s 37ms/step - loss: 0.0515 - fbeta: 0.7423 - val_loss: 0.0516 - val_fbeta: 1.0000\n",
      "\n",
      "Epoch 00069: val_loss improved from 0.05166 to 0.05161, saving model to model/model.w.best.h5\n",
      "Epoch 70/100\n",
      "194/194 [==============================] - 7s 37ms/step - loss: 0.0514 - fbeta: 0.8454 - val_loss: 0.0516 - val_fbeta: 1.0000\n",
      "\n",
      "Epoch 00070: val_loss improved from 0.05161 to 0.05156, saving model to model/model.w.best.h5\n",
      "Epoch 71/100\n",
      "194/194 [==============================] - 7s 37ms/step - loss: 0.0513 - fbeta: 0.8454 - val_loss: 0.0515 - val_fbeta: 1.0000\n",
      "\n",
      "Epoch 00071: val_loss improved from 0.05156 to 0.05150, saving model to model/model.w.best.h5\n",
      "Epoch 72/100\n"
     ]
    },
    {
     "name": "stdout",
     "output_type": "stream",
     "text": [
      "194/194 [==============================] - 7s 37ms/step - loss: 0.0513 - fbeta: 0.8763 - val_loss: 0.0514 - val_fbeta: 1.0000\n",
      "\n",
      "Epoch 00072: val_loss improved from 0.05150 to 0.05144, saving model to model/model.w.best.h5\n",
      "Epoch 73/100\n",
      "194/194 [==============================] - 7s 37ms/step - loss: 0.0512 - fbeta: 0.8454 - val_loss: 0.0514 - val_fbeta: 1.0000\n",
      "\n",
      "Epoch 00073: val_loss improved from 0.05144 to 0.05138, saving model to model/model.w.best.h5\n",
      "Epoch 74/100\n",
      "194/194 [==============================] - 7s 37ms/step - loss: 0.0512 - fbeta: 0.8454 - val_loss: 0.0513 - val_fbeta: 1.0000\n",
      "\n",
      "Epoch 00074: val_loss improved from 0.05138 to 0.05131, saving model to model/model.w.best.h5\n",
      "Epoch 75/100\n",
      "194/194 [==============================] - 7s 37ms/step - loss: 0.0511 - fbeta: 0.8969 - val_loss: 0.0512 - val_fbeta: 1.0000\n",
      "\n",
      "Epoch 00075: val_loss improved from 0.05131 to 0.05124, saving model to model/model.w.best.h5\n",
      "Epoch 76/100\n",
      "194/194 [==============================] - 7s 37ms/step - loss: 0.0510 - fbeta: 0.8969 - val_loss: 0.0512 - val_fbeta: 1.0000\n",
      "\n",
      "Epoch 00076: val_loss improved from 0.05124 to 0.05116, saving model to model/model.w.best.h5\n",
      "Epoch 77/100\n",
      "194/194 [==============================] - 7s 37ms/step - loss: 0.0509 - fbeta: 0.8969 - val_loss: 0.0511 - val_fbeta: 1.0000\n",
      "\n",
      "Epoch 00077: val_loss improved from 0.05116 to 0.05107, saving model to model/model.w.best.h5\n",
      "Epoch 78/100\n",
      "194/194 [==============================] - 7s 37ms/step - loss: 0.0509 - fbeta: 0.8969 - val_loss: 0.0510 - val_fbeta: 1.0000\n",
      "\n",
      "Epoch 00078: val_loss improved from 0.05107 to 0.05098, saving model to model/model.w.best.h5\n",
      "Epoch 79/100\n",
      "194/194 [==============================] - 7s 37ms/step - loss: 0.0507 - fbeta: 0.8969 - val_loss: 0.0509 - val_fbeta: 1.0000\n",
      "\n",
      "Epoch 00079: val_loss improved from 0.05098 to 0.05087, saving model to model/model.w.best.h5\n",
      "Epoch 80/100\n",
      "194/194 [==============================] - 7s 37ms/step - loss: 0.0506 - fbeta: 0.9485 - val_loss: 0.0508 - val_fbeta: 1.0000\n",
      "\n",
      "Epoch 00080: val_loss improved from 0.05087 to 0.05076, saving model to model/model.w.best.h5\n",
      "Epoch 81/100\n",
      "194/194 [==============================] - 7s 37ms/step - loss: 0.0505 - fbeta: 0.9485 - val_loss: 0.0506 - val_fbeta: 1.0000\n",
      "\n",
      "Epoch 00081: val_loss improved from 0.05076 to 0.05063, saving model to model/model.w.best.h5\n",
      "Epoch 82/100\n",
      "194/194 [==============================] - 7s 37ms/step - loss: 0.0504 - fbeta: 0.9794 - val_loss: 0.0505 - val_fbeta: 1.0000\n",
      "\n",
      "Epoch 00082: val_loss improved from 0.05063 to 0.05048, saving model to model/model.w.best.h5\n",
      "Epoch 83/100\n",
      "194/194 [==============================] - 7s 37ms/step - loss: 0.0502 - fbeta: 1.0000 - val_loss: 0.0503 - val_fbeta: 1.0000\n",
      "\n",
      "Epoch 00083: val_loss improved from 0.05048 to 0.05031, saving model to model/model.w.best.h5\n",
      "Epoch 84/100\n",
      "194/194 [==============================] - 7s 37ms/step - loss: 0.0500 - fbeta: 1.0000 - val_loss: 0.0501 - val_fbeta: 1.0000\n",
      "\n",
      "Epoch 00084: val_loss improved from 0.05031 to 0.05013, saving model to model/model.w.best.h5\n",
      "Epoch 85/100\n",
      "194/194 [==============================] - 7s 37ms/step - loss: 0.0498 - fbeta: 1.0000 - val_loss: 0.0499 - val_fbeta: 1.0000\n",
      "\n",
      "Epoch 00085: val_loss improved from 0.05013 to 0.04993, saving model to model/model.w.best.h5\n",
      "Epoch 86/100\n",
      "194/194 [==============================] - 7s 37ms/step - loss: 0.0496 - fbeta: 1.0000 - val_loss: 0.0497 - val_fbeta: 1.0000\n",
      "\n",
      "Epoch 00086: val_loss improved from 0.04993 to 0.04970, saving model to model/model.w.best.h5\n",
      "Epoch 87/100\n",
      "194/194 [==============================] - 7s 37ms/step - loss: 0.0493 - fbeta: 1.0000 - val_loss: 0.0495 - val_fbeta: 1.0000\n",
      "\n",
      "Epoch 00087: val_loss improved from 0.04970 to 0.04946, saving model to model/model.w.best.h5\n",
      "Epoch 88/100\n",
      "194/194 [==============================] - 7s 37ms/step - loss: 0.0491 - fbeta: 1.0000 - val_loss: 0.0492 - val_fbeta: 1.0000\n",
      "\n",
      "Epoch 00088: val_loss improved from 0.04946 to 0.04920, saving model to model/model.w.best.h5\n",
      "Epoch 89/100\n",
      "194/194 [==============================] - 7s 37ms/step - loss: 0.0488 - fbeta: 1.0000 - val_loss: 0.0489 - val_fbeta: 1.0000\n",
      "\n",
      "Epoch 00089: val_loss improved from 0.04920 to 0.04892, saving model to model/model.w.best.h5\n",
      "Epoch 90/100\n",
      "194/194 [==============================] - 7s 37ms/step - loss: 0.0485 - fbeta: 1.0000 - val_loss: 0.0486 - val_fbeta: 1.0000\n",
      "\n",
      "Epoch 00090: val_loss improved from 0.04892 to 0.04863, saving model to model/model.w.best.h5\n",
      "Epoch 91/100\n",
      "194/194 [==============================] - 7s 37ms/step - loss: 0.0481 - fbeta: 1.0000 - val_loss: 0.0484 - val_fbeta: 1.0000\n",
      "\n",
      "Epoch 00091: val_loss improved from 0.04863 to 0.04836, saving model to model/model.w.best.h5\n",
      "Epoch 92/100\n",
      "194/194 [==============================] - 7s 37ms/step - loss: 0.0478 - fbeta: 1.0000 - val_loss: 0.0481 - val_fbeta: 1.0000\n",
      "\n",
      "Epoch 00092: val_loss improved from 0.04836 to 0.04813, saving model to model/model.w.best.h5\n",
      "Epoch 93/100\n",
      "194/194 [==============================] - 7s 37ms/step - loss: 0.0476 - fbeta: 1.0000 - val_loss: 0.0479 - val_fbeta: 1.0000\n",
      "\n",
      "Epoch 00093: val_loss improved from 0.04813 to 0.04792, saving model to model/model.w.best.h5\n",
      "Epoch 94/100\n",
      "194/194 [==============================] - 7s 37ms/step - loss: 0.0473 - fbeta: 1.0000 - val_loss: 0.0477 - val_fbeta: 1.0000\n",
      "\n",
      "Epoch 00094: val_loss improved from 0.04792 to 0.04775, saving model to model/model.w.best.h5\n",
      "Epoch 95/100\n",
      "194/194 [==============================] - 7s 37ms/step - loss: 0.0471 - fbeta: 1.0000 - val_loss: 0.0476 - val_fbeta: 1.0000\n",
      "\n",
      "Epoch 00095: val_loss improved from 0.04775 to 0.04762, saving model to model/model.w.best.h5\n",
      "Epoch 96/100\n",
      "194/194 [==============================] - 7s 37ms/step - loss: 0.0470 - fbeta: 1.0000 - val_loss: 0.0475 - val_fbeta: 1.0000\n",
      "\n",
      "Epoch 00096: val_loss improved from 0.04762 to 0.04751, saving model to model/model.w.best.h5\n",
      "Epoch 97/100\n",
      "194/194 [==============================] - 7s 37ms/step - loss: 0.0469 - fbeta: 1.0000 - val_loss: 0.0474 - val_fbeta: 1.0000\n",
      "\n",
      "Epoch 00097: val_loss improved from 0.04751 to 0.04741, saving model to model/model.w.best.h5\n",
      "Epoch 98/100\n",
      "194/194 [==============================] - 7s 38ms/step - loss: 0.0468 - fbeta: 1.0000 - val_loss: 0.0473 - val_fbeta: 1.0000\n",
      "\n",
      "Epoch 00098: val_loss improved from 0.04741 to 0.04731, saving model to model/model.w.best.h5\n",
      "Epoch 99/100\n",
      "194/194 [==============================] - 7s 38ms/step - loss: 0.0467 - fbeta: 1.0000 - val_loss: 0.0472 - val_fbeta: 1.0000\n",
      "\n",
      "Epoch 00099: val_loss improved from 0.04731 to 0.04722, saving model to model/model.w.best.h5\n",
      "Epoch 100/100\n",
      "194/194 [==============================] - 7s 37ms/step - loss: 0.0466 - fbeta: 1.0000 - val_loss: 0.0471 - val_fbeta: 1.0000\n",
      "\n",
      "Epoch 00100: val_loss improved from 0.04722 to 0.04713, saving model to model/model.w.best.h5\n"
     ]
    }
   ],
   "source": [
    "import os\n",
    "from keras import callbacks\n",
    "\n",
    "PARAM_MAX_EPOCHS = 100 # PARAM: number of model-fit runs\n",
    "PARAM_N_BATCH = 10 # PARAM: number of input samples for one feedfwd-backprop step\n",
    "\n",
    "checkpointer = callbacks.ModelCheckpoint (\n",
    "    filepath=os.path.join ('model','model.w.best.h5'),\n",
    "    verbose=1,\n",
    "    save_best_only=True)\n",
    "\n",
    "history = model.fit (X_train, y_train,\n",
    "                     epochs=PARAM_MAX_EPOCHS, batch_size=PARAM_N_BATCH, validation_split=0.1, shuffle=True,\n",
    "                     callbacks=[checkpointer], verbose=1)"
   ]
  },
  {
   "cell_type": "markdown",
   "metadata": {},
   "source": [
    "### Model evaluation and comparison"
   ]
  },
  {
   "cell_type": "code",
   "execution_count": 55,
   "metadata": {},
   "outputs": [
    {
     "name": "stdout",
     "output_type": "stream",
     "text": [
      "dict_keys(['loss', 'fbeta', 'val_loss', 'val_fbeta'])\n"
     ]
    }
   ],
   "source": [
    "print (history.history.keys())"
   ]
  },
  {
   "cell_type": "code",
   "execution_count": 56,
   "metadata": {},
   "outputs": [
    {
     "data": {
      "image/png": "[encoded data removed]",
      "text/plain": [
       "<Figure size 1080x360 with 2 Axes>"
      ]
     },
     "metadata": {},
     "output_type": "display_data"
    }
   ],
   "source": [
    "import matplotlib.pyplot as plt\n",
    "%matplotlib inline\n",
    "\n",
    "fig, axs = plt.subplots (1, 2)\n",
    "\n",
    "# summarize history for accuracy\n",
    "axs[0].plot (history.history['fbeta'])\n",
    "if 'val_fbeta' in history.history:\n",
    "    axs[0].plot (history.history['val_fbeta'])\n",
    "axs[0].set (xlabel='epoch', ylabel='fbeta score', title='model fbeta score')\n",
    "axs[0].legend (['train', 'validation'], loc='upper left')\n",
    "\n",
    "# summarize history for loss\n",
    "axs[1].plot (history.history['loss'])\n",
    "if 'val_loss' in history.history:\n",
    "    axs[1].plot (history.history['val_loss'])\n",
    "axs[1].set (xlabel='epoch', ylabel='loss', title='model loss')\n",
    "axs[1].legend (['train', 'validation'], loc='upper left')\n",
    "\n",
    "fig.set_size_inches ((15., 5.), forward=True)\n",
    "plt.show ()"
   ]
  },
  {
   "cell_type": "code",
   "execution_count": 63,
   "metadata": {},
   "outputs": [
    {
     "name": "stdout",
     "output_type": "stream",
     "text": [
      ">>> saving model... done\n"
     ]
    }
   ],
   "source": [
    "# SERIALIZATION OF MODEL ARCHITECTURE\n",
    "\n",
    "import os\n",
    "\n",
    "save_name = os.path.join ('model', 'model.arch.yaml')\n",
    "\n",
    "print ('>>> saving model...', end=' ', flush=True)\n",
    "yaml_string = model.to_yaml ()\n",
    "with open (save_name, 'w') as yaml_file:\n",
    "    yaml_file.write (yaml_string)\n",
    "print ('done')"
   ]
  },
  {
   "cell_type": "code",
   "execution_count": 65,
   "metadata": {},
   "outputs": [
    {
     "name": "stdout",
     "output_type": "stream",
     "text": [
      ">>> loading and compiling model... done\n",
      ">>> loading best weights into model... done\n",
      "24/24 [==============================] - 0s 18ms/step\n",
      "[0.04888246953487396, 1.0]\n"
     ]
    }
   ],
   "source": [
    "# load model architecture\n",
    "from keras import models\n",
    "\n",
    "print ('>>> loading and compiling model...', end=' ', flush=True)\n",
    "with open (save_name, 'r') as yaml_file:\n",
    "    yaml_string = yaml_file.read ()\n",
    "model = models.model_from_yaml (yaml_string)\n",
    "model.compile (optimizer=opt_sgd, loss=losses.mean_squared_error, metrics=[fbeta])\n",
    "print ('done')\n",
    "\n",
    "# load best weights\n",
    "print ('>>> loading best weights into model...', end=' ', flush=True)\n",
    "model.load_weights (os.path.join ('model','model.w.best.h5'))\n",
    "print ('done')\n",
    "\n",
    "score = model.evaluate (X_test, y_test, verbose=1)\n",
    "print (score)"
   ]
  },
  {
   "cell_type": "code",
   "execution_count": 67,
   "metadata": {},
   "outputs": [
    {
     "name": "stdout",
     "output_type": "stream",
     "text": [
      "src_spectro/4-0/TROEPPK128F92F33EC.png\n",
      "y_true 4-0\n",
      "y_pred 8-0\n"
     ]
    }
   ],
   "source": [
    "idx = 20\n",
    "test_file = src_spectro_data['filenames'][idx]\n",
    "\n",
    "test_spectro = path_to_tensor (test_file)\n",
    "test_pred = model.predict (test_spectro)\n",
    "\n",
    "print (test_file)\n",
    "print ('y_true', src_spectro_data['target_names'][src_spectro_data['target'][idx]])\n",
    "print ('y_pred', src_spectro_data['target_names'][test_pred.argmax ()])"
   ]
  },
  {
   "cell_type": "code",
   "execution_count": null,
   "metadata": {},
   "outputs": [],
   "source": []
  }
 ],
 "metadata": {
  "kernelspec": {
   "display_name": "Python 3",
   "language": "python",
   "name": "python3"
  },
  "language_info": {
   "codemirror_mode": {
    "name": "ipython",
    "version": 3
   },
   "file_extension": ".py",
   "mimetype": "text/x-python",
   "name": "python",
   "nbconvert_exporter": "python",
   "pygments_lexer": "ipython3",
   "version": "3.5.2"
  }
 },
 "nbformat": 4,
 "nbformat_minor": 2
}
