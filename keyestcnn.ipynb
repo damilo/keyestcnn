{
 "cells": [
  {
   "cell_type": "markdown",
   "metadata": {},
   "source": [
    "# Audio key estimation of digital music with CNNs\n",
    "Udacity Machine Learning Nanodegree - Capstone project\n",
    "\n",
    "---"
   ]
  },
  {
   "cell_type": "markdown",
   "metadata": {},
   "source": [
    "## Table of Contents\n",
    "\n",
    "The project is structured as stated in section 'Project Design' of the Capstone project proposal.\n",
    "\n",
    "_\n",
    "<pre>\n",
    "<a href='#Data-Preprocessing'>Data Preprocessing</a>\n",
    "  <a href='#Million-Song-Dataset'>Million Song Dataset</a> - selection of appropriate songs, separate jupyter notebook\n",
    "  <a href='#Signal-Processing-and-Feature-Extraction'>Signal Processing and Feature Extraction</a> - separate jupyter notebook\n",
    "\n",
    "<a href='#Model-Preparation'>Model Preparation</a>\n",
    "  <a href='#Load-and-prepare-data'>Load and prepare data</a> - read spectrogram images, conversion to tensors\n",
    "  <a href='#Split-data-into-train-and-test-set'>Splitting data into training/testing sets</a>\n",
    "  <a href='#Model-architecture'>CNN model architecture</a>\n",
    "  <a href='#Model-parameter'>CNN model parameter</a>\n",
    "\n",
    "<a href='#Model-Training-and-Evaluation'>Model Training and Evaluation</a>\n",
    "  <a href='#Model-training'>Model training</a>\n",
    "  <a href='#Model-evaluation-and-comparison'>Model evaluation and comparison</a>\n",
    "</pre>"
   ]
  },
  {
   "cell_type": "markdown",
   "metadata": {},
   "source": [
    "Current version of the project is working, but\n",
    "\n",
    "the project is still ongoing...\n",
    "\n",
    "discussion and remarks of what to do can be found in section\n",
    "\n",
    "<a href='#reasons-/-todo'>reasons / todo</a>"
   ]
  },
  {
   "cell_type": "markdown",
   "metadata": {},
   "source": [
    "## Data Preprocessing\n",
    "---"
   ]
  },
  {
   "cell_type": "markdown",
   "metadata": {},
   "source": [
    "### Million Song Dataset\n",
    "- utilized to select appropriate song samples\n",
    "- holds information about key and mode per song (targets)"
   ]
  },
  {
   "cell_type": "markdown",
   "metadata": {},
   "source": [
    "Juypter Notebook <a href='./00.hlp/msd/msd.ipynb'>msd</a>\n",
    "\n",
    "outputs: csv file *songs_conf=75_tracks_filt.csv*, which holds all songs with key confidence and mode confidence > 0.75"
   ]
  },
  {
   "cell_type": "code",
   "execution_count": 1,
   "metadata": {},
   "outputs": [
    {
     "data": {
      "text/html": [
       "<div>\n",
       "<style scoped>\n",
       "    .dataframe tbody tr th:only-of-type {\n",
       "        vertical-align: middle;\n",
       "    }\n",
       "\n",
       "    .dataframe tbody tr th {\n",
       "        vertical-align: top;\n",
       "    }\n",
       "\n",
       "    .dataframe thead th {\n",
       "        text-align: right;\n",
       "    }\n",
       "</style>\n",
       "<table border=\"1\" class=\"dataframe\">\n",
       "  <thead>\n",
       "    <tr style=\"text-align: right;\">\n",
       "      <th></th>\n",
       "      <th>key</th>\n",
       "      <th>key_confidence</th>\n",
       "      <th>mode</th>\n",
       "      <th>mode_confidence</th>\n",
       "      <th>tempo</th>\n",
       "      <th>track_id</th>\n",
       "      <th>song_id</th>\n",
       "      <th>artist_name</th>\n",
       "      <th>song_title</th>\n",
       "    </tr>\n",
       "  </thead>\n",
       "  <tbody>\n",
       "    <tr>\n",
       "      <th>0</th>\n",
       "      <td>7</td>\n",
       "      <td>0.896</td>\n",
       "      <td>1</td>\n",
       "      <td>0.852</td>\n",
       "      <td>114.493</td>\n",
       "      <td>TRMMMGL128F92FD6AB</td>\n",
       "      <td>SOHSSPG12A8C144BE0</td>\n",
       "      <td>Clifford T. Ward</td>\n",
       "      <td>Mad About You</td>\n",
       "    </tr>\n",
       "  </tbody>\n",
       "</table>\n",
       "</div>"
      ],
      "text/plain": [
       "   key  key_confidence  mode  mode_confidence    tempo            track_id  \\\n",
       "0    7           0.896     1            0.852  114.493  TRMMMGL128F92FD6AB   \n",
       "\n",
       "              song_id       artist_name     song_title  \n",
       "0  SOHSSPG12A8C144BE0  Clifford T. Ward  Mad About You  "
      ]
     },
     "metadata": {},
     "output_type": "display_data"
    },
    {
     "name": "stdout",
     "output_type": "stream",
     "text": [
      "[i] number of records: 47913\n"
     ]
    }
   ],
   "source": [
    "# LIST SELECTED SONGS\n",
    "import os\n",
    "import pandas as pd\n",
    "from IPython.display import display\n",
    "\n",
    "selsongsfile = os.path.join ('00.hlp', 'msd', 'songs_conf=75_tracks_filt.csv')\n",
    "selsongs = pd.read_csv (selsongsfile, header=0, index_col=0)\n",
    "display (selsongs.head (1))\n",
    "print ('[i] number of records:', len (selsongs))"
   ]
  },
  {
   "cell_type": "code",
   "execution_count": 2,
   "metadata": {},
   "outputs": [],
   "source": [
    "# LOAD AUDIO DATASET\n",
    "import os\n",
    "import numpy as np\n",
    "from sklearn import datasets\n",
    "\n",
    "PARAM_RND_STATE = 42\n",
    "\n",
    "container_path = os.path.join ('src_audio')\n",
    "load_content = False\n",
    "description = ['key C, mode minor', 'key C, mode major',\n",
    "               'key C#, mode minor', 'key C#, mode major',\n",
    "               'key D, mode minor', 'key D, mode major',\n",
    "               'key D#, mode minor', 'key D#, mode major',\n",
    "               'key E, mode minor', 'key E, mode major',\n",
    "               'key F, mode minor', 'key F, mode major',\n",
    "               'key F#, mode minor', 'key F#, mode major',\n",
    "               'key G, mode minor', 'key G, mode major',\n",
    "               'key G#, mode minor', 'key G#, mode major',\n",
    "               'key A, mode minor', 'key A, mode major',\n",
    "               'key A#, mode minor', 'key A#, mode major',\n",
    "               'key B, mode minor', 'key B, mode major']\n",
    "\n",
    "src_audio_data = datasets.load_files (container_path=container_path,\n",
    "                                      description=description,\n",
    "                                      load_content=load_content,\n",
    "                                      random_state=PARAM_RND_STATE)"
   ]
  },
  {
   "cell_type": "code",
   "execution_count": 4,
   "metadata": {},
   "outputs": [
    {
     "data": {
      "text/html": [
       "<div>\n",
       "<style scoped>\n",
       "    .dataframe tbody tr th:only-of-type {\n",
       "        vertical-align: middle;\n",
       "    }\n",
       "\n",
       "    .dataframe tbody tr th {\n",
       "        vertical-align: top;\n",
       "    }\n",
       "\n",
       "    .dataframe thead th {\n",
       "        text-align: right;\n",
       "    }\n",
       "</style>\n",
       "<table border=\"1\" class=\"dataframe\">\n",
       "  <thead>\n",
       "    <tr style=\"text-align: right;\">\n",
       "      <th></th>\n",
       "      <th>key</th>\n",
       "      <th>key_confidence</th>\n",
       "      <th>mode</th>\n",
       "      <th>mode_confidence</th>\n",
       "      <th>tempo</th>\n",
       "      <th>track_id</th>\n",
       "      <th>song_id</th>\n",
       "      <th>artist_name</th>\n",
       "      <th>song_title</th>\n",
       "    </tr>\n",
       "  </thead>\n",
       "  <tbody>\n",
       "    <tr>\n",
       "      <th>8519</th>\n",
       "      <td>11</td>\n",
       "      <td>1.000</td>\n",
       "      <td>1</td>\n",
       "      <td>1.000</td>\n",
       "      <td>120.637</td>\n",
       "      <td>TRCJFML128F425F625</td>\n",
       "      <td>SOMDRWH12A8C1351D0</td>\n",
       "      <td>Joe Christmas</td>\n",
       "      <td>Sonnet 61</td>\n",
       "    </tr>\n",
       "    <tr>\n",
       "      <th>33783</th>\n",
       "      <td>2</td>\n",
       "      <td>0.959</td>\n",
       "      <td>0</td>\n",
       "      <td>0.937</td>\n",
       "      <td>89.469</td>\n",
       "      <td>TRJQUAR128F9336E73</td>\n",
       "      <td>SOIQHFF12AB018745F</td>\n",
       "      <td>Mariee Sioux</td>\n",
       "      <td>Love Song</td>\n",
       "    </tr>\n",
       "    <tr>\n",
       "      <th>31721</th>\n",
       "      <td>9</td>\n",
       "      <td>1.000</td>\n",
       "      <td>1</td>\n",
       "      <td>1.000</td>\n",
       "      <td>143.093</td>\n",
       "      <td>TRERTES128F426EA61</td>\n",
       "      <td>SOKGLAB12A8C132D24</td>\n",
       "      <td>Mad Season</td>\n",
       "      <td>Artifical Red</td>\n",
       "    </tr>\n",
       "    <tr>\n",
       "      <th>24744</th>\n",
       "      <td>4</td>\n",
       "      <td>1.000</td>\n",
       "      <td>1</td>\n",
       "      <td>0.988</td>\n",
       "      <td>130.772</td>\n",
       "      <td>TRPNLNH12903CC90CD</td>\n",
       "      <td>SOSZNNV12AB0186A54</td>\n",
       "      <td>OHM</td>\n",
       "      <td>Common Sense</td>\n",
       "    </tr>\n",
       "    <tr>\n",
       "      <th>31147</th>\n",
       "      <td>4</td>\n",
       "      <td>1.000</td>\n",
       "      <td>1</td>\n",
       "      <td>0.960</td>\n",
       "      <td>94.544</td>\n",
       "      <td>TRLOXSL128F1484144</td>\n",
       "      <td>SOGYLOK12A6D4F9435</td>\n",
       "      <td>Orson</td>\n",
       "      <td>Happiness</td>\n",
       "    </tr>\n",
       "  </tbody>\n",
       "</table>\n",
       "</div>"
      ],
      "text/plain": [
       "       key  key_confidence  mode  mode_confidence    tempo  \\\n",
       "8519    11           1.000     1            1.000  120.637   \n",
       "33783    2           0.959     0            0.937   89.469   \n",
       "31721    9           1.000     1            1.000  143.093   \n",
       "24744    4           1.000     1            0.988  130.772   \n",
       "31147    4           1.000     1            0.960   94.544   \n",
       "\n",
       "                 track_id             song_id    artist_name     song_title  \n",
       "8519   TRCJFML128F425F625  SOMDRWH12A8C1351D0  Joe Christmas      Sonnet 61  \n",
       "33783  TRJQUAR128F9336E73  SOIQHFF12AB018745F   Mariee Sioux      Love Song  \n",
       "31721  TRERTES128F426EA61  SOKGLAB12A8C132D24     Mad Season  Artifical Red  \n",
       "24744  TRPNLNH12903CC90CD  SOSZNNV12AB0186A54            OHM   Common Sense  \n",
       "31147  TRLOXSL128F1484144  SOGYLOK12A6D4F9435          Orson      Happiness  "
      ]
     },
     "metadata": {},
     "output_type": "display_data"
    },
    {
     "name": "stdout",
     "output_type": "stream",
     "text": [
      "[i] number of records: 240\n",
      "[i] min of: key_confidence = 0.809 , mode_confidence = 0.777\n",
      "[i] tempo: min = 0.0 , max = 248.32299999999998\n"
     ]
    }
   ],
   "source": [
    "# FYI: LIST SOME OF THE USED SONGS\n",
    "filenames = list (os.path.basename (filepath) for filepath in src_audio_data['filenames'])\n",
    "usedsongs_track_id = list (os.path.splitext (fn)[0] for fn in filenames)\n",
    "usedsongs = selsongs.query ('track_id in @usedsongs_track_id')\n",
    "\n",
    "display (usedsongs.sample(5))\n",
    "print ('[i] number of records:', len (usedsongs))\n",
    "print ('[i] min of: key_confidence =', usedsongs['key_confidence'].min (), ',', \\\n",
    "       'mode_confidence =', usedsongs['mode_confidence'].min ())\n",
    "print ('[i] tempo: min =', usedsongs['tempo'].min (), ',', \\\n",
    "       'max =', usedsongs['tempo'].max ())"
   ]
  },
  {
   "cell_type": "markdown",
   "metadata": {},
   "source": [
    "### Signal Processing and Feature Extraction\n",
    "- create spectrograms of audio files with discrete Fourier transform (DFT)\n",
    "- save spectrograms as images for further use in CNN"
   ]
  },
  {
   "cell_type": "markdown",
   "metadata": {},
   "source": [
    "Juypter Notebook <a href='./00.hlp/fft/fft.ipynb'>fft</a>\n",
    "\n",
    "ouptuts: spectrograms (png images) of audio files with same folder structure as *src_audio* in new container path named *src_spectro*"
   ]
  },
  {
   "cell_type": "markdown",
   "metadata": {},
   "source": [
    "**Example of a spectrogram image**\n",
    "\n",
    "<img src ='./src_spectro/7-0/TREDRTV12903D03829.png' align=left>"
   ]
  },
  {
   "cell_type": "markdown",
   "metadata": {},
   "source": [
    "## Model Preparation\n",
    "---"
   ]
  },
  {
   "cell_type": "markdown",
   "metadata": {},
   "source": [
    "### Load and prepare data"
   ]
  },
  {
   "cell_type": "code",
   "execution_count": 1,
   "metadata": {},
   "outputs": [
    {
     "data": {
      "text/plain": [
       "dict_keys(['target', 'DESCR', 'filenames', 'target_names'])"
      ]
     },
     "execution_count": 1,
     "metadata": {},
     "output_type": "execute_result"
    }
   ],
   "source": [
    "# LOAD SPECTROGRAM FILENAMES\n",
    "import os\n",
    "import numpy as np\n",
    "from sklearn import datasets\n",
    "\n",
    "PARAM_RND_STATE = 42\n",
    "\n",
    "container_path = os.path.join ('src_spectro')\n",
    "load_content = False\n",
    "description = ['key C, mode minor', 'key C, mode major',\n",
    "               'key C#, mode minor', 'key C#, mode major',\n",
    "               'key D, mode minor', 'key D, mode major',\n",
    "               'key D#, mode minor', 'key D#, mode major',\n",
    "               'key E, mode minor', 'key E, mode major',\n",
    "               'key F, mode minor', 'key F, mode major',\n",
    "               'key F#, mode minor', 'key F#, mode major',\n",
    "               'key G, mode minor', 'key G, mode major',\n",
    "               'key G#, mode minor', 'key G#, mode major',\n",
    "               'key A, mode minor', 'key A, mode major',\n",
    "               'key A#, mode minor', 'key A#, mode major',\n",
    "               'key B, mode minor', 'key B, mode major']\n",
    "\n",
    "src_spectro_data = datasets.load_files (container_path=container_path,\n",
    "                                        description=description,\n",
    "                                        load_content=load_content,\n",
    "                                        random_state=PARAM_RND_STATE)\n",
    "src_spectro_data.keys ()"
   ]
  },
  {
   "cell_type": "code",
   "execution_count": 2,
   "metadata": {},
   "outputs": [
    {
     "name": "stdout",
     "output_type": "stream",
     "text": [
      "[i] example of loaded spectrogram file data:\n",
      "    spectrogram image name: src_spectro/1-0/TRLZZOJ128F1494C12.png\n",
      "    spectrogram image key-mode pair: 1-0 = key C#, mode minor = target class 2\n"
     ]
    }
   ],
   "source": [
    "print ('[i] example of loaded spectrogram file data:')\n",
    "print ('    spectrogram image name:', src_spectro_data['filenames'][0])\n",
    "print ('    spectrogram image key-mode pair:',\\\n",
    "       src_spectro_data['target_names'][src_spectro_data['target'][0]],\\\n",
    "       '=', src_spectro_data['DESCR'][src_spectro_data['target'][0]],\\\n",
    "       '= target class', src_spectro_data['target'][0])"
   ]
  },
  {
   "cell_type": "markdown",
   "metadata": {},
   "source": [
    "**Read in images, convert to tensors**\n",
    "\n",
    "Keras Conv2D layers expect a **4D tensor with shape (batch, rows, cols, channels)** (if param data_format='channels_last') (src: <a href='https://keras.io/layers/convolutional/#conv2d'>Keras Conv2D</a>)"
   ]
  },
  {
   "cell_type": "code",
   "execution_count": 3,
   "metadata": {},
   "outputs": [
    {
     "name": "stdout",
     "output_type": "stream",
     "text": [
      "[i] image size: (150, 128)\n",
      "[i] pixel format: RGB\n"
     ]
    }
   ],
   "source": [
    "# open a random image and take a look at the attributes\n",
    "import numpy as np\n",
    "from PIL import Image\n",
    "\n",
    "im = Image.open (src_spectro_data['filenames'][0])\n",
    "print ('[i] image size:', im.size)\n",
    "print ('[i] pixel format:', im.mode)"
   ]
  },
  {
   "cell_type": "markdown",
   "metadata": {},
   "source": [
    "images are of size (150, 128) and have 3 channels\n",
    "\n",
    "for CNN: no need to change target size\n",
    "\n",
    "below functions read images and convert those to tensors - code taken from Udacity MLND dog-project"
   ]
  },
  {
   "cell_type": "code",
   "execution_count": 4,
   "metadata": {},
   "outputs": [
    {
     "name": "stderr",
     "output_type": "stream",
     "text": [
      "Using TensorFlow backend.\n"
     ]
    }
   ],
   "source": [
    "from keras.preprocessing import image                  \n",
    "from tqdm import tqdm\n",
    "\n",
    "def path_to_tensor (img_path):\n",
    "    # loads RGB image as PIL.Image.Image type\n",
    "    img = image.load_img (img_path, color_mode='grayscale')#, target_size=(88, 88))\n",
    "    # convert PIL.Image.Image type to 3D tensor\n",
    "    x = image.img_to_array (img)\n",
    "    # convert 3D tensor to 4D tensor\n",
    "    return np.expand_dims (x, axis=0)\n",
    "\n",
    "def paths_to_tensor (img_paths):\n",
    "    list_of_tensors = [path_to_tensor (img_path) for img_path in tqdm (img_paths)]\n",
    "    return np.vstack (list_of_tensors)"
   ]
  },
  {
   "cell_type": "code",
   "execution_count": 5,
   "metadata": {},
   "outputs": [
    {
     "name": "stderr",
     "output_type": "stream",
     "text": [
      "100%|██████████| 240/240 [00:00<00:00, 1167.65it/s]\n"
     ]
    }
   ],
   "source": [
    "from PIL import ImageFile                            \n",
    "ImageFile.LOAD_TRUNCATED_IMAGES = True                 \n",
    "\n",
    "spectro_tensors = paths_to_tensor (src_spectro_data['filenames'])#.astype ('float32') / 255"
   ]
  },
  {
   "cell_type": "code",
   "execution_count": 6,
   "metadata": {},
   "outputs": [
    {
     "name": "stdout",
     "output_type": "stream",
     "text": [
      "[i] shape of spectrogram tensors: (240, 128, 150, 1)\n"
     ]
    }
   ],
   "source": [
    "print ('[i] shape of spectrogram tensors:', spectro_tensors.shape)"
   ]
  },
  {
   "cell_type": "code",
   "execution_count": 7,
   "metadata": {},
   "outputs": [
    {
     "name": "stdout",
     "output_type": "stream",
     "text": [
      "[i] number of output classes: 24\n"
     ]
    }
   ],
   "source": [
    "from keras.utils import np_utils\n",
    "targets = np_utils.to_categorical (np.array (src_spectro_data['target']), 24)\n",
    "print ('[i] number of output classes:', targets.shape[1])"
   ]
  },
  {
   "cell_type": "markdown",
   "metadata": {},
   "source": [
    "### Split data into train and test set"
   ]
  },
  {
   "cell_type": "code",
   "execution_count": 8,
   "metadata": {},
   "outputs": [
    {
     "name": "stdout",
     "output_type": "stream",
     "text": [
      "[i] Training dataset consists of 216 samples\n",
      "[i] Testing dataset consists of 24 samples\n"
     ]
    }
   ],
   "source": [
    "from sklearn.model_selection import train_test_split\n",
    "\n",
    "X_train, X_test, y_train, y_test = \\\n",
    "    train_test_split (spectro_tensors, targets, test_size=0.10, shuffle=True, random_state=PARAM_RND_STATE)\n",
    "\n",
    "print ('[i] Training dataset consists of {} samples'.format (X_train.shape[0]))\n",
    "print ('[i] Testing dataset consists of {} samples'.format (X_test.shape[0]))"
   ]
  },
  {
   "cell_type": "markdown",
   "metadata": {},
   "source": [
    "### Model architecture"
   ]
  },
  {
   "cell_type": "code",
   "execution_count": 9,
   "metadata": {},
   "outputs": [
    {
     "name": "stdout",
     "output_type": "stream",
     "text": [
      "_________________________________________________________________\n",
      "Layer (type)                 Output Shape              Param #   \n",
      "=================================================================\n",
      "input (InputLayer)           (None, 128, 150, 1)       0         \n",
      "_________________________________________________________________\n",
      "conv2d_1 (Conv2D)            (None, 128, 150, 16)      32        \n",
      "_________________________________________________________________\n",
      "conv2d_2 (Conv2D)            (None, 128, 150, 32)      2080      \n",
      "_________________________________________________________________\n",
      "maxp_2 (MaxPooling2D)        (None, 64, 75, 32)        0         \n",
      "_________________________________________________________________\n",
      "conv2d_3 (Conv2D)            (None, 64, 75, 64)        8256      \n",
      "_________________________________________________________________\n",
      "maxp_3 (MaxPooling2D)        (None, 32, 37, 64)        0         \n",
      "_________________________________________________________________\n",
      "avg_flatten (GlobalAveragePo (None, 64)                0         \n",
      "_________________________________________________________________\n",
      "output (Dense)               (None, 24)                1560      \n",
      "=================================================================\n",
      "Total params: 11,928\n",
      "Trainable params: 11,928\n",
      "Non-trainable params: 0\n",
      "_________________________________________________________________\n"
     ]
    }
   ],
   "source": [
    "from keras import layers, models\n",
    "from keras import backend as K\n",
    "\n",
    "# clear everything known of past instances (\"useful to avoid clutter from old models / layers\")\n",
    "K.clear_session ()\n",
    "\n",
    "# input layer\n",
    "inputs = layers.Input (shape=spectro_tensors.shape[1:], name='input')\n",
    "\n",
    "# hidden layers\n",
    "net = layers.Conv2D (filters=16, kernel_size=(1,1), strides=(1,1),\n",
    "                     padding='same', # don't lose information due to conv window runs out of image / strides = 1 = OK\n",
    "                     activation='relu',\n",
    "                     name='conv2d_1') (inputs)\n",
    "#net = layers.MaxPooling2D (pool_size=(2,2), strides=None, name='maxp_1') (net)\n",
    "\n",
    "net = layers.Conv2D (filters=32, kernel_size=(2,2), strides=(1,1),\n",
    "              padding='same',\n",
    "              activation='relu',\n",
    "              name='conv2d_2') (net)\n",
    "net = layers.MaxPooling2D (pool_size=(2,2), strides=None, name='maxp_2') (net)\n",
    "\n",
    "net = layers.Conv2D (filters=64, kernel_size=(2,2), strides=(1,1),\n",
    "              padding='same',\n",
    "              activation='relu',\n",
    "              name='conv2d_3') (net)\n",
    "net = layers.MaxPooling2D (pool_size=(2,2), strides=None, name='maxp_3') (net)\n",
    "\n",
    "#net = layers.Conv2D (filters=64, kernel_size=(2,2), strides=(1,1),\n",
    "#              padding='same',\n",
    "#              activation='relu',\n",
    "#              name='conv2d_4') (net)\n",
    "#net = layers.MaxPooling2D (pool_size=(2,2), strides=None, name='maxp_4') (net)\n",
    "\n",
    "# 'flatten layer'\n",
    "net = layers.GlobalAveragePooling2D (name='avg_flatten') (net)\n",
    "\n",
    "# output layer\n",
    "outputs = layers.Dense (units=targets.shape[1], activation='softmax', name='output') (net)\n",
    "\n",
    "\n",
    "model = models.Model (inputs=inputs, outputs=outputs)\n",
    "model.summary ()"
   ]
  },
  {
   "cell_type": "markdown",
   "metadata": {},
   "source": [
    "### Model parameter\n",
    "(metric, loss function)"
   ]
  },
  {
   "cell_type": "code",
   "execution_count": 10,
   "metadata": {},
   "outputs": [],
   "source": [
    "# from: Arseny Kravchenko http://arseny.info/2017/f-beta-score-for-keras.html\n",
    "from keras import backend as K\n",
    "\n",
    "PARAM_BETA = 1\n",
    "def fbeta (y_true, y_pred):\n",
    "\n",
    "    # just in case of hipster activation at the final layer\n",
    "    y_pred = K.clip (y_pred, 0, 1)\n",
    "\n",
    "    tp = K.sum (K.round (y_true * y_pred)) + K.epsilon ()\n",
    "    fp = K.sum (K.round (K.clip (y_pred - y_true, 0, 1)))\n",
    "    fn = K.sum (K.round (K.clip (y_true - y_pred, 0, 1)))\n",
    "\n",
    "    precision = tp / (tp + fp)\n",
    "    recall = tp / (tp + fn)\n",
    "\n",
    "    beta_squared = PARAM_BETA ** 2\n",
    "    return (beta_squared + 1) * (precision * recall) / (beta_squared * precision + recall)"
   ]
  },
  {
   "cell_type": "code",
   "execution_count": 11,
   "metadata": {},
   "outputs": [],
   "source": [
    "from keras import optimizers, losses\n",
    "\n",
    "PARAM_LR = 0.0001\n",
    "opt_sgd = optimizers.SGD (lr=PARAM_LR, momentum=0.8)\n",
    "opt_adamax = optimizers.Adamax (lr=PARAM_LR, beta_1=0.9, beta_2=0.999, epsilon=None, decay=0.0)\n",
    "\n",
    "\n",
    "model.compile (optimizer=opt_sgd, loss=losses.mean_squared_error, metrics=[fbeta])"
   ]
  },
  {
   "cell_type": "markdown",
   "metadata": {},
   "source": [
    "## Model Training and Evaluation\n",
    "---"
   ]
  },
  {
   "cell_type": "markdown",
   "metadata": {},
   "source": [
    "### Model training"
   ]
  },
  {
   "cell_type": "code",
   "execution_count": 12,
   "metadata": {
    "scrolled": true
   },
   "outputs": [
    {
     "name": "stdout",
     "output_type": "stream",
     "text": [
      "Train on 194 samples, validate on 22 samples\n",
      "Epoch 1/100\n",
      "194/194 [==============================] - 11s 55ms/step - loss: 0.0477 - fbeta: 0.0086 - val_loss: 0.0444 - val_fbeta: 0.0826\n",
      "\n",
      "Epoch 00001: val_loss improved from inf to 0.04445, saving model to model/model.w.best.h5\n",
      "Epoch 2/100\n",
      "194/194 [==============================] - 10s 52ms/step - loss: 0.0473 - fbeta: 0.0094 - val_loss: 0.0443 - val_fbeta: 2.7273e-08\n",
      "\n",
      "Epoch 00002: val_loss improved from 0.04445 to 0.04426, saving model to model/model.w.best.h5\n",
      "Epoch 3/100\n",
      "194/194 [==============================] - 10s 51ms/step - loss: 0.0470 - fbeta: 1.9963e-08 - val_loss: 0.0441 - val_fbeta: 2.7273e-08\n",
      "\n",
      "Epoch 00003: val_loss improved from 0.04426 to 0.04408, saving model to model/model.w.best.h5\n",
      "Epoch 4/100\n",
      "194/194 [==============================] - 10s 52ms/step - loss: 0.0467 - fbeta: 2.0166e-08 - val_loss: 0.0439 - val_fbeta: 2.7273e-08\n",
      "\n",
      "Epoch 00004: val_loss improved from 0.04408 to 0.04394, saving model to model/model.w.best.h5\n",
      "Epoch 5/100\n",
      "194/194 [==============================] - 10s 52ms/step - loss: 0.0465 - fbeta: 2.0337e-08 - val_loss: 0.0438 - val_fbeta: 2.7273e-08\n",
      "\n",
      "Epoch 00005: val_loss improved from 0.04394 to 0.04382, saving model to model/model.w.best.h5\n",
      "Epoch 6/100\n",
      "194/194 [==============================] - 10s 52ms/step - loss: 0.0463 - fbeta: 2.0337e-08 - val_loss: 0.0437 - val_fbeta: 2.7273e-08\n",
      "\n",
      "Epoch 00006: val_loss improved from 0.04382 to 0.04371, saving model to model/model.w.best.h5\n",
      "Epoch 7/100\n",
      "194/194 [==============================] - 10s 52ms/step - loss: 0.0461 - fbeta: 2.0619e-08 - val_loss: 0.0436 - val_fbeta: 2.7273e-08\n",
      "\n",
      "Epoch 00007: val_loss improved from 0.04371 to 0.04361, saving model to model/model.w.best.h5\n",
      "Epoch 8/100\n",
      "194/194 [==============================] - 10s 52ms/step - loss: 0.0459 - fbeta: 2.0619e-08 - val_loss: 0.0435 - val_fbeta: 2.7273e-08\n",
      "\n",
      "Epoch 00008: val_loss improved from 0.04361 to 0.04353, saving model to model/model.w.best.h5\n",
      "Epoch 9/100\n",
      "194/194 [==============================] - 10s 52ms/step - loss: 0.0457 - fbeta: 2.0619e-08 - val_loss: 0.0434 - val_fbeta: 2.7273e-08\n",
      "\n",
      "Epoch 00009: val_loss improved from 0.04353 to 0.04345, saving model to model/model.w.best.h5\n",
      "Epoch 10/100\n",
      "194/194 [==============================] - 10s 52ms/step - loss: 0.0456 - fbeta: 2.0619e-08 - val_loss: 0.0434 - val_fbeta: 2.7273e-08\n",
      "\n",
      "Epoch 00010: val_loss improved from 0.04345 to 0.04338, saving model to model/model.w.best.h5\n",
      "Epoch 11/100\n",
      "194/194 [==============================] - 10s 52ms/step - loss: 0.0454 - fbeta: 2.0619e-08 - val_loss: 0.0433 - val_fbeta: 2.7273e-08\n",
      "\n",
      "Epoch 00011: val_loss improved from 0.04338 to 0.04332, saving model to model/model.w.best.h5\n",
      "Epoch 12/100\n",
      "194/194 [==============================] - 10s 52ms/step - loss: 0.0453 - fbeta: 2.0619e-08 - val_loss: 0.0433 - val_fbeta: 2.7273e-08\n",
      "\n",
      "Epoch 00012: val_loss improved from 0.04332 to 0.04326, saving model to model/model.w.best.h5\n",
      "Epoch 13/100\n",
      "194/194 [==============================] - 10s 52ms/step - loss: 0.0452 - fbeta: 2.0619e-08 - val_loss: 0.0432 - val_fbeta: 2.7273e-08\n",
      "\n",
      "Epoch 00013: val_loss improved from 0.04326 to 0.04321, saving model to model/model.w.best.h5\n",
      "Epoch 14/100\n",
      "194/194 [==============================] - 10s 51ms/step - loss: 0.0451 - fbeta: 2.0619e-08 - val_loss: 0.0432 - val_fbeta: 2.7273e-08\n",
      "\n",
      "Epoch 00014: val_loss improved from 0.04321 to 0.04316, saving model to model/model.w.best.h5\n",
      "Epoch 15/100\n",
      "194/194 [==============================] - 10s 52ms/step - loss: 0.0450 - fbeta: 2.0619e-08 - val_loss: 0.0431 - val_fbeta: 2.7273e-08\n",
      "\n",
      "Epoch 00015: val_loss improved from 0.04316 to 0.04311, saving model to model/model.w.best.h5\n",
      "Epoch 16/100\n",
      "194/194 [==============================] - 10s 52ms/step - loss: 0.0449 - fbeta: 2.0619e-08 - val_loss: 0.0431 - val_fbeta: 2.7273e-08\n",
      "\n",
      "Epoch 00016: val_loss improved from 0.04311 to 0.04307, saving model to model/model.w.best.h5\n",
      "Epoch 17/100\n",
      "194/194 [==============================] - 10s 52ms/step - loss: 0.0448 - fbeta: 2.0619e-08 - val_loss: 0.0430 - val_fbeta: 2.7273e-08\n",
      "\n",
      "Epoch 00017: val_loss improved from 0.04307 to 0.04302, saving model to model/model.w.best.h5\n",
      "Epoch 18/100\n",
      "194/194 [==============================] - 10s 51ms/step - loss: 0.0447 - fbeta: 2.0619e-08 - val_loss: 0.0430 - val_fbeta: 2.7273e-08\n",
      "\n",
      "Epoch 00018: val_loss improved from 0.04302 to 0.04298, saving model to model/model.w.best.h5\n",
      "Epoch 19/100\n",
      "194/194 [==============================] - 10s 52ms/step - loss: 0.0446 - fbeta: 2.0619e-08 - val_loss: 0.0429 - val_fbeta: 2.7273e-08\n",
      "\n",
      "Epoch 00019: val_loss improved from 0.04298 to 0.04294, saving model to model/model.w.best.h5\n",
      "Epoch 20/100\n",
      "194/194 [==============================] - 10s 52ms/step - loss: 0.0446 - fbeta: 2.0619e-08 - val_loss: 0.0429 - val_fbeta: 2.7273e-08\n",
      "\n",
      "Epoch 00020: val_loss improved from 0.04294 to 0.04290, saving model to model/model.w.best.h5\n",
      "Epoch 21/100\n",
      "194/194 [==============================] - 11s 58ms/step - loss: 0.0445 - fbeta: 2.0619e-08 - val_loss: 0.0429 - val_fbeta: 2.7273e-08\n",
      "\n",
      "Epoch 00021: val_loss improved from 0.04290 to 0.04287, saving model to model/model.w.best.h5\n",
      "Epoch 22/100\n",
      "194/194 [==============================] - 11s 55ms/step - loss: 0.0444 - fbeta: 2.0619e-08 - val_loss: 0.0428 - val_fbeta: 2.7273e-08\n",
      "\n",
      "Epoch 00022: val_loss improved from 0.04287 to 0.04283, saving model to model/model.w.best.h5\n",
      "Epoch 23/100\n",
      "194/194 [==============================] - 10s 54ms/step - loss: 0.0443 - fbeta: 2.0619e-08 - val_loss: 0.0428 - val_fbeta: 2.7273e-08\n",
      "\n",
      "Epoch 00023: val_loss improved from 0.04283 to 0.04280, saving model to model/model.w.best.h5\n",
      "Epoch 24/100\n",
      "194/194 [==============================] - 10s 53ms/step - loss: 0.0443 - fbeta: 2.0619e-08 - val_loss: 0.0428 - val_fbeta: 2.7273e-08\n",
      "\n",
      "Epoch 00024: val_loss improved from 0.04280 to 0.04277, saving model to model/model.w.best.h5\n",
      "Epoch 25/100\n",
      "194/194 [==============================] - 10s 53ms/step - loss: 0.0442 - fbeta: 2.0619e-08 - val_loss: 0.0427 - val_fbeta: 2.7273e-08\n",
      "\n",
      "Epoch 00025: val_loss improved from 0.04277 to 0.04274, saving model to model/model.w.best.h5\n",
      "Epoch 26/100\n",
      "194/194 [==============================] - 10s 53ms/step - loss: 0.0442 - fbeta: 2.0619e-08 - val_loss: 0.0427 - val_fbeta: 2.7273e-08\n",
      "\n",
      "Epoch 00026: val_loss improved from 0.04274 to 0.04271, saving model to model/model.w.best.h5\n",
      "Epoch 27/100\n",
      "194/194 [==============================] - 11s 54ms/step - loss: 0.0441 - fbeta: 2.0619e-08 - val_loss: 0.0427 - val_fbeta: 2.7273e-08\n",
      "\n",
      "Epoch 00027: val_loss improved from 0.04271 to 0.04268, saving model to model/model.w.best.h5\n",
      "Epoch 28/100\n",
      "194/194 [==============================] - 10s 53ms/step - loss: 0.0441 - fbeta: 2.0619e-08 - val_loss: 0.0427 - val_fbeta: 2.7273e-08\n",
      "\n",
      "Epoch 00028: val_loss improved from 0.04268 to 0.04265, saving model to model/model.w.best.h5\n",
      "Epoch 29/100\n",
      "194/194 [==============================] - 11s 55ms/step - loss: 0.0440 - fbeta: 2.0619e-08 - val_loss: 0.0426 - val_fbeta: 2.7273e-08\n",
      "\n",
      "Epoch 00029: val_loss improved from 0.04265 to 0.04262, saving model to model/model.w.best.h5\n",
      "Epoch 30/100\n",
      "194/194 [==============================] - 11s 54ms/step - loss: 0.0440 - fbeta: 2.0619e-08 - val_loss: 0.0426 - val_fbeta: 2.7273e-08\n",
      "\n",
      "Epoch 00030: val_loss improved from 0.04262 to 0.04260, saving model to model/model.w.best.h5\n",
      "Epoch 31/100\n",
      "194/194 [==============================] - 10s 53ms/step - loss: 0.0439 - fbeta: 2.0619e-08 - val_loss: 0.0426 - val_fbeta: 2.7273e-08\n",
      "\n",
      "Epoch 00031: val_loss improved from 0.04260 to 0.04258, saving model to model/model.w.best.h5\n",
      "Epoch 32/100\n",
      "194/194 [==============================] - 10s 54ms/step - loss: 0.0439 - fbeta: 2.0619e-08 - val_loss: 0.0426 - val_fbeta: 2.7273e-08\n",
      "\n",
      "Epoch 00032: val_loss improved from 0.04258 to 0.04255, saving model to model/model.w.best.h5\n",
      "Epoch 33/100\n",
      "194/194 [==============================] - 11s 56ms/step - loss: 0.0438 - fbeta: 2.0619e-08 - val_loss: 0.0425 - val_fbeta: 2.7273e-08\n",
      "\n",
      "Epoch 00033: val_loss improved from 0.04255 to 0.04252, saving model to model/model.w.best.h5\n",
      "Epoch 34/100\n",
      "194/194 [==============================] - 10s 54ms/step - loss: 0.0438 - fbeta: 2.0619e-08 - val_loss: 0.0425 - val_fbeta: 2.7273e-08\n",
      "\n",
      "Epoch 00034: val_loss improved from 0.04252 to 0.04250, saving model to model/model.w.best.h5\n",
      "Epoch 35/100\n"
     ]
    },
    {
     "name": "stdout",
     "output_type": "stream",
     "text": [
      "194/194 [==============================] - 10s 53ms/step - loss: 0.0437 - fbeta: 2.0619e-08 - val_loss: 0.0425 - val_fbeta: 2.7273e-08\n",
      "\n",
      "Epoch 00035: val_loss improved from 0.04250 to 0.04248, saving model to model/model.w.best.h5\n",
      "Epoch 36/100\n",
      "194/194 [==============================] - 10s 52ms/step - loss: 0.0437 - fbeta: 2.0619e-08 - val_loss: 0.0425 - val_fbeta: 2.7273e-08\n",
      "\n",
      "Epoch 00036: val_loss improved from 0.04248 to 0.04246, saving model to model/model.w.best.h5\n",
      "Epoch 37/100\n",
      "194/194 [==============================] - 10s 52ms/step - loss: 0.0436 - fbeta: 2.0619e-08 - val_loss: 0.0424 - val_fbeta: 2.7273e-08\n",
      "\n",
      "Epoch 00037: val_loss improved from 0.04246 to 0.04244, saving model to model/model.w.best.h5\n",
      "Epoch 38/100\n",
      "194/194 [==============================] - 10s 52ms/step - loss: 0.0436 - fbeta: 2.0619e-08 - val_loss: 0.0424 - val_fbeta: 2.7273e-08\n",
      "\n",
      "Epoch 00038: val_loss improved from 0.04244 to 0.04242, saving model to model/model.w.best.h5\n",
      "Epoch 39/100\n",
      "194/194 [==============================] - 10s 52ms/step - loss: 0.0436 - fbeta: 2.0619e-08 - val_loss: 0.0424 - val_fbeta: 2.7273e-08\n",
      "\n",
      "Epoch 00039: val_loss improved from 0.04242 to 0.04240, saving model to model/model.w.best.h5\n",
      "Epoch 40/100\n",
      "194/194 [==============================] - 10s 52ms/step - loss: 0.0435 - fbeta: 2.0619e-08 - val_loss: 0.0424 - val_fbeta: 2.7273e-08\n",
      "\n",
      "Epoch 00040: val_loss improved from 0.04240 to 0.04238, saving model to model/model.w.best.h5\n",
      "Epoch 41/100\n",
      "194/194 [==============================] - 10s 52ms/step - loss: 0.0435 - fbeta: 2.0619e-08 - val_loss: 0.0424 - val_fbeta: 2.7273e-08\n",
      "\n",
      "Epoch 00041: val_loss improved from 0.04238 to 0.04237, saving model to model/model.w.best.h5\n",
      "Epoch 42/100\n",
      "194/194 [==============================] - 10s 53ms/step - loss: 0.0435 - fbeta: 2.0619e-08 - val_loss: 0.0423 - val_fbeta: 2.7273e-08\n",
      "\n",
      "Epoch 00042: val_loss improved from 0.04237 to 0.04235, saving model to model/model.w.best.h5\n",
      "Epoch 43/100\n",
      "194/194 [==============================] - 10s 52ms/step - loss: 0.0434 - fbeta: 2.0619e-08 - val_loss: 0.0423 - val_fbeta: 2.7273e-08\n",
      "\n",
      "Epoch 00043: val_loss improved from 0.04235 to 0.04233, saving model to model/model.w.best.h5\n",
      "Epoch 44/100\n",
      "194/194 [==============================] - 10s 53ms/step - loss: 0.0434 - fbeta: 2.0619e-08 - val_loss: 0.0423 - val_fbeta: 2.7273e-08\n",
      "\n",
      "Epoch 00044: val_loss improved from 0.04233 to 0.04232, saving model to model/model.w.best.h5\n",
      "Epoch 45/100\n",
      "194/194 [==============================] - 10s 53ms/step - loss: 0.0434 - fbeta: 2.0619e-08 - val_loss: 0.0423 - val_fbeta: 2.7273e-08\n",
      "\n",
      "Epoch 00045: val_loss improved from 0.04232 to 0.04230, saving model to model/model.w.best.h5\n",
      "Epoch 46/100\n",
      "194/194 [==============================] - 10s 52ms/step - loss: 0.0433 - fbeta: 2.0619e-08 - val_loss: 0.0423 - val_fbeta: 2.7273e-08\n",
      "\n",
      "Epoch 00046: val_loss improved from 0.04230 to 0.04229, saving model to model/model.w.best.h5\n",
      "Epoch 47/100\n",
      "194/194 [==============================] - 10s 52ms/step - loss: 0.0433 - fbeta: 2.0619e-08 - val_loss: 0.0423 - val_fbeta: 2.7273e-08\n",
      "\n",
      "Epoch 00047: val_loss improved from 0.04229 to 0.04227, saving model to model/model.w.best.h5\n",
      "Epoch 48/100\n",
      "194/194 [==============================] - 10s 52ms/step - loss: 0.0433 - fbeta: 2.0619e-08 - val_loss: 0.0423 - val_fbeta: 2.7273e-08\n",
      "\n",
      "Epoch 00048: val_loss improved from 0.04227 to 0.04226, saving model to model/model.w.best.h5\n",
      "Epoch 49/100\n",
      "194/194 [==============================] - 10s 52ms/step - loss: 0.0432 - fbeta: 2.0619e-08 - val_loss: 0.0422 - val_fbeta: 2.7273e-08\n",
      "\n",
      "Epoch 00049: val_loss improved from 0.04226 to 0.04224, saving model to model/model.w.best.h5\n",
      "Epoch 50/100\n",
      "194/194 [==============================] - 10s 52ms/step - loss: 0.0432 - fbeta: 2.0619e-08 - val_loss: 0.0422 - val_fbeta: 2.7273e-08\n",
      "\n",
      "Epoch 00050: val_loss improved from 0.04224 to 0.04223, saving model to model/model.w.best.h5\n",
      "Epoch 51/100\n",
      "194/194 [==============================] - 10s 52ms/step - loss: 0.0432 - fbeta: 2.0619e-08 - val_loss: 0.0422 - val_fbeta: 2.7273e-08\n",
      "\n",
      "Epoch 00051: val_loss improved from 0.04223 to 0.04222, saving model to model/model.w.best.h5\n",
      "Epoch 52/100\n",
      "194/194 [==============================] - 10s 52ms/step - loss: 0.0432 - fbeta: 2.0619e-08 - val_loss: 0.0422 - val_fbeta: 2.7273e-08\n",
      "\n",
      "Epoch 00052: val_loss improved from 0.04222 to 0.04220, saving model to model/model.w.best.h5\n",
      "Epoch 53/100\n",
      "194/194 [==============================] - 10s 52ms/step - loss: 0.0431 - fbeta: 2.0619e-08 - val_loss: 0.0422 - val_fbeta: 2.7273e-08\n",
      "\n",
      "Epoch 00053: val_loss improved from 0.04220 to 0.04219, saving model to model/model.w.best.h5\n",
      "Epoch 54/100\n",
      "194/194 [==============================] - 10s 52ms/step - loss: 0.0431 - fbeta: 2.0619e-08 - val_loss: 0.0422 - val_fbeta: 2.7273e-08\n",
      "\n",
      "Epoch 00054: val_loss improved from 0.04219 to 0.04218, saving model to model/model.w.best.h5\n",
      "Epoch 55/100\n",
      "194/194 [==============================] - 10s 52ms/step - loss: 0.0431 - fbeta: 2.0619e-08 - val_loss: 0.0422 - val_fbeta: 2.7273e-08\n",
      "\n",
      "Epoch 00055: val_loss improved from 0.04218 to 0.04217, saving model to model/model.w.best.h5\n",
      "Epoch 56/100\n",
      "194/194 [==============================] - 10s 52ms/step - loss: 0.0431 - fbeta: 2.0619e-08 - val_loss: 0.0422 - val_fbeta: 2.7273e-08\n",
      "\n",
      "Epoch 00056: val_loss improved from 0.04217 to 0.04216, saving model to model/model.w.best.h5\n",
      "Epoch 57/100\n",
      "194/194 [==============================] - 10s 52ms/step - loss: 0.0430 - fbeta: 2.0619e-08 - val_loss: 0.0422 - val_fbeta: 2.7273e-08\n",
      "\n",
      "Epoch 00057: val_loss improved from 0.04216 to 0.04215, saving model to model/model.w.best.h5\n",
      "Epoch 58/100\n",
      "194/194 [==============================] - 10s 52ms/step - loss: 0.0430 - fbeta: 2.0619e-08 - val_loss: 0.0421 - val_fbeta: 2.7273e-08\n",
      "\n",
      "Epoch 00058: val_loss improved from 0.04215 to 0.04214, saving model to model/model.w.best.h5\n",
      "Epoch 59/100\n",
      "194/194 [==============================] - 10s 53ms/step - loss: 0.0430 - fbeta: 2.0619e-08 - val_loss: 0.0421 - val_fbeta: 2.7273e-08\n",
      "\n",
      "Epoch 00059: val_loss improved from 0.04214 to 0.04213, saving model to model/model.w.best.h5\n",
      "Epoch 60/100\n",
      "194/194 [==============================] - 10s 53ms/step - loss: 0.0430 - fbeta: 2.0619e-08 - val_loss: 0.0421 - val_fbeta: 2.7273e-08\n",
      "\n",
      "Epoch 00060: val_loss improved from 0.04213 to 0.04212, saving model to model/model.w.best.h5\n",
      "Epoch 61/100\n",
      "194/194 [==============================] - 10s 52ms/step - loss: 0.0430 - fbeta: 2.0619e-08 - val_loss: 0.0421 - val_fbeta: 2.7273e-08\n",
      "\n",
      "Epoch 00061: val_loss improved from 0.04212 to 0.04211, saving model to model/model.w.best.h5\n",
      "Epoch 62/100\n",
      "194/194 [==============================] - 10s 53ms/step - loss: 0.0429 - fbeta: 2.0619e-08 - val_loss: 0.0421 - val_fbeta: 2.7273e-08\n",
      "\n",
      "Epoch 00062: val_loss improved from 0.04211 to 0.04210, saving model to model/model.w.best.h5\n",
      "Epoch 63/100\n",
      "194/194 [==============================] - 10s 52ms/step - loss: 0.0429 - fbeta: 2.0619e-08 - val_loss: 0.0421 - val_fbeta: 2.7273e-08\n",
      "\n",
      "Epoch 00063: val_loss improved from 0.04210 to 0.04209, saving model to model/model.w.best.h5\n",
      "Epoch 64/100\n",
      "194/194 [==============================] - 10s 53ms/step - loss: 0.0429 - fbeta: 2.0619e-08 - val_loss: 0.0421 - val_fbeta: 2.7273e-08\n",
      "\n",
      "Epoch 00064: val_loss improved from 0.04209 to 0.04208, saving model to model/model.w.best.h5\n",
      "Epoch 65/100\n",
      "194/194 [==============================] - 10s 53ms/step - loss: 0.0429 - fbeta: 2.0619e-08 - val_loss: 0.0421 - val_fbeta: 2.7273e-08\n",
      "\n",
      "Epoch 00065: val_loss improved from 0.04208 to 0.04207, saving model to model/model.w.best.h5\n",
      "Epoch 66/100\n",
      "194/194 [==============================] - 10s 53ms/step - loss: 0.0429 - fbeta: 2.0619e-08 - val_loss: 0.0421 - val_fbeta: 2.7273e-08\n",
      "\n",
      "Epoch 00066: val_loss improved from 0.04207 to 0.04207, saving model to model/model.w.best.h5\n",
      "Epoch 67/100\n",
      "194/194 [==============================] - 10s 52ms/step - loss: 0.0428 - fbeta: 2.0619e-08 - val_loss: 0.0421 - val_fbeta: 2.7273e-08\n",
      "\n",
      "Epoch 00067: val_loss improved from 0.04207 to 0.04206, saving model to model/model.w.best.h5\n",
      "Epoch 68/100\n",
      "194/194 [==============================] - 10s 52ms/step - loss: 0.0428 - fbeta: 2.0619e-08 - val_loss: 0.0421 - val_fbeta: 2.7273e-08\n",
      "\n",
      "Epoch 00068: val_loss improved from 0.04206 to 0.04205, saving model to model/model.w.best.h5\n",
      "Epoch 69/100\n"
     ]
    },
    {
     "name": "stdout",
     "output_type": "stream",
     "text": [
      "194/194 [==============================] - 10s 53ms/step - loss: 0.0428 - fbeta: 2.0619e-08 - val_loss: 0.0420 - val_fbeta: 2.7273e-08\n",
      "\n",
      "Epoch 00069: val_loss improved from 0.04205 to 0.04204, saving model to model/model.w.best.h5\n",
      "Epoch 70/100\n",
      "194/194 [==============================] - 10s 53ms/step - loss: 0.0428 - fbeta: 2.0619e-08 - val_loss: 0.0420 - val_fbeta: 2.7273e-08\n",
      "\n",
      "Epoch 00070: val_loss improved from 0.04204 to 0.04204, saving model to model/model.w.best.h5\n",
      "Epoch 71/100\n",
      "194/194 [==============================] - 10s 52ms/step - loss: 0.0428 - fbeta: 2.0619e-08 - val_loss: 0.0420 - val_fbeta: 2.7273e-08\n",
      "\n",
      "Epoch 00071: val_loss improved from 0.04204 to 0.04203, saving model to model/model.w.best.h5\n",
      "Epoch 72/100\n",
      "194/194 [==============================] - 10s 52ms/step - loss: 0.0428 - fbeta: 2.0619e-08 - val_loss: 0.0420 - val_fbeta: 2.7273e-08\n",
      "\n",
      "Epoch 00072: val_loss improved from 0.04203 to 0.04202, saving model to model/model.w.best.h5\n",
      "Epoch 73/100\n",
      "194/194 [==============================] - 10s 52ms/step - loss: 0.0427 - fbeta: 2.0619e-08 - val_loss: 0.0420 - val_fbeta: 2.7273e-08\n",
      "\n",
      "Epoch 00073: val_loss improved from 0.04202 to 0.04202, saving model to model/model.w.best.h5\n",
      "Epoch 74/100\n",
      "194/194 [==============================] - 10s 53ms/step - loss: 0.0427 - fbeta: 2.0619e-08 - val_loss: 0.0420 - val_fbeta: 2.7273e-08\n",
      "\n",
      "Epoch 00074: val_loss improved from 0.04202 to 0.04201, saving model to model/model.w.best.h5\n",
      "Epoch 75/100\n",
      "194/194 [==============================] - 10s 52ms/step - loss: 0.0427 - fbeta: 2.0619e-08 - val_loss: 0.0420 - val_fbeta: 2.7273e-08\n",
      "\n",
      "Epoch 00075: val_loss improved from 0.04201 to 0.04200, saving model to model/model.w.best.h5\n",
      "Epoch 76/100\n",
      "194/194 [==============================] - 10s 52ms/step - loss: 0.0427 - fbeta: 2.0619e-08 - val_loss: 0.0420 - val_fbeta: 2.7273e-08\n",
      "\n",
      "Epoch 00076: val_loss improved from 0.04200 to 0.04200, saving model to model/model.w.best.h5\n",
      "Epoch 77/100\n",
      "194/194 [==============================] - 10s 53ms/step - loss: 0.0427 - fbeta: 2.0619e-08 - val_loss: 0.0420 - val_fbeta: 2.7273e-08\n",
      "\n",
      "Epoch 00077: val_loss improved from 0.04200 to 0.04199, saving model to model/model.w.best.h5\n",
      "Epoch 78/100\n",
      "194/194 [==============================] - 10s 53ms/step - loss: 0.0427 - fbeta: 2.0619e-08 - val_loss: 0.0420 - val_fbeta: 2.7273e-08\n",
      "\n",
      "Epoch 00078: val_loss improved from 0.04199 to 0.04199, saving model to model/model.w.best.h5\n",
      "Epoch 79/100\n",
      "194/194 [==============================] - 10s 52ms/step - loss: 0.0427 - fbeta: 2.0619e-08 - val_loss: 0.0420 - val_fbeta: 2.7273e-08\n",
      "\n",
      "Epoch 00079: val_loss improved from 0.04199 to 0.04198, saving model to model/model.w.best.h5\n",
      "Epoch 80/100\n",
      "194/194 [==============================] - 10s 52ms/step - loss: 0.0426 - fbeta: 2.0619e-08 - val_loss: 0.0420 - val_fbeta: 2.7273e-08\n",
      "\n",
      "Epoch 00080: val_loss improved from 0.04198 to 0.04197, saving model to model/model.w.best.h5\n",
      "Epoch 81/100\n",
      "194/194 [==============================] - 10s 53ms/step - loss: 0.0426 - fbeta: 2.0619e-08 - val_loss: 0.0420 - val_fbeta: 2.7273e-08\n",
      "\n",
      "Epoch 00081: val_loss improved from 0.04197 to 0.04197, saving model to model/model.w.best.h5\n",
      "Epoch 82/100\n",
      "194/194 [==============================] - 10s 53ms/step - loss: 0.0426 - fbeta: 2.0619e-08 - val_loss: 0.0420 - val_fbeta: 2.7273e-08\n",
      "\n",
      "Epoch 00082: val_loss improved from 0.04197 to 0.04196, saving model to model/model.w.best.h5\n",
      "Epoch 83/100\n",
      "194/194 [==============================] - 11s 54ms/step - loss: 0.0426 - fbeta: 2.0619e-08 - val_loss: 0.0420 - val_fbeta: 2.7273e-08\n",
      "\n",
      "Epoch 00083: val_loss improved from 0.04196 to 0.04196, saving model to model/model.w.best.h5\n",
      "Epoch 84/100\n",
      "194/194 [==============================] - 10s 53ms/step - loss: 0.0426 - fbeta: 2.0619e-08 - val_loss: 0.0420 - val_fbeta: 2.7273e-08\n",
      "\n",
      "Epoch 00084: val_loss improved from 0.04196 to 0.04195, saving model to model/model.w.best.h5\n",
      "Epoch 85/100\n",
      "194/194 [==============================] - 10s 53ms/step - loss: 0.0426 - fbeta: 2.0619e-08 - val_loss: 0.0419 - val_fbeta: 2.7273e-08\n",
      "\n",
      "Epoch 00085: val_loss improved from 0.04195 to 0.04195, saving model to model/model.w.best.h5\n",
      "Epoch 86/100\n",
      "194/194 [==============================] - 10s 53ms/step - loss: 0.0426 - fbeta: 2.0619e-08 - val_loss: 0.0419 - val_fbeta: 2.7273e-08\n",
      "\n",
      "Epoch 00086: val_loss improved from 0.04195 to 0.04194, saving model to model/model.w.best.h5\n",
      "Epoch 87/100\n",
      "194/194 [==============================] - 10s 53ms/step - loss: 0.0426 - fbeta: 2.0619e-08 - val_loss: 0.0419 - val_fbeta: 2.7273e-08\n",
      "\n",
      "Epoch 00087: val_loss improved from 0.04194 to 0.04194, saving model to model/model.w.best.h5\n",
      "Epoch 88/100\n",
      "194/194 [==============================] - 10s 53ms/step - loss: 0.0425 - fbeta: 2.0619e-08 - val_loss: 0.0419 - val_fbeta: 2.7273e-08\n",
      "\n",
      "Epoch 00088: val_loss improved from 0.04194 to 0.04193, saving model to model/model.w.best.h5\n",
      "Epoch 89/100\n",
      "194/194 [==============================] - 10s 53ms/step - loss: 0.0425 - fbeta: 2.0619e-08 - val_loss: 0.0419 - val_fbeta: 2.7273e-08\n",
      "\n",
      "Epoch 00089: val_loss improved from 0.04193 to 0.04193, saving model to model/model.w.best.h5\n",
      "Epoch 90/100\n",
      "194/194 [==============================] - 10s 53ms/step - loss: 0.0425 - fbeta: 2.0619e-08 - val_loss: 0.0419 - val_fbeta: 2.7273e-08\n",
      "\n",
      "Epoch 00090: val_loss improved from 0.04193 to 0.04192, saving model to model/model.w.best.h5\n",
      "Epoch 91/100\n",
      "194/194 [==============================] - 10s 53ms/step - loss: 0.0425 - fbeta: 2.0619e-08 - val_loss: 0.0419 - val_fbeta: 2.7273e-08\n",
      "\n",
      "Epoch 00091: val_loss improved from 0.04192 to 0.04192, saving model to model/model.w.best.h5\n",
      "Epoch 92/100\n",
      "194/194 [==============================] - 10s 53ms/step - loss: 0.0425 - fbeta: 2.0619e-08 - val_loss: 0.0419 - val_fbeta: 2.7273e-08\n",
      "\n",
      "Epoch 00092: val_loss improved from 0.04192 to 0.04191, saving model to model/model.w.best.h5\n",
      "Epoch 93/100\n",
      "194/194 [==============================] - 10s 53ms/step - loss: 0.0425 - fbeta: 2.0619e-08 - val_loss: 0.0419 - val_fbeta: 2.7273e-08\n",
      "\n",
      "Epoch 00093: val_loss improved from 0.04191 to 0.04191, saving model to model/model.w.best.h5\n",
      "Epoch 94/100\n",
      "194/194 [==============================] - 10s 54ms/step - loss: 0.0425 - fbeta: 2.0619e-08 - val_loss: 0.0419 - val_fbeta: 2.7273e-08\n",
      "\n",
      "Epoch 00094: val_loss improved from 0.04191 to 0.04191, saving model to model/model.w.best.h5\n",
      "Epoch 95/100\n",
      "194/194 [==============================] - 11s 56ms/step - loss: 0.0425 - fbeta: 2.0619e-08 - val_loss: 0.0419 - val_fbeta: 2.7273e-08\n",
      "\n",
      "Epoch 00095: val_loss improved from 0.04191 to 0.04190, saving model to model/model.w.best.h5\n",
      "Epoch 96/100\n",
      "194/194 [==============================] - 11s 54ms/step - loss: 0.0425 - fbeta: 2.0619e-08 - val_loss: 0.0419 - val_fbeta: 2.7273e-08\n",
      "\n",
      "Epoch 00096: val_loss improved from 0.04190 to 0.04190, saving model to model/model.w.best.h5\n",
      "Epoch 97/100\n",
      "194/194 [==============================] - 10s 53ms/step - loss: 0.0425 - fbeta: 2.0619e-08 - val_loss: 0.0419 - val_fbeta: 2.7273e-08\n",
      "\n",
      "Epoch 00097: val_loss improved from 0.04190 to 0.04189, saving model to model/model.w.best.h5\n",
      "Epoch 98/100\n",
      "194/194 [==============================] - 10s 53ms/step - loss: 0.0424 - fbeta: 2.0619e-08 - val_loss: 0.0419 - val_fbeta: 2.7273e-08\n",
      "\n",
      "Epoch 00098: val_loss improved from 0.04189 to 0.04189, saving model to model/model.w.best.h5\n",
      "Epoch 99/100\n",
      "194/194 [==============================] - 10s 53ms/step - loss: 0.0424 - fbeta: 2.0619e-08 - val_loss: 0.0419 - val_fbeta: 2.7273e-08\n",
      "\n",
      "Epoch 00099: val_loss improved from 0.04189 to 0.04189, saving model to model/model.w.best.h5\n",
      "Epoch 100/100\n",
      "194/194 [==============================] - 11s 55ms/step - loss: 0.0424 - fbeta: 2.0619e-08 - val_loss: 0.0419 - val_fbeta: 2.7273e-08\n",
      "\n",
      "Epoch 00100: val_loss improved from 0.04189 to 0.04188, saving model to model/model.w.best.h5\n"
     ]
    }
   ],
   "source": [
    "import os\n",
    "from keras import callbacks\n",
    "\n",
    "PARAM_MAX_EPOCHS = 100 # PARAM: number of model-fit runs\n",
    "PARAM_N_BATCH = 10 # PARAM: number of input samples for one feedfwd-backprop step\n",
    "\n",
    "checkpointer = callbacks.ModelCheckpoint (\n",
    "    filepath=os.path.join ('model','model.w.best.h5'),\n",
    "    verbose=1,\n",
    "    save_best_only=True)\n",
    "\n",
    "history = model.fit (X_train, y_train,\n",
    "                     epochs=PARAM_MAX_EPOCHS, batch_size=PARAM_N_BATCH, validation_split=0.1, shuffle=True,\n",
    "                     callbacks=[checkpointer], verbose=1)"
   ]
  },
  {
   "cell_type": "markdown",
   "metadata": {},
   "source": [
    "### Model evaluation and comparison"
   ]
  },
  {
   "cell_type": "code",
   "execution_count": 13,
   "metadata": {},
   "outputs": [
    {
     "name": "stdout",
     "output_type": "stream",
     "text": [
      "dict_keys(['val_loss', 'val_fbeta', 'fbeta', 'loss'])\n"
     ]
    }
   ],
   "source": [
    "print (history.history.keys())"
   ]
  },
  {
   "cell_type": "code",
   "execution_count": 14,
   "metadata": {},
   "outputs": [
    {
     "data": {
      "image/png": "[encoded data removed]",
      "text/plain": [
       "<Figure size 1080x432 with 2 Axes>"
      ]
     },
     "metadata": {},
     "output_type": "display_data"
    }
   ],
   "source": [
    "import matplotlib.pyplot as plt\n",
    "%matplotlib inline\n",
    "\n",
    "fig, axs = plt.subplots (1, 2)\n",
    "\n",
    "# summarize history for accuracy\n",
    "axs[0].plot (history.history['fbeta'])\n",
    "if 'val_fbeta' in history.history:\n",
    "    axs[0].plot (history.history['val_fbeta'])\n",
    "axs[0].set (xlabel='epoch', ylabel='score (higher better)', title='F-{} score'.format (PARAM_BETA))\n",
    "axs[0].legend (['train', 'validation'], loc='upper left')\n",
    "\n",
    "# summarize history for loss\n",
    "axs[1].plot (history.history['loss'])\n",
    "if 'val_loss' in history.history:\n",
    "    axs[1].plot (history.history['val_loss'])\n",
    "axs[1].set (xlabel='epoch', ylabel='loss (lower better)', title='loss (mse)')\n",
    "axs[1].legend (['train', 'validation'], loc='upper left')\n",
    "\n",
    "fig.set_size_inches ((15., 6.), forward=True)\n",
    "plt.show ()"
   ]
  },
  {
   "cell_type": "markdown",
   "metadata": {},
   "source": [
    "**discussion**\n",
    "\n",
    "Above graphs show the F-beta score per epoch with beta = 1 on the left and the *loss per epoch*, calulated by the mean squared error (mse) on the right.\n",
    "\n",
    "*loss per epoch*:\n",
    "- gradient steps start with a loss of 0.052, end by 0.042 and show a smooth concave curve. The curve couldn't be better except a faster drop in the first 10 epochs.\n",
    "- the worse: mse after 1st epoch = 0.052 - the CNN learns very slow and in tiny steps (1st/2nd epoch: 0.052-0.049 = 0.003)\n",
    "\n",
    "*F-beta score per epoch*\n",
    "- evaluation metric immediately drops to zero after some epochs - the CNN doesn't learn anything yet"
   ]
  },
  {
   "cell_type": "markdown",
   "metadata": {},
   "source": [
    "#### reasons / todo\n",
    "\n",
    "*input data*\n",
    "\n",
    "(1) The used dataset only has 240 samples for training, validation and test. This is by far nothing for the CNN.\n",
    "\n",
    "Todo: retrieve more samples for the dataset\n",
    "\n",
    "(2) A quick look at random spectrograms show kind of chaotic information - as a human being it is hard to tell if there's any structure behind each key-mode pair. This may apply to the CNN too.\n",
    "\n",
    "Todo: find additional filter techniques / methods to clearly bring out structures for the CNN\n",
    "\n",
    "(3) Songs can change in key over their whole length.\n",
    "\n",
    "Todo: take appropriate sample of a song - ommit bridges, refrains, silent passages, noisy songs\n",
    "\n",
    "_\n",
    "\n",
    "*model training*\n",
    "\n",
    "The model was trained for 100 epochs, each in batches of 10 samples per feedfwd-backprop step. To make sure that the architecture is well suited, more epochs shall be run.\n",
    "\n",
    "Todo: increase epochs, change batch size\n",
    "\n",
    "_\n",
    "\n",
    "*model architecture*\n",
    "\n",
    "Todo: To better understand the insight of the CNN, visualize the filter of the convolutions. May there be enlightenment what kind of architecture works best."
   ]
  },
  {
   "cell_type": "markdown",
   "metadata": {},
   "source": [
    "#### compare learning algorithm to benchmarks\n",
    "\n",
    "[i] below statements can be run without executing the whole notebook\n",
    "\n",
    "Therefor, go to and execute <a href='#load-learning-algorithm'>load learning algorithm</a>\n",
    "\n",
    "**TODO** **TODO** **TODO**"
   ]
  },
  {
   "cell_type": "code",
   "execution_count": 34,
   "metadata": {
    "scrolled": true
   },
   "outputs": [
    {
     "name": "stdout",
     "output_type": "stream",
     "text": [
      "24/24 [==============================] - 0s 16ms/step\n",
      "[0.042050689458847046, 8.333333134658005e-09]\n"
     ]
    }
   ],
   "source": [
    "score = model.evaluate (X_test, y_test, verbose=1)\n",
    "print (score)"
   ]
  },
  {
   "cell_type": "markdown",
   "metadata": {},
   "source": [
    "## Misc\n",
    "---"
   ]
  },
  {
   "cell_type": "markdown",
   "metadata": {},
   "source": [
    "### save learning algorithm"
   ]
  },
  {
   "cell_type": "code",
   "execution_count": 30,
   "metadata": {},
   "outputs": [
    {
     "name": "stdout",
     "output_type": "stream",
     "text": [
      ">>> saving model... done\n"
     ]
    }
   ],
   "source": [
    "# serialization of model architecture\n",
    "import os\n",
    "\n",
    "save_name = os.path.join ('model', 'model.arch.yaml')\n",
    "\n",
    "print ('>>> saving model...', end=' ', flush=True)\n",
    "yaml_string = model.to_yaml ()\n",
    "with open (save_name, 'w') as yaml_file:\n",
    "    yaml_file.write (yaml_string)\n",
    "print ('done')"
   ]
  },
  {
   "cell_type": "markdown",
   "metadata": {},
   "source": [
    "### load learning algorithm"
   ]
  },
  {
   "cell_type": "code",
   "execution_count": 33,
   "metadata": {},
   "outputs": [
    {
     "name": "stdout",
     "output_type": "stream",
     "text": [
      ">>> loading and compiling model... done\n",
      ">>> loading best weights into model... done\n"
     ]
    }
   ],
   "source": [
    "# load model architecture\n",
    "from keras import models\n",
    "\n",
    "print ('>>> loading and compiling model...', end=' ', flush=True)\n",
    "with open (save_name, 'r') as yaml_file:\n",
    "    yaml_string = yaml_file.read ()\n",
    "model = models.model_from_yaml (yaml_string)\n",
    "model.compile (optimizer=opt_sgd, loss=losses.mean_squared_error, metrics=[fbeta])\n",
    "print ('done')\n",
    "\n",
    "# load best weights\n",
    "print ('>>> loading best weights into model...', end=' ', flush=True)\n",
    "model.load_weights (os.path.join ('model','model.w.best.h5'))\n",
    "print ('done')"
   ]
  },
  {
   "cell_type": "code",
   "execution_count": 20,
   "metadata": {},
   "outputs": [
    {
     "name": "stdout",
     "output_type": "stream",
     "text": [
      "src_spectro/4-0/TROEPPK128F92F33EC.png\n",
      "y_true 4-0\n",
      "y_pred 6-1\n"
     ]
    }
   ],
   "source": [
    "idx = 20\n",
    "test_file = src_spectro_data['filenames'][idx]\n",
    "\n",
    "test_spectro = path_to_tensor (test_file)\n",
    "test_pred = model.predict (test_spectro)\n",
    "\n",
    "print (test_file)\n",
    "print ('y_true', src_spectro_data['target_names'][src_spectro_data['target'][idx]])\n",
    "print ('y_pred', src_spectro_data['target_names'][test_pred.argmax ()])"
   ]
  },
  {
   "cell_type": "markdown",
   "metadata": {},
   "source": [
    "## Obsolete"
   ]
  },
  {
   "cell_type": "markdown",
   "metadata": {},
   "source": [
    "**drawbacks** (known, unresolvable issues)\n",
    "\n",
    "(WRONG) *music keys vs CNN key classes*\n",
    "\n",
    "See <a href='https://www.researchgate.net/publication/228963946_Audio_onset_detection_using_machine_learning_techniques_the_effect_and_applicability_of_key_and_tempo_information'>Chuan, Ching-Hua & Chew, Elaine. (2018). Audio onset detection using machine learning techniques: the effect and applicability of key and tempo information.</a>, p. 18\n",
    "\n",
    "The spectrograms show a pitch range given by the <a href='https://en.wikipedia.org/wiki/Scientific_pitch_notation#Table_of_note_frequencies'>Scientific Pitch Notation</a>. By that the range of notes goes from $C_{-1}$ = $0_{MIDI}$ up to $G_9$ = $127_{MIDI}$.\n",
    "\n",
    "Each note can be the tonic of a music key - for example the key 'C major' exists 11 times (ocatve -1 to 9). Thus the information of 128 keys is now squeezed into 24 key classes.\n",
    "\n",
    "..."
   ]
  },
  {
   "cell_type": "code",
   "execution_count": null,
   "metadata": {},
   "outputs": [],
   "source": []
  }
 ],
 "metadata": {
  "kernelspec": {
   "display_name": "Python 3",
   "language": "python",
   "name": "python3"
  },
  "language_info": {
   "codemirror_mode": {
    "name": "ipython",
    "version": 3
   },
   "file_extension": ".py",
   "mimetype": "text/x-python",
   "name": "python",
   "nbconvert_exporter": "python",
   "pygments_lexer": "ipython3",
   "version": "3.5.2"
  }
 },
 "nbformat": 4,
 "nbformat_minor": 2
}
