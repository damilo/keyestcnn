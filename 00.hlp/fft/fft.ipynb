{
 "cells": [
  {
   "cell_type": "markdown",
   "metadata": {},
   "source": [
    "# Short-time Fourier Transform\n",
    "on audio files\n",
    "\n",
    "STFT is a DFT on defined time chunks"
   ]
  },
  {
   "cell_type": "markdown",
   "metadata": {},
   "source": [
    "## Load audio files"
   ]
  },
  {
   "cell_type": "code",
   "execution_count": null,
   "metadata": {},
   "outputs": [],
   "source": [
    "import os\n",
    "from sklearn import datasets\n",
    "\n",
    "PARAM_RND_STATE = 42\n",
    "\n",
    "container_path = os.path.join ('..', '..', 'src_audio')\n",
    "load_content = False\n",
    "\n",
    "src_audio_data = datasets.load_files (container_path=container_path,\n",
    "                                      load_content=load_content,\n",
    "                                      random_state=PARAM_RND_STATE)"
   ]
  },
  {
   "cell_type": "code",
   "execution_count": null,
   "metadata": {},
   "outputs": [],
   "source": [
    "src_audio_data.keys ()"
   ]
  },
  {
   "cell_type": "markdown",
   "metadata": {},
   "source": [
    "## Prepare audio files and perform FFT"
   ]
  },
  {
   "cell_type": "markdown",
   "metadata": {},
   "source": [
    "### Function definitions\n",
    "<a href='https://docs.scipy.org/doc/scipy/reference/signal.html'>https://docs.scipy.org/doc/scipy/reference/signal.html</a>\n",
    "\n",
    "<a href='https://stackoverflow.com/questions/604453/analyze-audio-using-fast-fourier-transform'>https://stackoverflow.com/questions/604453/analyze-audio-using-fast-fourier-transform</a>\n",
    "\n",
    "<a href='https://stackoverflow.com/questions/18248102/removal-of-dc-offset-using-highpass-fft-filter'>https://stackoverflow.com/questions/18248102/removal-of-dc-offset-using-highpass-fft-filter</a>\n",
    "\n",
    "\n",
    "explanation of signal data:\n",
    "- *sig_fs* = sampling rate (samples per second)\n",
    "- *sig_ch* = number of channels\n",
    "- *sig_N* = number of samples\n",
    "- *sig_nw* = sample width (bytes)\n",
    "- *sig_len* = length of signal (seconds)\n",
    "- *sig* = signal data (array of samples)"
   ]
  },
  {
   "cell_type": "code",
   "execution_count": 63,
   "metadata": {},
   "outputs": [],
   "source": [
    "# ----- read audio signal\n",
    "from scipy.io import wavfile\n",
    "\n",
    "def read_audio_signal (filename):\n",
    "    print ('>>> reading audio file...', end=' ', flush=True)\n",
    "    sig_fs, sig = wavfile.read (filename)\n",
    "    print ('done')\n",
    "    \n",
    "    return sig_fs, sig\n",
    "\n",
    "\n",
    "# ----- signal preparation\n",
    "PARAM_DEC_FAC = 2 # PARAM: decimation factor\n",
    "\n",
    "from scipy import signal\n",
    "\n",
    "def prepare_signal (sig_fs, sig):\n",
    "    sig_prep = np.copy (sig)\n",
    "    \n",
    "    print ('>>> reducing signal to one channel...', end=' ', flush=True)\n",
    "    sig_ch = len (sig.shape)\n",
    "    if sig_ch == 2:\n",
    "        sig_prep = sig_prep.sum (axis=1) / 2\n",
    "    print ('done')\n",
    "    \n",
    "    print ('>>> decimation of signal by (factor {})...'.format (PARAM_DEC_FAC), end=' ', flush=True)\n",
    "    sig_prep = signal.decimate (sig_prep, q=PARAM_DEC_FAC, ftype='fir').astype (dtype=sig.dtype, copy=False)\n",
    "    print ('done')\n",
    "    \n",
    "    return int (sig_fs/PARAM_DEC_FAC), sig_prep\n",
    "\n",
    "\n",
    "# ----- discrete Fourier transform\n",
    "import numpy as np\n",
    "import scipy\n",
    "import scipy.fftpack\n",
    "\n",
    "def dft_signal (sig_fs, sig_slices):\n",
    "    print ('>>> performing Fourier transformation...', end=' ', flush=True)\n",
    "    # retrieve Fourier Transform coefficients\n",
    "    # calculate magnitude of the FFT coefficients (= absolute value of each complex coefficient)\n",
    "    sig_fft_mags = np.empty (sig_slices.shape)\n",
    "    for i in range (sig_slices.shape[0]):\n",
    "        sig_fft_mags[i] = abs (scipy.fft (sig_slices[i]))\n",
    "\n",
    "    # get the frequency bin centers in cycles per unit of the sample spacing (with zero at the start)\n",
    "    freq_bins = list (range (0, len (sig_fft_mags[0])))\n",
    "    freq_bins_f = (np.array (freq_bins) / len (sig_fft_mags[0])) * sig_fs # convert bins to frequency range\n",
    "    print ('done')\n",
    "    \n",
    "    return sig_fft_mags, freq_bins_f"
   ]
  },
  {
   "cell_type": "markdown",
   "metadata": {},
   "source": [
    "#### function - slice signal in several time chunks, windowing signal\n",
    "\n",
    "length of each time chunk = 1024 S"
   ]
  },
  {
   "cell_type": "code",
   "execution_count": 64,
   "metadata": {},
   "outputs": [],
   "source": [
    "# ----- slice signal in parts where number of samples are to the power of 2\n",
    "PARAM_N = 1<<10 # PARAM: number of samples for one dft\n",
    "\n",
    "import math\n",
    "import numpy as np\n",
    "\n",
    "def slice_signal (sig):\n",
    "    print ('>>> slicing signal...', end=' ', flush=True)\n",
    "    sig_N = sig.shape[0]\n",
    "    num_slices = math.floor (sig_N / PARAM_N)\n",
    "    if (num_slices*PARAM_N < sig_N):  # one more slice usually needed -> checked here\n",
    "        num_slices += 1\n",
    "    sig_slices = np.empty ((num_slices, PARAM_N))\n",
    "\n",
    "    for i in range (num_slices):\n",
    "        sl = np.copy (sig)[i*PARAM_N:(i+1)*PARAM_N]\n",
    "        # only last slice of source signal will differ in length\n",
    "        if (i == (num_slices-1)):\n",
    "            num_zeros = PARAM_N-sl.size\n",
    "            sl = np.append (sl, np.full (num_zeros, 0, dtype=sl.dtype))\n",
    "    \n",
    "        sig_slices[i] = sl\n",
    "    print ('done')\n",
    "    print ('  [i] signal sliced in {} parts, each {} samples.'.format (sig_slices.shape[0], sig_slices.shape[1]))\n",
    "    \n",
    "    return sig_slices\n",
    "\n",
    "\n",
    "# ----- windowing signal (Hanning window is used)\n",
    "PARAM_WIN = signal.hann (PARAM_N) # PARAM: type of window\n",
    "\n",
    "import numpy as np\n",
    "from scipy import signal\n",
    "\n",
    "def window_signal (sig_slices):\n",
    "    sig_slices_win = np.copy (sig_slices)\n",
    "    print ('>>> windowing signal...', end=' ', flush=True)\n",
    "    for i in range (sig_slices_win.shape[0]):\n",
    "        sig_slices_win[i] = sig_slices_win[i]*PARAM_WIN\n",
    "    print ('done')\n",
    "    \n",
    "    return sig_slices_win"
   ]
  },
  {
   "cell_type": "markdown",
   "metadata": {},
   "source": [
    "#### function - zero-pad signal\n",
    "\n",
    "number of zeros to pad is dependet on frequency resolution of dft\n",
    "\n",
    "in this case, it depends on the smallest distance between two pitches\n",
    "\n",
    "$C\\#_{0} - C_0 = 17.32391444 Hz - 16.35159783 Hz = 0.9723166047670908 Hz$, value is round to 0.9 Hz\n",
    "\n",
    "frequency bins distance = 1 / (PARAM_N + PARAM_N_ZEROS) * sampling rate <= 0.9\n",
    "\n",
    "PARAM_N_ZEROS >= sampling rate / 0.9 - PARAM_N = 22050 / 0.9 - PARAM_N = 24500 - PARAM_N\n",
    "\n",
    "PARAM_N_ZEROS + PARAM_N >= 24500, next higher value to the power of 2 = 32768"
   ]
  },
  {
   "cell_type": "code",
   "execution_count": 65,
   "metadata": {},
   "outputs": [],
   "source": [
    "# ----- zero-padding of signal\n",
    "# number of samples of the time-domain signal dictate the resolution in the frequency-domain\n",
    "PARAM_N_ZEROS = (1<<15) - PARAM_N # PARAM: number of zeros to add\n",
    "\n",
    "import numpy as np\n",
    "\n",
    "def zpad_signal (sig_slices):\n",
    "    print ('>>> zero-padding signal...', end=' ', flush=True)\n",
    "    sig_slices_zpad = np.empty ((sig_slices.shape[0], sig_slices.shape[1]+PARAM_N_ZEROS))\n",
    "    for i in range (sig_slices.shape[0]):\n",
    "        sig_slices_zpad[i] = np.append (sig_slices[i], np.full (PARAM_N_ZEROS, 0, dtype=sig_slices[i].dtype))\n",
    "    print ('done')\n",
    "    print ('  [i] new shape of signal slice', sig_slices_zpad.shape)\n",
    "    \n",
    "    return sig_slices_zpad"
   ]
  },
  {
   "cell_type": "code",
   "execution_count": 66,
   "metadata": {},
   "outputs": [
    {
     "name": "stdout",
     "output_type": "stream",
     "text": [
      "[i] Parameters:\n",
      "    decimation factor: 2\n",
      "    number of samples per signal time chunk: 1024\n",
      "    number of padded zeros: 31744\n",
      "\n",
      "[i] for an audio signal of 30s this results in:\n",
      "    sampling rate: 22050 S/s\n",
      "    number of signal slices: 646\n",
      "    number of samples in one zero-padded signal slice: 32768 S (used for DFT)\n",
      "    length of one signal slices: 0.046 s\n"
     ]
    }
   ],
   "source": [
    "print ('[i] Parameters:')\n",
    "print ('    decimation factor:', PARAM_DEC_FAC)\n",
    "print ('    number of samples per signal time chunk:', PARAM_N)\n",
    "print ('    number of padded zeros:', PARAM_N_ZEROS)\n",
    "print ()\n",
    "print ('[i] for an audio signal of 30s this results in:')\n",
    "print ('    sampling rate:', int(44100/PARAM_DEC_FAC), 'S/s')\n",
    "print ('    number of signal slices:', int (math.ceil (30*22050/PARAM_N)))\n",
    "print ('    number of samples in one zero-padded signal slice:', PARAM_N+PARAM_N_ZEROS, 'S', '(used for DFT)')\n",
    "print ('    length of one signal slices: {:.3f} s'.format (PARAM_N/22050))"
   ]
  },
  {
   "cell_type": "markdown",
   "metadata": {},
   "source": [
    "### Twelve-tone equal temperament (12TET)\n",
    "- used to assign the dft magnitudes into bins of pitch ranges"
   ]
  },
  {
   "cell_type": "code",
   "execution_count": 67,
   "metadata": {},
   "outputs": [
    {
     "name": "stdout",
     "output_type": "stream",
     "text": [
      "[i] 12-TET pitches\n",
      "    count: 116\n",
      "    example: A4= 440.0 Hz\n",
      "12527.502353584689\n"
     ]
    }
   ],
   "source": [
    "# ----- pitch frequencies of 12TET\n",
    "import numpy as np\n",
    "\n",
    "pitch_A0 = 27.5\n",
    "pitch_Ax = np.array ([pitch_A0*(2**n) for n in range (-1, 11)])\n",
    "twtet_pitch_ratios = np.array ([2**(n*1/12) for n in range (-9, 3)])\n",
    "\n",
    "twtet_pitches = np.empty ((11,12)) # shape is 11 octaves, each 12 pitches\n",
    "for i in range (11):\n",
    "    twtet_pitches[i] = pitch_Ax[i] * twtet_pitch_ratios\n",
    "\n",
    "twtet_pitches = twtet_pitches.flatten ()\n",
    "# MIDI notation has only 128 numbers\n",
    "twtet_pitches = twtet_pitches[:128]\n",
    "\n",
    "# we take only 108 pitches (extended piano)\n",
    "pitch_C0_midi = 12\n",
    "twtet_pitches = twtet_pitches[pitch_C0_midi:128]\n",
    "\n",
    "# only take 88 pitches (standard piano)\n",
    "#pitch_A0_midi = 21\n",
    "#pitch_C8_midi = 108\n",
    "#twtet_pitches = twtet_pitches[pitch_A0_midi:pitch_C8_midi+1]\n",
    "\n",
    "pitch_A4_midi = 69\n",
    "print ('[i] 12-TET pitches')\n",
    "print ('    count:', twtet_pitches.size)\n",
    "print ('    example: A4= {} Hz'.format (twtet_pitches[pitch_A4_midi-pitch_C0_midi]))\n",
    "\n",
    "print (twtet_pitches[-1]-twtet_pitches[0])"
   ]
  },
  {
   "cell_type": "markdown",
   "metadata": {},
   "source": [
    "### Function definition - spectrogram\n",
    "output: 2dim numpy array with values in range [0, 255] (image bit range)"
   ]
  },
  {
   "cell_type": "code",
   "execution_count": 100,
   "metadata": {},
   "outputs": [],
   "source": [
    "# ----- make spectrogram\n",
    "def create_spectrogram (sig_fft_mags, freq_bins_f):\n",
    "    print ('>>> creating spectrogram...', end=' ', flush=True)\n",
    "    spectro = np.zeros (twtet_pitches.shape[0]-1)\n",
    "    # get only some values of the fft magnitudes\n",
    "    n_fft_mags = 1<<6\n",
    "    for i in range (sig_fft_mags.shape[0]):\n",
    "        cpy = np.copy (sig_fft_mags[i])\n",
    "        freq_list = []\n",
    "        for _ in range (n_fft_mags):\n",
    "            bin_n = np.argmax (cpy)\n",
    "            freq_list.append (freq_bins_f[bin_n])\n",
    "            cpy = np.delete (cpy, bin_n)\n",
    "        hist, edges = np.histogram (freq_list, bins=twtet_pitches,\n",
    "                                    range=(twtet_pitches.min(), twtet_pitches.max()))\n",
    "        # convert to bit scale [0, 255]\n",
    "        max_val = hist.max ()\n",
    "        if (max_val == 0):\n",
    "            spectro = np.vstack ((spectro, hist))\n",
    "            continue\n",
    "        hist = int (255 / max_val) * hist\n",
    "        spectro = np.vstack ((spectro, hist))\n",
    "    # append zeros\n",
    "    if (sig_fft_mags.shape[0] < spectro.shape[1]):\n",
    "        num_zeros = spectro.shape[1] - sig_fft_mags.shape[0]\n",
    "        spectro = np.vstack ((spectro, np.zeros ((num_zeros, spectro.shape[1]))))\n",
    "    print ('done')\n",
    "    \n",
    "    return spectro[1:] # due to init of an empty array + vstack, first row can be deleted\n",
    "\n",
    "\n",
    "# ----- resize function for spectrogram\n",
    "import numpy as np\n",
    "import math\n",
    "\n",
    "def resize_spectrogram (spectro):\n",
    "    print ('>>> resizing spectrogram...', end=' ', flush=True)\n",
    "    m = spectro.shape[0]\n",
    "    n = spectro.shape[1]\n",
    "    \n",
    "    # just in case - condition: there are always more signal slices than pitch bins\n",
    "    if (m <= n):\n",
    "        print ('[E] m <= n')\n",
    "        return spectro\n",
    "    \n",
    "    # how often fits the width in the height?\n",
    "    #mul_per_col = math.floor (m/n)\n",
    "    # how many additional cols to add?\n",
    "    #cols_to_add = m - (mul_per_col * n)\n",
    "    \n",
    "    mul_per_col = 2\n",
    "    \n",
    "    #new_spectro = np.empty ((1, m))\n",
    "    spectro_resized = np.empty ((1, mul_per_col*n))\n",
    "    for i in range (m):\n",
    "        new_line = np.empty (1)\n",
    "        for j in range (n):\n",
    "            mn = np.full (mul_per_col, spectro[i][j])\n",
    "            new_line = np.concatenate ((new_line, mn), axis=None)\n",
    "        #new_line = np.concatenate ((new_line, np.zeros (cols_to_add)), axis=None)\n",
    "        spectro_resized = np.vstack ((spectro_resized, new_line[1:]))\n",
    "    \n",
    "    print ('done')\n",
    "    \n",
    "    return spectro_resized[1:]"
   ]
  },
  {
   "cell_type": "code",
   "execution_count": 98,
   "metadata": {
    "scrolled": true
   },
   "outputs": [
    {
     "ename": "NameError",
     "evalue": "name 'src_audio_data' is not defined",
     "output_type": "error",
     "traceback": [
      "\u001b[0;31m---------------------------------------------------------------------------\u001b[0m",
      "\u001b[0;31mNameError\u001b[0m                                 Traceback (most recent call last)",
      "\u001b[0;32m<ipython-input-98-1429cb683d36>\u001b[0m in \u001b[0;36m<module>\u001b[0;34m()\u001b[0m\n\u001b[1;32m      3\u001b[0m \u001b[0;34m\u001b[0m\u001b[0m\n\u001b[1;32m      4\u001b[0m \u001b[0msave_path\u001b[0m \u001b[0;34m=\u001b[0m \u001b[0mos\u001b[0m\u001b[0;34m.\u001b[0m\u001b[0mpath\u001b[0m\u001b[0;34m.\u001b[0m\u001b[0mjoin\u001b[0m \u001b[0;34m(\u001b[0m\u001b[0;34m'..'\u001b[0m\u001b[0;34m,\u001b[0m \u001b[0;34m'..'\u001b[0m\u001b[0;34m,\u001b[0m \u001b[0;34m'src_spectro'\u001b[0m\u001b[0;34m)\u001b[0m\u001b[0;34m\u001b[0m\u001b[0m\n\u001b[0;32m----> 5\u001b[0;31m \u001b[0;32mfor\u001b[0m \u001b[0mi\u001b[0m\u001b[0;34m,\u001b[0m \u001b[0mfilename\u001b[0m \u001b[0;32min\u001b[0m \u001b[0menumerate\u001b[0m \u001b[0;34m(\u001b[0m\u001b[0msrc_audio_data\u001b[0m\u001b[0;34m[\u001b[0m\u001b[0;34m'filenames'\u001b[0m\u001b[0;34m]\u001b[0m\u001b[0;34m)\u001b[0m\u001b[0;34m:\u001b[0m\u001b[0;34m\u001b[0m\u001b[0m\n\u001b[0m\u001b[1;32m      6\u001b[0m     \u001b[0mprint\u001b[0m \u001b[0;34m(\u001b[0m\u001b[0;34m'\\r[i] processing {} of {} audio files'\u001b[0m\u001b[0;34m.\u001b[0m\u001b[0mformat\u001b[0m \u001b[0;34m(\u001b[0m\u001b[0mi\u001b[0m\u001b[0;34m+\u001b[0m\u001b[0;36m1\u001b[0m\u001b[0;34m,\u001b[0m \u001b[0msrc_audio_data\u001b[0m\u001b[0;34m[\u001b[0m\u001b[0;34m'filenames'\u001b[0m\u001b[0;34m]\u001b[0m\u001b[0;34m.\u001b[0m\u001b[0mshape\u001b[0m\u001b[0;34m[\u001b[0m\u001b[0;36m0\u001b[0m\u001b[0;34m]\u001b[0m\u001b[0;34m)\u001b[0m\u001b[0;34m,\u001b[0m \u001b[0mend\u001b[0m\u001b[0;34m=\u001b[0m\u001b[0;34m'\\n'\u001b[0m\u001b[0;34m)\u001b[0m\u001b[0;34m\u001b[0m\u001b[0m\n\u001b[1;32m      7\u001b[0m \u001b[0;34m\u001b[0m\u001b[0m\n",
      "\u001b[0;31mNameError\u001b[0m: name 'src_audio_data' is not defined"
     ]
    }
   ],
   "source": [
    "import os\n",
    "from PIL import Image\n",
    "\n",
    "save_path = os.path.join ('..', '..', 'src_spectro')\n",
    "for i, filename in enumerate (src_audio_data['filenames']):\n",
    "    print ('\\r[i] processing {} of {} audio files'.format (i+1, src_audio_data['filenames'].shape[0]), end='\\n')\n",
    "\n",
    "    sig_fs, sig = read_audio_signal (filename)\n",
    "\n",
    "    sig_prep_fs, sig_prep = prepare_signal (sig_fs, sig)\n",
    "\n",
    "    sig_prep_slices = slice_signal (sig_prep)\n",
    "    \n",
    "    # special windowing currently unused (that means, rectangular window is used)\n",
    "    #sig_prep_slices_win = window_signal (sig_prep_slices)\n",
    "\n",
    "    sig_prep_slices_zpad = zpad_signal (sig_prep_slices)\n",
    "\n",
    "    sig_fft_mags, freq_bins_f = dft_signal (sig_prep_fs, sig_prep_slices_zpad)\n",
    "\n",
    "    spectro = create_spectrogram (sig_fft_mags, freq_bins_f)\n",
    "    \n",
    "    spectro = resize_spectrogram (spectro)\n",
    "\n",
    "    # ----- edit images: convert to 8 Bit and rotate by 90 degrees\n",
    "    base_name, _ = os.path.splitext(os.path.basename (filename))\n",
    "    target_name = src_audio_data['target_names'][src_audio_data['target'][i]]\n",
    "    save_as = os.path.join (save_path, target_name, base_name + '.png')\n",
    "    print ('>>> rotating and saving image as {} ...'.format (save_as), end=' ', flush=True)\n",
    "    img = Image.fromarray (spectro)\n",
    "    img = img.rotate (90, expand=1)\n",
    "    img = img.resize ((int(spectro.shape[0]/2), 230))\n",
    "    img = img.convert ('RGB')\n",
    "    img.save (save_as)\n",
    "    print ('done')"
   ]
  },
  {
   "cell_type": "markdown",
   "metadata": {},
   "source": [
    "## Example"
   ]
  },
  {
   "cell_type": "code",
   "execution_count": 101,
   "metadata": {},
   "outputs": [
    {
     "name": "stdout",
     "output_type": "stream",
     "text": [
      ">>> reading audio file... done\n",
      ">>> reducing signal to one channel... done\n",
      ">>> decimation of signal by (factor 2)... done\n",
      ">>> slicing signal... done\n",
      "  [i] signal sliced in 646 parts, each 1024 samples.\n",
      ">>> windowing signal... done\n",
      ">>> zero-padding signal... done\n",
      "  [i] new shape of signal slice (646, 32768)\n",
      ">>> performing Fourier transformation... done\n",
      ">>> creating spectrogram... done\n",
      ">>> resizing spectrogram... done\n"
     ]
    }
   ],
   "source": [
    "import os\n",
    "\n",
    "filename = os.path.join ('test', '94812__digifishmusic__c4-major-scale-piano.wav')\n",
    "\n",
    "sig_fs, sig = read_audio_signal (filename)\n",
    "\n",
    "sig_prep_fs, sig_prep = prepare_signal (sig_fs, sig)\n",
    "\n",
    "sig_prep_slices = slice_signal (sig_prep)\n",
    "\n",
    "sig_prep_slices_win = window_signal (sig_prep_slices)\n",
    "\n",
    "sig_prep_slices_zpad = zpad_signal (sig_prep_slices)\n",
    "\n",
    "sig_fft_mags, freq_bins_f = dft_signal (sig_prep_fs, sig_prep_slices_zpad)\n",
    "\n",
    "spectro = create_spectrogram (sig_fft_mags, freq_bins_f)\n",
    "\n",
    "spectro = resize_spectrogram (spectro)"
   ]
  },
  {
   "cell_type": "code",
   "execution_count": 105,
   "metadata": {},
   "outputs": [
    {
     "name": "stdout",
     "output_type": "stream",
     "text": [
      "(646, 230)\n"
     ]
    }
   ],
   "source": [
    "print (spectro.shape)"
   ]
  },
  {
   "cell_type": "code",
   "execution_count": 106,
   "metadata": {},
   "outputs": [
    {
     "data": {
      "image/png": "[encoded data removed]",
      "text/plain": [
       "<Figure size 576x576 with 1 Axes>"
      ]
     },
     "metadata": {},
     "output_type": "display_data"
    }
   ],
   "source": [
    "import matplotlib.pyplot as plt\n",
    "%matplotlib inline\n",
    "\n",
    "fig, axs = plt.subplots (1, 1, sharex=True)\n",
    "extent = [0, twtet_pitches.size, 0, 1]\n",
    "axs.imshow (spectro, aspect='auto', cmap=\"binary\", extent=extent)\n",
    "axs.axis ('off')\n",
    "axs.axes.get_xaxis().set_visible (False)\n",
    "axs.axes.get_yaxis().set_visible (False)\n",
    "\n",
    "fig.set_size_inches (8, 8)\n",
    "plt.show ()"
   ]
  },
  {
   "cell_type": "code",
   "execution_count": 104,
   "metadata": {},
   "outputs": [
    {
     "name": "stdout",
     "output_type": "stream",
     "text": [
      ">>> rotating and saving image as test/94812__digifishmusic__c4-major-scale-piano.png ... done\n"
     ]
    }
   ],
   "source": [
    "# ----- edit images: convert to 8 Bit and rotate by 90 degrees\n",
    "from PIL import Image\n",
    "\n",
    "base_name, _ = os.path.splitext(os.path.basename (filename))\n",
    "save_as = os.path.join ('test', base_name + '.png')\n",
    "print ('>>> rotating and saving image as {} ...'.format (save_as), end=' ', flush=True)\n",
    "img = Image.fromarray (spectro)\n",
    "img = img.rotate (90, expand=1)\n",
    "img = img.resize ((int(spectro.shape[0]/2), 230))\n",
    "img = img.convert('RGB')\n",
    "img.save (save_as)\n",
    "print ('done')"
   ]
  },
  {
   "cell_type": "code",
   "execution_count": null,
   "metadata": {
    "scrolled": false
   },
   "outputs": [],
   "source": [
    "# FYI: EXAMPLE\n",
    "import matplotlib.pyplot as plt\n",
    "%matplotlib inline\n",
    "\n",
    "print ('[i] Example')\n",
    "\n",
    "sig_ch = len (sig.shape) # number of channels\n",
    "sig_N = sig.shape[0] # number of samples\n",
    "sig_nw = sig.dtype.itemsize # sample width\n",
    "sig_len = sig_N/sig_fs # length of signal\n",
    "\n",
    "print ('signal information:')\n",
    "print ('  channels:', sig_ch)\n",
    "print ('  sampling rate: {} Hz (S/s)'.format (sig_fs))\n",
    "print ('  number of samples: {} S'.format (sig_N))\n",
    "print ('  sample width: {} Bytes = {} Bits'.format (sig_nw, sig_nw*8))\n",
    "print ('  length of signal: {:.2f} s'.format (sig_len))\n",
    "\n",
    "\n",
    "# plot sample of wav file\n",
    "t = np.linspace (0, len (sig)/sig_fs, sig_N)\n",
    "\n",
    "fig, axs = plt.subplots (2, 1, sharex=True, sharey=True)\n",
    "\n",
    "axs[0].step (t, sig[:,0], c=\"#3ABFE7\", label='ch1')\n",
    "axs[0].legend (loc='upper left')\n",
    "\n",
    "axs[1].step (t, sig[:,1], c=\"#3ABFE7\", label='ch2')\n",
    "axs[1].legend (loc='upper left')\n",
    "\n",
    "_ = plt.ylim()\n",
    "fig.set_size_inches ((16., 4.), forward=True)\n",
    "fig.suptitle ('')\n",
    "fig.subplots_adjust (hspace=0)\n",
    "\n",
    "plt.xlabel('Time [s]')\n",
    "plt.ylabel('Amplitude [#]')\n",
    "\n",
    "plt.show()"
   ]
  },
  {
   "cell_type": "code",
   "execution_count": null,
   "metadata": {},
   "outputs": [],
   "source": [
    "# FYI: EXAMPLE\n",
    "print ('[i] Example')\n",
    "\n",
    "sig_prep_ch = len (sig_prep.shape) # number of channels\n",
    "sig_prep_N = sig_prep.shape[0] # number of samples\n",
    "sig_prep_nw = sig_prep.dtype.itemsize # sample width\n",
    "sig_prep_len = sig_prep_N/sig_prep_fs # length of signal\n",
    "\n",
    "print ('signal information:')\n",
    "print ('  channels:', sig_prep_ch)\n",
    "print ('  sampling rate: {} Hz (S/s)'.format (sig_prep_fs))\n",
    "print ('  number of samples: {} S'.format (sig_prep_N))\n",
    "print ('  sample width: {} Bytes = {} Bits'.format (sig_prep_nw, sig_prep_nw*8))\n",
    "print ('  length of signal: {:.2f} s'.format (sig_prep_len))\n",
    "\n",
    "plt.figure(figsize=(16.,2.))\n",
    "plt.step (t, sig[:, 0], c=\"#3ABFE7\", label='src ch1')\n",
    "\n",
    "t_prep = np.linspace (0, len (sig_prep)/sig_prep_fs, sig_prep_N)\n",
    "plt.step (t_prep, sig_prep, c=\"#FF0000\", alpha=0.4, label='mono')\n",
    "\n",
    "plt.xlabel('Time [s]')\n",
    "plt.ylabel('Amplitude [#]')\n",
    "\n",
    "plt.show ()"
   ]
  },
  {
   "cell_type": "markdown",
   "metadata": {},
   "source": [
    "---"
   ]
  },
  {
   "cell_type": "markdown",
   "metadata": {},
   "source": [
    "## Short-Time Fourier Transformation (STFT)"
   ]
  },
  {
   "cell_type": "markdown",
   "metadata": {},
   "source": [
    "## simple example for windowing"
   ]
  },
  {
   "cell_type": "markdown",
   "metadata": {},
   "source": [
    "### cosine wave and its dft"
   ]
  },
  {
   "cell_type": "code",
   "execution_count": null,
   "metadata": {},
   "outputs": [],
   "source": [
    "import math\n",
    "import numpy as np\n",
    "import matplotlib.pyplot as plt\n",
    "%matplotlib inline\n",
    "\n",
    "fs = 1000 # frames per second\n",
    "T = 1/fs\n",
    "N = 1000 # samples\n",
    "n = list (range (0,N))\n",
    "t = np.linspace (0, len (n)*T, N)\n",
    "x = [math.cos (2*math.pi*6.5*_t) for _t in t] # cos with freq of 6.5 Hz\n",
    "\n",
    "# -----\n",
    "\n",
    "import scipy\n",
    "import scipy.fftpack\n",
    "\n",
    "x_zpad = np.append (x, np.full (99000, 0))\n",
    "X_ZPAD_mags = abs (scipy.fft (x_zpad))\n",
    "bins = list (range (0, len (x_zpad)))\n",
    "\n",
    "\n",
    "# -----\n",
    "\n",
    "import matplotlib.pyplot as plt\n",
    "%matplotlib inline\n",
    "\n",
    "plt.figure (figsize=(16.,6.))\n",
    "plt.subplot (211)\n",
    "plt.plot (t, x)\n",
    "plt.title ('time-domain signal')\n",
    "plt.xlabel('Time [s]')\n",
    "plt.ylabel('Amplitude [#]')\n",
    "plt.grid (True)\n",
    "plt.subplot (212)\n",
    "plt.plot (bins[0:1500], X_ZPAD_mags[0:1500])\n",
    "plt.title ('magnitude spectrum of zero-padded signal')\n",
    "plt.xlabel ('Frequency bin [#]')\n",
    "plt.ylabel ('Magnitude [#]')\n",
    "plt.grid (True)\n",
    "\n",
    "plt.subplots_adjust (hspace=0.5)\n",
    "plt.show ()"
   ]
  },
  {
   "cell_type": "markdown",
   "metadata": {},
   "source": [
    "above DFT magnitude spectrum plot shows the first 1500 bins\n",
    "\n",
    "the frequency with highest magnitude is calculated by:\n",
    "\n",
    "bin_num / len (x_zpad) \\* fs = 650 / 100.000 \\* 1.000 = 6.5 Hz"
   ]
  },
  {
   "cell_type": "code",
   "execution_count": null,
   "metadata": {
    "scrolled": true
   },
   "outputs": [],
   "source": [
    "# now bins will be converted to frequency range\n",
    "import matplotlib.pyplot as plt\n",
    "%matplotlib inline\n",
    "\n",
    "fax = np.array (bins) * fs / len (x_zpad)\n",
    "\n",
    "plt.figure (figsize=(16.,3.))\n",
    "plt.plot (fax[0:1500], X_ZPAD_mags[0:1500])\n",
    "plt.title ('magnitude spectrum of zero-padded signal')\n",
    "plt.xlabel ('Frequency [Hz]')\n",
    "plt.ylabel ('Magnitude [#]')\n",
    "plt.grid (True)\n",
    "\n",
    "plt.show ()\n",
    "\n",
    "print ('frequency with highest magnitude = {} Hz'.format (fax[np.argmax(X_ZPAD_mags)]))"
   ]
  },
  {
   "cell_type": "markdown",
   "metadata": {},
   "source": [
    "### rectangular window"
   ]
  },
  {
   "cell_type": "markdown",
   "metadata": {},
   "source": [
    "first: look at signals in time-domain"
   ]
  },
  {
   "cell_type": "code",
   "execution_count": null,
   "metadata": {},
   "outputs": [],
   "source": [
    "import matplotlib.pyplot as plt\n",
    "%matplotlib inline\n",
    "\n",
    "Ndisp = 5000\n",
    "\n",
    "plt.figure (figsize=(16.,6.))\n",
    "plt.subplot (311)\n",
    "plt.plot (x_zpad[0:Ndisp])\n",
    "plt.title ('zero-padded signal' + ' (first {} samples)'.format (Ndisp))\n",
    "plt.xlabel ('Sample [#]')\n",
    "plt.ylabel ('Amplitude [#]')\n",
    "plt.grid (True)\n",
    "\n",
    "t = np.linspace (0, 100000*T, 100000)\n",
    "sinusoid = [math.cos (2*math.pi*6.5*_t) for _t in t] # cos with freq of 6.5 Hz\n",
    "plt.subplot (312)\n",
    "plt.plot (sinusoid[0:Ndisp])\n",
    "plt.title ('sinusoidal signal' + ' (first {} samples)'.format (Ndisp))\n",
    "plt.xlabel ('Sample [#]')\n",
    "plt.ylabel ('Amplitude [#]')\n",
    "plt.grid (True)\n",
    "\n",
    "win = np.append (np.ones (1000), np.zeros (99000))\n",
    "plt.subplot (313)\n",
    "plt.plot (win[0:Ndisp])\n",
    "plt.title ('rectangular window' + ' (first {} samples)'.format (Ndisp))\n",
    "plt.xlabel ('Sample [#]')\n",
    "plt.ylabel ('Amplitude [#]')\n",
    "plt.ylim (-0.5, 1.5)\n",
    "plt.grid (True)\n",
    "\n",
    "plt.subplots_adjust (hspace=0.8)\n",
    "plt.show ()"
   ]
  },
  {
   "cell_type": "markdown",
   "metadata": {},
   "source": [
    "Interpretation of rectangular window: the sinusoidal signal (graph 2) is multiplied by the rectangular window (graph 3) in order to get the zero-padded signal (graph 1)"
   ]
  },
  {
   "cell_type": "markdown",
   "metadata": {},
   "source": [
    "second: now let's see how the requency-domain looks like"
   ]
  },
  {
   "cell_type": "code",
   "execution_count": null,
   "metadata": {},
   "outputs": [],
   "source": [
    "fax_dbl_sided = np.copy (fax)\n",
    "\n",
    "fax_dbl_sided[-49999:] = fax_dbl_sided[-49999:]-1000\n",
    "\n",
    "\n",
    "plt.figure (figsize=(16.,6.))\n",
    "plt.subplot (311)\n",
    "plt.plot (fax_dbl_sided[:1000], abs (scipy.fft (x_zpad))[:1000])\n",
    "plt.plot (fax_dbl_sided[-1000:], abs (scipy.fft (x_zpad))[-1000:])\n",
    "plt.title ('double-sided magnitude spectrum of zero-padded signal')\n",
    "plt.xlabel ('Sample [#]')\n",
    "plt.ylabel ('Amplitude [#]')\n",
    "plt.grid (True)\n",
    "\n",
    "plt.figure (figsize=(16.,6.))\n",
    "plt.subplot (312)\n",
    "plt.plot (fax_dbl_sided[:1000], abs (scipy.fft (sinusoid))[:1000])\n",
    "plt.plot (fax_dbl_sided[-1000:], abs (scipy.fft (sinusoid))[-1000:])\n",
    "plt.title ('double-sided magnitude spectrum of sinusoidal signal')\n",
    "plt.xlabel ('Sample [#]')\n",
    "plt.ylabel ('Amplitude [#]')\n",
    "plt.grid (True)\n",
    "\n",
    "win = np.append (np.ones (1000), np.zeros (99000))\n",
    "plt.subplot (313)\n",
    "plt.plot (fax_dbl_sided[:1000], abs (scipy.fft (win))[:1000])\n",
    "plt.plot (fax_dbl_sided[-1000:], abs (scipy.fft (win))[-1000:])\n",
    "plt.title ('double-sided magnitude of rectangular window')\n",
    "plt.xlabel ('Sample [#]')\n",
    "plt.ylabel ('Amplitude [#]')\n",
    "plt.grid (True)\n",
    "\n",
    "plt.subplots_adjust (hspace=0.8)\n",
    "plt.show ()"
   ]
  },
  {
   "cell_type": "markdown",
   "metadata": {},
   "source": [
    "As shown, the sinusoidal signal is in general just a line in frequency-domain. But due to the applied rectangular window in time-domain, the dft ends up like for the zero-padded signal.\n",
    "\n",
    "Consequence: **Convolution** = multiplication in time-domain results in convolution in frequency-domain"
   ]
  },
  {
   "cell_type": "markdown",
   "metadata": {},
   "source": [
    "### hanning window\n",
    "same as above, nut now with hanning window"
   ]
  },
  {
   "cell_type": "code",
   "execution_count": null,
   "metadata": {},
   "outputs": [],
   "source": [
    "### time-domain signals\n",
    "\n",
    "from scipy import signal\n",
    "import scipy.fftpack\n",
    "\n",
    "import matplotlib.pyplot as plt\n",
    "%matplotlib inline\n",
    "\n",
    "Ndisp = 5000\n",
    "\n",
    "# THIS IS THE IMPORTANT PART - multiply window with time-domain signal\n",
    "han_win = signal.hann (N)\n",
    "x_zpad_win = np.append (x*han_win, np.full (99000, 0))\n",
    "\n",
    "plt.figure (figsize=(16.,6.))\n",
    "plt.subplot (311)\n",
    "plt.plot (x_zpad_win[0:Ndisp])\n",
    "plt.title ('zero-padded signal' + ' (first {} samples)'.format (Ndisp))\n",
    "plt.xlabel ('Sample [#]')\n",
    "plt.ylabel ('Amplitude [#]')\n",
    "plt.grid (True)\n",
    "\n",
    "t = np.linspace (0, 100000*T, 100000)\n",
    "sinusoid = [math.cos (2*math.pi*6.5*_t) for _t in t] # cos with freq of 6.5 Hz\n",
    "plt.subplot (312)\n",
    "plt.plot (sinusoid[0:Ndisp])\n",
    "plt.title ('sinusoidal signal' + ' (first {} samples)'.format (Ndisp))\n",
    "plt.xlabel ('Sample [#]')\n",
    "plt.ylabel ('Amplitude [#]')\n",
    "plt.grid (True)\n",
    "\n",
    "\n",
    "plt.subplot (313)\n",
    "plt.plot (np.append (han_win, np.zeros (99000))[0:Ndisp])\n",
    "plt.title ('hanning window' + ' (first {} samples)'.format (Ndisp))\n",
    "plt.xlabel ('Sample [#]')\n",
    "plt.ylabel ('Amplitude [#]')\n",
    "plt.ylim (-0.5, 1.5)\n",
    "plt.grid (True)\n",
    "\n",
    "plt.subplots_adjust (hspace=0.8)\n",
    "plt.show ()"
   ]
  },
  {
   "cell_type": "markdown",
   "metadata": {},
   "source": [
    "sinusiodal signal is multiplied with hanning window to get the zero-padded signal (graph 1)"
   ]
  },
  {
   "cell_type": "code",
   "execution_count": null,
   "metadata": {},
   "outputs": [],
   "source": [
    "# frequency-domain signals\n",
    "\n",
    "from scipy import signal\n",
    "import scipy.fftpack\n",
    "\n",
    "import matplotlib.pyplot as plt\n",
    "%matplotlib inline\n",
    "\n",
    "\n",
    "X_ZPAD_win_mags = abs (scipy.fft (x_zpad_win))\n",
    "#bins = list (range (0, len (x_zpad)))\n",
    "\n",
    "\n",
    "fax_dbl_sided = np.copy (fax)\n",
    "\n",
    "fax_dbl_sided[-49999:] = fax_dbl_sided[-49999:]-1000\n",
    "\n",
    "\n",
    "plt.figure (figsize=(16.,6.))\n",
    "plt.subplot (311)\n",
    "plt.plot (fax_dbl_sided[:1000], abs (scipy.fft (x_zpad_win))[:1000])\n",
    "plt.plot (fax_dbl_sided[-1000:], abs (scipy.fft (x_zpad_win))[-1000:])\n",
    "plt.title ('double-sided magnitude spectrum of zero-padded signal')\n",
    "plt.xlabel ('Sample [#]')\n",
    "plt.ylabel ('Amplitude [#]')\n",
    "plt.grid (True)\n",
    "\n",
    "plt.figure (figsize=(16.,6.))\n",
    "plt.subplot (312)\n",
    "plt.plot (fax_dbl_sided[:1000], abs (scipy.fft (sinusoid))[:1000])\n",
    "plt.plot (fax_dbl_sided[-1000:], abs (scipy.fft (sinusoid))[-1000:])\n",
    "plt.title ('double-sided magnitude spectrum of sinusoidal signal')\n",
    "plt.xlabel ('Sample [#]')\n",
    "plt.ylabel ('Amplitude [#]')\n",
    "plt.grid (True)\n",
    "\n",
    "plt.subplot (313)\n",
    "\n",
    "plt.plot (fax_dbl_sided[:1000], abs (scipy.fft (np.append (han_win, np.zeros (99000))))[:1000])\n",
    "plt.plot (fax_dbl_sided[-1000:], abs (scipy.fft (np.append (han_win, np.zeros (99000)))[-1000:]))\n",
    "plt.title ('double-sided magnitude of hanning window')\n",
    "plt.xlabel ('Sample [#]')\n",
    "plt.ylabel ('Amplitude [#]')\n",
    "plt.grid (True)\n",
    "\n",
    "plt.tight_layout ()\n",
    "plt.show ()"
   ]
  },
  {
   "cell_type": "markdown",
   "metadata": {},
   "source": [
    "## influence of zero-padding\n",
    "the more zeros padded, the higher the resolution in frequency-domain\n",
    "\n",
    "since the dft-bins are dictated by the number of samples in time-domain signal\n",
    "\n",
    "the lower res spectrums are a sampled version of the higher res ones"
   ]
  },
  {
   "cell_type": "markdown",
   "metadata": {},
   "source": [
    "## deprecated stuff\n",
    "just for information - messy style"
   ]
  },
  {
   "cell_type": "code",
   "execution_count": null,
   "metadata": {},
   "outputs": [],
   "source": [
    "# read wav file\n",
    "import wave\n",
    "import numpy as np\n",
    "\n",
    "wav_params = None\n",
    "wav_frames = None\n",
    "with wave.open (audio_out) as wav_file:\n",
    "    wav_params = wav_file.getparams ()\n",
    "    wav_frames = wav_file.readframes (-1)\n",
    "\n",
    "print ('signal information:')\n",
    "print ('  channels:', wav_params[0])\n",
    "print ('  sampling rate: {} Hz (S/s)'.format (wav_params[2]))\n",
    "print ('  number of samples: {} S'.format (wav_params[3]))\n",
    "print ('  sample width: {} Bytes = {} Bits'.format (wav_params[1], wav_params[1]*8))\n",
    "print ('  length of signal: {:.2f} s'.format (wav_params[3]/wav_params[2]))\n",
    "print ('example of signal samples:')\n",
    "print ('  ', wav_frames[30000:30010])\n",
    "wav_frames = np.frombuffer (wav_frames, dtype=np.int16)\n",
    "print ('  ', wav_frames[30000:30010])\n",
    "print (wav_frames.dtype)"
   ]
  },
  {
   "cell_type": "code",
   "execution_count": null,
   "metadata": {},
   "outputs": [],
   "source": [
    "# Fourier transformation requires input signal with number of samples to be a power of 2\n",
    "# if not, zero-pad the signal\n",
    "# from https://www.geeksforgeeks.org/smallest-power-of-2-greater-than-or-equal-to-n/\n",
    "if not (sig_prep_N & (sig_prep_N-1) == 0):\n",
    "    print ('[i] signal length not a power of 2')\n",
    "    print ('>>> zero-padding the signal...', end=' ', flush=True)\n",
    "    # get number of zeros to add\n",
    "    k = sig_prep_N\n",
    "    while (k&(k-1) > 0):\n",
    "        k = k&(k-1)\n",
    "    k = k<<1\n",
    "    num_zeros = k - sig_prep_N\n",
    "    # add zeros to end of signal\n",
    "    sig_prep = np.append (sig_prep, np.full (num_zeros, 0, dtype=sig_prep.dtype))\n",
    "    sig_prep_N = sig_prep.shape[0]\n",
    "    sig_prep_len = sig_prep_N/sig_prep_fs\n",
    "    print ('done')\n",
    "\n",
    "print (sig_prep_N)\n",
    "print (sig_prep_len)"
   ]
  },
  {
   "cell_type": "markdown",
   "metadata": {},
   "source": [
    "---"
   ]
  },
  {
   "cell_type": "markdown",
   "metadata": {},
   "source": [
    "# Obsolete"
   ]
  },
  {
   "cell_type": "markdown",
   "metadata": {},
   "source": [
    "## Decode MP3 to WAV\n",
    "why obsolete: Initial idea was to store mp3 files since they are smaller in size, and then convert them to wav."
   ]
  },
  {
   "cell_type": "code",
   "execution_count": null,
   "metadata": {},
   "outputs": [],
   "source": [
    "import subprocess\n",
    "import os\n",
    "\n",
    "\n",
    "curr_dir = os.path.abspath ('./')\n",
    "ffmpeg = os.path.join (curr_dir, 'src', 'ffmpeg-20180719-9cb3d8f-win64-static', 'bin', 'ffmpeg.exe')\n",
    "ffmpeg_opt_main = '-n -i'\n",
    "ffmpeg_opt_wav = '-ar 44100 -ac 2'\n",
    "audio_name = \"Rick Astley - Never Gonna Give You up\"\n",
    "#\"2017-06-16 - CamelPhat, Elderbrook - Cola [Original Mix]\"\n",
    "#\"2015-05-29 - Tough Love - So Freakin' Tight [Original Mix]\"\n",
    "audio_in = os.path.join ('src', audio_name + '.mp3')\n",
    "audio_out = os.path.join ('src', audio_name + '.wav')\n",
    "\n",
    "cmd = ffmpeg + ' ' + ffmpeg_opt_main + ' ' + \\\n",
    "    \"\\\"\" + audio_in + \"\\\"\" + ' ' + ffmpeg_opt_wav + ' ' + \\\n",
    "    \"\\\"\" + audio_out + \"\\\"\"\n",
    "\n",
    "subprocess.call (cmd, shell=True)"
   ]
  },
  {
   "cell_type": "code",
   "execution_count": null,
   "metadata": {},
   "outputs": [],
   "source": [
    "# [2018-08-16] turned out, that an image of 88x88 pixel is too small for the CNN\n",
    "# > increase size by adding also half pitches to the frequency range\n",
    "twtet_pitch_ratios_half = np.array ([2**(n*1/24) for n in range (-18, 6)])\n",
    "\n",
    "twtet_pitches_half = np.empty ((11, 24)) # shape is 11 octaves, each 24 half pitches\n",
    "for i in range (11):\n",
    "    twtet_pitches_half[i] = pitch_Ax[i] * twtet_pitch_ratios_half\n",
    "twtet_pitches_half = twtet_pitches_half.flatten ()\n",
    "\n",
    "twtet_pitches_half = twtet_pitches_half[pitch_A0_midi*2:(pitch_C8_midi+1)*2]"
   ]
  }
 ],
 "metadata": {
  "kernelspec": {
   "display_name": "Python 3",
   "language": "python",
   "name": "python3"
  },
  "language_info": {
   "codemirror_mode": {
    "name": "ipython",
    "version": 3
   },
   "file_extension": ".py",
   "mimetype": "text/x-python",
   "name": "python",
   "nbconvert_exporter": "python",
   "pygments_lexer": "ipython3",
   "version": "3.5.2"
  }
 },
 "nbformat": 4,
 "nbformat_minor": 2
}
