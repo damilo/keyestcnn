{
 "cells": [
  {
   "cell_type": "markdown",
   "metadata": {},
   "source": [
    "# Short-time Fourier Transformation\n",
    "on audio files"
   ]
  },
  {
   "cell_type": "markdown",
   "metadata": {},
   "source": [
    "## Read WAV signals\n",
    "- signal information and sample plot\n",
    "\n",
    "https://docs.scipy.org/doc/scipy/reference/signal.html"
   ]
  },
  {
   "cell_type": "code",
   "execution_count": 51,
   "metadata": {},
   "outputs": [],
   "source": [
    "# LOAD AUDIO DATASET\n",
    "import os\n",
    "import numpy as np\n",
    "from sklearn import datasets\n",
    "\n",
    "PARAM_RND_STATE = 42\n",
    "\n",
    "container_path = os.path.join ('..', '..', 'src_audio')\n",
    "load_content = False\n",
    "description = ['key C, mode minor', 'key C, mode major',\n",
    "               'key C#, mode minor', 'key C#, mode major',\n",
    "               'key D, mode minor', 'key D, mode major',\n",
    "               'key D#, mode minor', 'key D#, mode major',\n",
    "               'key E, mode minor', 'key E, mode major',\n",
    "               'key F, mode minor', 'key F, mode major',\n",
    "               'key F#, mode minor', 'key F#, mode major',\n",
    "               'key G, mode minor', 'key G, mode major',\n",
    "               'key G#, mode minor', 'key G#, mode major',\n",
    "               'key A, mode minor', 'key A, mode major',\n",
    "               'key A#, mode minor', 'key A#, mode major',\n",
    "               'key B, mode minor', 'key B, mode major']\n",
    "\n",
    "src_audio_data = datasets.load_files (container_path=container_path,\n",
    "                                      description=description,\n",
    "                                      load_content=load_content,\n",
    "                                      random_state=PARAM_RND_STATE)"
   ]
  },
  {
   "cell_type": "code",
   "execution_count": 52,
   "metadata": {},
   "outputs": [
    {
     "data": {
      "text/plain": [
       "dict_keys(['filenames', 'DESCR', 'target', 'target_names'])"
      ]
     },
     "execution_count": 52,
     "metadata": {},
     "output_type": "execute_result"
    }
   ],
   "source": [
    "src_audio_data.keys ()"
   ]
  },
  {
   "cell_type": "code",
   "execution_count": 53,
   "metadata": {},
   "outputs": [
    {
     "data": {
      "text/plain": [
       "'../../src_audio/1-0/TRLZZOJ128F1494C12.wav'"
      ]
     },
     "execution_count": 53,
     "metadata": {},
     "output_type": "execute_result"
    }
   ],
   "source": [
    "src_audio_data['filenames'][0]"
   ]
  },
  {
   "cell_type": "code",
   "execution_count": 54,
   "metadata": {},
   "outputs": [
    {
     "name": "stdout",
     "output_type": "stream",
     "text": [
      "[ 2  0  9 10 10 17 23  8  0 14  4 20 11 16 11 23 18  1 15 12 12  1 23  3\n",
      " 17 15  1 20 23 15  9 22  2 18  1  6 19  5  7 17 22 11 22  1 15  6 16  3\n",
      " 13  6 20 18 20 19 22 20 11 21  7 13  9 12 12  6 10  6 10  8 11 19 17 11\n",
      "  2 12  7  8  0  5 16 15  9  6 21 20 14  3  1  3  2  4 22 14 16  5 13 19\n",
      "  7  4 16 14  7 14  2 23 21 23 13  0  0  7  4 10 11 14 17  9  8 16 15  9\n",
      "  3 14  6  2 11 15 19  3  1 23  2 14  0 12  3 13 17  6 13 12 21 18  7 18\n",
      "  6  4 15  4 12  2 17 19  8  3 20  4  9 18  4 14 22  0 10  5 13 21 18 22\n",
      "  4 16  8  3  0 17 11  9  8 21 21  8  0  1  5 20 13  1 16  7 22 13 19 22\n",
      "  6  5 10  5 19 17 19 18 23 21 16  5  4  8  2  5 20 16 23 18 19 12  3 15\n",
      " 22  0  5 14 13 15 10  9 11  8 20  7 21 21 12 23  2 18  7 10  1  9 17 10] 0 23\n",
      "['0-0', '0-1', '1-0', '1-1', '10-0', '10-1', '11-0', '11-1', '2-0', '2-1', '3-0', '3-1', '4-0', '4-1', '5-0', '5-1', '6-0', '6-1', '7-0', '7-1', '8-0', '8-1', '9-0', '9-1']\n"
     ]
    }
   ],
   "source": [
    "print (src_audio_data['target'], src_audio_data['target'].min (), src_audio_data['target'].max ())\n",
    "print (src_audio_data['target_names'])"
   ]
  },
  {
   "cell_type": "code",
   "execution_count": 45,
   "metadata": {},
   "outputs": [
    {
     "name": "stderr",
     "output_type": "stream",
     "text": [
      "/home/ubudan/ml/keyestcnn/lib/python3.5/site-packages/scipy/io/wavfile.py:273: WavFileWarning: Chunk (non-data) not understood, skipping it.\n",
      "  WavFileWarning)\n"
     ]
    }
   ],
   "source": [
    "# READ WAVE FILES and store their information in a pandas df\n",
    "import os\n",
    "import numpy as np\n",
    "import pandas as pd\n",
    "from scipy.io import wavfile\n",
    "\n",
    "audio_data_list = list ()\n",
    "\n",
    "for audio_file in src_audio_data['filenames']:    \n",
    "    sig_fs, sig = wavfile.read (audio_file)\n",
    "\n",
    "    sig_ch = len (sig.shape) # number of channels\n",
    "    sig_N = sig.shape[0] # number of samples\n",
    "    sig_nw = sig.dtype.itemsize # sample width\n",
    "    sig_len = sig_N/sig_fs # length of signal\n",
    "    \n",
    "    audio_data_list.append ([sig_fs, sig_ch, sig_N, sig_nw, sig_len, sig])\n",
    "\n",
    "columns = ['sig_fs', 'sig_ch', 'sig_N', 'sig_nw', 'sig_len', 'sig']\n",
    "audio_data_df = pd.DataFrame (audio_data_list, columns=columns)"
   ]
  },
  {
   "cell_type": "markdown",
   "metadata": {},
   "source": [
    "explanation of columns:\n",
    "- *sig_fs* = sampling rate (samples per second)\n",
    "- *sig_ch* = number of channels\n",
    "- *sig_N* = number of samples\n",
    "- *sig_nw* = sample width (bytes)\n",
    "- *sig_len* = length of signal (seconds)\n",
    "- *sig* = signal data (array of samples)"
   ]
  },
  {
   "cell_type": "code",
   "execution_count": 65,
   "metadata": {},
   "outputs": [
    {
     "data": {
      "text/html": [
       "<div>\n",
       "<style scoped>\n",
       "    .dataframe tbody tr th:only-of-type {\n",
       "        vertical-align: middle;\n",
       "    }\n",
       "\n",
       "    .dataframe tbody tr th {\n",
       "        vertical-align: top;\n",
       "    }\n",
       "\n",
       "    .dataframe thead th {\n",
       "        text-align: right;\n",
       "    }\n",
       "</style>\n",
       "<table border=\"1\" class=\"dataframe\">\n",
       "  <thead>\n",
       "    <tr style=\"text-align: right;\">\n",
       "      <th></th>\n",
       "      <th>sig_fs</th>\n",
       "      <th>sig_ch</th>\n",
       "      <th>sig_N</th>\n",
       "      <th>sig_nw</th>\n",
       "      <th>sig_len</th>\n",
       "      <th>sig</th>\n",
       "    </tr>\n",
       "  </thead>\n",
       "  <tbody>\n",
       "    <tr>\n",
       "      <th>195</th>\n",
       "      <td>44100</td>\n",
       "      <td>2</td>\n",
       "      <td>1323000</td>\n",
       "      <td>2</td>\n",
       "      <td>30.000000</td>\n",
       "      <td>[[581, 469], [662, 565], [711, 629], [725, 647...</td>\n",
       "    </tr>\n",
       "    <tr>\n",
       "      <th>187</th>\n",
       "      <td>44100</td>\n",
       "      <td>2</td>\n",
       "      <td>1323000</td>\n",
       "      <td>2</td>\n",
       "      <td>30.000000</td>\n",
       "      <td>[[-1872, -1004], [-1981, -1133], [-1499, -707]...</td>\n",
       "    </tr>\n",
       "    <tr>\n",
       "      <th>130</th>\n",
       "      <td>44100</td>\n",
       "      <td>2</td>\n",
       "      <td>1323225</td>\n",
       "      <td>2</td>\n",
       "      <td>30.005102</td>\n",
       "      <td>[[804, -145], [864, -69], [968, 40], [1067, 12...</td>\n",
       "    </tr>\n",
       "  </tbody>\n",
       "</table>\n",
       "</div>"
      ],
      "text/plain": [
       "     sig_fs  sig_ch    sig_N  sig_nw    sig_len  \\\n",
       "195   44100       2  1323000       2  30.000000   \n",
       "187   44100       2  1323000       2  30.000000   \n",
       "130   44100       2  1323225       2  30.005102   \n",
       "\n",
       "                                                   sig  \n",
       "195  [[581, 469], [662, 565], [711, 629], [725, 647...  \n",
       "187  [[-1872, -1004], [-1981, -1133], [-1499, -707]...  \n",
       "130  [[804, -145], [864, -69], [968, 40], [1067, 12...  "
      ]
     },
     "metadata": {},
     "output_type": "display_data"
    }
   ],
   "source": [
    "display (audio_data_df.sample (3))"
   ]
  },
  {
   "cell_type": "code",
   "execution_count": 136,
   "metadata": {
    "scrolled": false
   },
   "outputs": [
    {
     "name": "stdout",
     "output_type": "stream",
     "text": [
      "[i] Example\n",
      "signal information:\n",
      "  channels: 2\n",
      "  sampling rate: 44100 Hz (S/s)\n",
      "  number of samples: 1323000 S\n",
      "  sample width: 2 Bytes = 16 Bits\n",
      "  length of signal: 30.00 s\n"
     ]
    },
    {
     "data": {
      "image/png": "[encoded data removed]",
      "text/plain": [
       "<Figure size 1152x288 with 2 Axes>"
      ]
     },
     "metadata": {},
     "output_type": "display_data"
    }
   ],
   "source": [
    "# FYI: EXAMPLE\n",
    "import matplotlib.pyplot as plt\n",
    "%matplotlib inline\n",
    "\n",
    "print ('[i] Example')\n",
    "\n",
    "ex_signal = audio_data_df.iloc[42]\n",
    "sig_ch = ex_signal['sig_ch']\n",
    "sig_fs = ex_signal['sig_fs']\n",
    "sig_N = ex_signal['sig_N']\n",
    "sig_nw = ex_signal['sig_nw']\n",
    "sig_len = ex_signal['sig_len']\n",
    "sig = ex_signal['sig']\n",
    "\n",
    "print ('signal information:')\n",
    "print ('  channels:', sig_ch)\n",
    "print ('  sampling rate: {} Hz (S/s)'.format (sig_fs))\n",
    "print ('  number of samples: {} S'.format (sig_N))\n",
    "print ('  sample width: {} Bytes = {} Bits'.format (sig_nw, sig_nw*8))\n",
    "print ('  length of signal: {:.2f} s'.format (sig_len))\n",
    "\n",
    "\n",
    "# plot sample of wav file\n",
    "t = np.linspace (0, len (sig)/sig_fs, sig_N)\n",
    "\n",
    "fig, axs = plt.subplots (2, 1, sharex=True, sharey=True)\n",
    "\n",
    "axs[0].step (t, sig[:,0], c=\"#3ABFE7\", label='ch1')\n",
    "axs[0].legend (loc='upper left')\n",
    "\n",
    "axs[1].step (t, sig[:,1], c=\"#3ABFE7\", label='ch2')\n",
    "axs[1].legend (loc='upper left')\n",
    "\n",
    "_ = plt.ylim()\n",
    "fig.set_size_inches ((16., 4.), forward=True)\n",
    "fig.suptitle ('')\n",
    "fig.subplots_adjust (hspace=0)\n",
    "\n",
    "plt.xlabel('Time [s]')\n",
    "plt.ylabel('Amplitude [#]')\n",
    "\n",
    "plt.show()"
   ]
  },
  {
   "cell_type": "markdown",
   "metadata": {},
   "source": [
    "## Data Preprocessing\n",
    "consists of:\n",
    "- reducing signal to one channel (mono)\n",
    "- decimation of signal (apply low-pass filter and downsampling)\n",
    "  - parameter: decimation factor = 2"
   ]
  },
  {
   "cell_type": "code",
   "execution_count": 108,
   "metadata": {},
   "outputs": [],
   "source": [
    "from scipy import signal\n",
    "\n",
    "PARAM_DEC_FAC = 2\n",
    "\n",
    "def sig_prep (sig, sig_ch=2, sig_fs=44100):\n",
    "    \n",
    "    sig_prep = np.copy (sig)\n",
    "    \n",
    "    #print ('>>> reducing signal to one channel...', end=' ', flush=True)\n",
    "    if sig_ch == 2:\n",
    "        sig_prep = sig_prep.sum (axis=1) / 2\n",
    "    #print ('done')\n",
    "\n",
    "    #print ('>>> decimation of signal to (factor {})...'.format (PARAM_DEC_FAC), end=' ', flush=True)\n",
    "    sig_prep = signal.decimate (sig_prep, q=PARAM_DEC_FAC, ftype='fir').astype (dtype=sig.dtype, copy=False)\n",
    "    #print ('done')\n",
    "\n",
    "    sig_ch = len (sig_prep.shape)\n",
    "    sig_N = sig_prep.shape[0]\n",
    "    sig_nw = sig_prep.dtype.itemsize\n",
    "    sig_fs = int (sig_fs / PARAM_DEC_FAC)\n",
    "    sig_len = sig_N/sig_fs\n",
    "    \n",
    "    return ([sig_fs, sig_ch, sig_N, sig_nw, sig_len, sig_prep])"
   ]
  },
  {
   "cell_type": "code",
   "execution_count": 110,
   "metadata": {},
   "outputs": [
    {
     "name": "stdout",
     "output_type": "stream",
     "text": [
      "\r",
      ">>> preprocessing signal 1 of 240... \r",
      ">>> preprocessing signal 2 of 240... \r",
      ">>> preprocessing signal 3 of 240... \r",
      ">>> preprocessing signal 4 of 240... \r",
      ">>> preprocessing signal 5 of 240... "
     ]
    },
    {
     "name": "stderr",
     "output_type": "stream",
     "text": [
      "/home/ubudan/ml/keyestcnn/lib/python3.5/site-packages/scipy/signal/signaltools.py:2383: FutureWarning: Using a non-tuple sequence for multidimensional indexing is deprecated; use `arr[tuple(seq)]` instead of `arr[seq]`. In the future this will be interpreted as an array index, `arr[np.array(seq)]`, which will result either in an error or a different result.\n",
      "  return y[keep]\n",
      "/home/ubudan/ml/keyestcnn/lib/python3.5/site-packages/scipy/signal/signaltools.py:3463: FutureWarning: Using a non-tuple sequence for multidimensional indexing is deprecated; use `arr[tuple(seq)]` instead of `arr[seq]`. In the future this will be interpreted as an array index, `arr[np.array(seq)]`, which will result either in an error or a different result.\n",
      "  return y[sl]\n"
     ]
    },
    {
     "name": "stdout",
     "output_type": "stream",
     "text": [
      ">>> preprocessing signal 240 of 240... done\n"
     ]
    }
   ],
   "source": [
    "audio_data_prep_list = list ()\n",
    "\n",
    "i = 0\n",
    "z = len (audio_data_list)\n",
    "for (sig_fs, sig_ch, _, _, _, sig) in audio_data_list:\n",
    "    print ('\\r>>> preprocessing signal {} of {}...'.format (i+1, z), end=' ')\n",
    "    sig_p = sig_prep (sig, sig_ch, sig_fs)\n",
    "    audio_data_prep_list.append (sig_p)\n",
    "    i+=1\n",
    "\n",
    "audio_data_prep_df = pd.DataFrame (audio_data_prep_list, columns=columns)\n",
    "print ('done')"
   ]
  },
  {
   "cell_type": "code",
   "execution_count": 121,
   "metadata": {},
   "outputs": [
    {
     "data": {
      "text/html": [
       "<div>\n",
       "<style scoped>\n",
       "    .dataframe tbody tr th:only-of-type {\n",
       "        vertical-align: middle;\n",
       "    }\n",
       "\n",
       "    .dataframe tbody tr th {\n",
       "        vertical-align: top;\n",
       "    }\n",
       "\n",
       "    .dataframe thead th {\n",
       "        text-align: right;\n",
       "    }\n",
       "</style>\n",
       "<table border=\"1\" class=\"dataframe\">\n",
       "  <thead>\n",
       "    <tr style=\"text-align: right;\">\n",
       "      <th></th>\n",
       "      <th>sig_fs</th>\n",
       "      <th>sig_ch</th>\n",
       "      <th>sig_N</th>\n",
       "      <th>sig_nw</th>\n",
       "      <th>sig_len</th>\n",
       "      <th>sig</th>\n",
       "    </tr>\n",
       "  </thead>\n",
       "  <tbody>\n",
       "    <tr>\n",
       "      <th>24</th>\n",
       "      <td>22050</td>\n",
       "      <td>1</td>\n",
       "      <td>661500</td>\n",
       "      <td>2</td>\n",
       "      <td>30.0</td>\n",
       "      <td>[3, 6, 8, 7, 8, 3, -11, -9, 8, 7, 8, 8, 8, 8, ...</td>\n",
       "    </tr>\n",
       "    <tr>\n",
       "      <th>157</th>\n",
       "      <td>22050</td>\n",
       "      <td>1</td>\n",
       "      <td>661500</td>\n",
       "      <td>2</td>\n",
       "      <td>30.0</td>\n",
       "      <td>[1136, 3572, 5452, 6325, 6453, 6084, 5109, 515...</td>\n",
       "    </tr>\n",
       "    <tr>\n",
       "      <th>78</th>\n",
       "      <td>22050</td>\n",
       "      <td>1</td>\n",
       "      <td>661500</td>\n",
       "      <td>2</td>\n",
       "      <td>30.0</td>\n",
       "      <td>[-2198, -2711, -2906, -3408, -4359, -5324, -48...</td>\n",
       "    </tr>\n",
       "  </tbody>\n",
       "</table>\n",
       "</div>"
      ],
      "text/plain": [
       "     sig_fs  sig_ch   sig_N  sig_nw  sig_len  \\\n",
       "24    22050       1  661500       2     30.0   \n",
       "157   22050       1  661500       2     30.0   \n",
       "78    22050       1  661500       2     30.0   \n",
       "\n",
       "                                                   sig  \n",
       "24   [3, 6, 8, 7, 8, 3, -11, -9, 8, 7, 8, 8, 8, 8, ...  \n",
       "157  [1136, 3572, 5452, 6325, 6453, 6084, 5109, 515...  \n",
       "78   [-2198, -2711, -2906, -3408, -4359, -5324, -48...  "
      ]
     },
     "metadata": {},
     "output_type": "display_data"
    }
   ],
   "source": [
    "display (audio_data_prep_df.sample (3))"
   ]
  },
  {
   "cell_type": "code",
   "execution_count": 137,
   "metadata": {},
   "outputs": [
    {
     "name": "stdout",
     "output_type": "stream",
     "text": [
      "[i] Example\n",
      "signal information:\n",
      "  channels: 1\n",
      "  sampling rate: 22050 Hz (S/s)\n",
      "  number of samples: 661500 S\n",
      "  sample width: 2 Bytes = 16 Bits\n",
      "  length of signal: 30.00 s\n"
     ]
    },
    {
     "data": {
      "image/png": "[encoded data removed]",
      "text/plain": [
       "<Figure size 1152x144 with 1 Axes>"
      ]
     },
     "metadata": {},
     "output_type": "display_data"
    }
   ],
   "source": [
    "# FYI: EXAMPLE\n",
    "print ('[i] Example')\n",
    "\n",
    "ex_signal_p = audio_data_prep_df.iloc[42]\n",
    "sig_ch_p = ex_signal_p['sig_ch']\n",
    "sig_fs_p = ex_signal_p['sig_fs']\n",
    "sig_N_p = ex_signal_p['sig_N']\n",
    "sig_nw_p = ex_signal_p['sig_nw']\n",
    "sig_len_p = ex_signal_p['sig_len']\n",
    "sig_p = ex_signal_p['sig']\n",
    "\n",
    "print ('signal information:')\n",
    "print ('  channels:', sig_ch_p)\n",
    "print ('  sampling rate: {} Hz (S/s)'.format (sig_fs_p))\n",
    "print ('  number of samples: {} S'.format (sig_N_p))\n",
    "print ('  sample width: {} Bytes = {} Bits'.format (sig_nw_p, sig_nw_p*8))\n",
    "print ('  length of signal: {:.2f} s'.format (sig_len_p))\n",
    "\n",
    "plt.figure(figsize=(16.,2.))\n",
    "plt.step (t, sig[:, 0], c=\"#3ABFE7\", label='src ch1')\n",
    "\n",
    "t_p = np.linspace (0, len (sig_p)/sig_fs_p, sig_N_p)\n",
    "plt.step (t_p, sig_p, c=\"#FF0000\", alpha=0.4, label='mono')\n",
    "\n",
    "plt.xlabel('Time [s]')\n",
    "plt.ylabel('Amplitude [#]')\n",
    "\n",
    "plt.show ()"
   ]
  },
  {
   "cell_type": "markdown",
   "metadata": {},
   "source": [
    "## Fourier Transformation for time-discrete signals"
   ]
  },
  {
   "cell_type": "markdown",
   "metadata": {},
   "source": [
    "<a href='https://stackoverflow.com/questions/604453/analyze-audio-using-fast-fourier-transform'>https://stackoverflow.com/questions/604453/analyze-audio-using-fast-fourier-transform</a>\n",
    "\n",
    "<a href='https://stackoverflow.com/questions/18248102/removal-of-dc-offset-using-highpass-fft-filter'>https://stackoverflow.com/questions/18248102/removal-of-dc-offset-using-highpass-fft-filter</a>"
   ]
  },
  {
   "cell_type": "code",
   "execution_count": 11,
   "metadata": {},
   "outputs": [
    {
     "name": "stdout",
     "output_type": "stream",
     "text": [
      ">>> Slicing signal... done\n",
      "[i] Signal sliced in 26 parts, each 8192 samples.\n"
     ]
    }
   ],
   "source": [
    "# SLICING\n",
    "# of the signal in parts with number of sample are to the power of 2\n",
    "import math\n",
    "\n",
    "# PARAM: number of samples for one dft\n",
    "PARAM_N = 1<<13\n",
    "\n",
    "print ('>>> Slicing signal...', end=' ', flush=True)\n",
    "num_slices = math.floor (sig_prep_N / PARAM_N)\n",
    "if (num_slices*PARAM_N < sig_prep_N):  # one more slice usually needed -> checked here\n",
    "    num_slices += 1\n",
    "sig_slices = np.empty ((num_slices,PARAM_N))\n",
    "\n",
    "for i in range (num_slices):\n",
    "    sl = np.copy (sig_prep)[i*PARAM_N:(i+1)*PARAM_N]\n",
    "    # only last slice of source signal will differ in length\n",
    "    if (i == (num_slices-1)):\n",
    "        num_zeros = PARAM_N-sl.size\n",
    "        sl = np.append (sl, np.full (num_zeros, 0, dtype=sl.dtype))\n",
    "    \n",
    "    sig_slices[i] = sl\n",
    "print ('done')\n",
    "print ('[i] Signal sliced in {} parts, each {} samples.'.format (sig_slices.shape[0], sig_slices.shape[1]))"
   ]
  },
  {
   "cell_type": "code",
   "execution_count": 12,
   "metadata": {},
   "outputs": [
    {
     "data": {
      "image/png": "[encoded data removed]",
      "text/plain": [
       "<Figure size 1152x288 with 1 Axes>"
      ]
     },
     "metadata": {},
     "output_type": "display_data"
    }
   ],
   "source": [
    "plt.figure(figsize=(16.,4.))\n",
    "plt.step (range (PARAM_N), sig_slices[5])\n",
    "plt.xlabel('Sample [#]')\n",
    "plt.ylabel('Amplitude [#]')\n",
    "plt.show ()"
   ]
  },
  {
   "cell_type": "code",
   "execution_count": 13,
   "metadata": {},
   "outputs": [],
   "source": [
    "# WINDOWING\n",
    "# Hanning window is used\n",
    "if False:\n",
    "    from scipy import signal\n",
    "\n",
    "    # PARAM: type of window\n",
    "    PARAM_WIN = signal.hann (PARAM_N)\n",
    "    \n",
    "    print ('>>> Windowing signal...', end=' ', flush=True)\n",
    "    for i in range (sig_slices.shape[0]):\n",
    "        sig_slices[i] = sig_slices[i]*PARAM_WIN\n",
    "    print ('done')\n",
    "    plt.figure(figsize=(16.,4.))\n",
    "    plt.step (range (PARAM_N), sig_slices[5])\n",
    "    plt.xlabel('Sample [#]')\n",
    "    plt.ylabel('Amplitude [#]')\n",
    "    plt.show ()"
   ]
  },
  {
   "cell_type": "code",
   "execution_count": 14,
   "metadata": {},
   "outputs": [
    {
     "name": "stdout",
     "output_type": "stream",
     "text": [
      ">>> Zero-padding signal... done\n",
      "[i] New shape of signal slice (26, 16384)\n"
     ]
    }
   ],
   "source": [
    "# ZERO-PADDING\n",
    "# number of samples of the time-domain signal dictate the resolution in the frequency-domain\n",
    "if True:\n",
    "    # PARAM: number of zeros to add\n",
    "    PARAM_N_ZEROS = 1<<13\n",
    "\n",
    "    print ('>>> Zero-padding signal...', end=' ', flush=True)\n",
    "    sig_slices_zpad = np.empty ((sig_slices.shape[0], sig_slices.shape[1]+PARAM_N_ZEROS))\n",
    "    for i in range (sig_slices.shape[0]):\n",
    "        sig_slices_zpad[i] = np.append (sig_slices[i], np.full (PARAM_N_ZEROS, 0, dtype=sig_slices[i].dtype))\n",
    "    sig_slices = sig_slices_zpad\n",
    "    print ('done')\n",
    "    print ('[i] New shape of signal slice', sig_slices.shape)"
   ]
  },
  {
   "cell_type": "markdown",
   "metadata": {},
   "source": [
    "#### Equal Temperament\n",
    "<a href='https://en.wikipedia.org/wiki/Equal_temperament#General_properties'>Wikipedia: equal temperament</a>\n",
    "\n",
    "In an equal temperament, the distance between two adjacent steps of the scale is the same interval.\n",
    "\n",
    "$r^n=p$, $r=\\sqrt[\\uproot{2}n]{p}$ - ratio r divides the ratio p into n equal parts\n",
    "\n",
    "#### 12-TET\n",
    "In twelve-tone equal temperament (12-TET), an octave is divided into 12 equal parts, the width of a semitone.\n",
    "The frequency ratio of the interval between two adjacent notes, is:\n",
    "\n",
    "$r=\\sqrt[\\uproot{2}12]{2}$\n",
    "\n",
    "To find the frequency, $P_n$, of a note in 12-TET, the following definition may be used:\n",
    "\n",
    "$P_n = P_a (\\sqrt[\\uproot{2}12]{2})^{(n-a)}$\n",
    "\n",
    "$P_n$ is the frequency of the pitch to find, $P_a$ is the frequency of a reference pitch, $n$ and $a$ refer to numbers from a list of consecutive integers assigned to consecutive semitones.\n",
    "\n",
    "In musical analysis, material belonging to an equal temperament is often given an integer notation, meaning a single integer is used to represent each pitch.\n",
    "\n",
    "#### Integer notation of pitches\n",
    "<a href='https://en.wikipedia.org/wiki/Piano'>Piano</a>\n",
    "\n",
    "Most modern pianos have a row of 88 black and white keys. This means that the piano can play 88 different pitches.\n",
    "\n",
    "<a href='https://en.wikipedia.org/wiki/Piano_key_frequencies'>Piano key frequencies</a>\n",
    "\n",
    "A list of the fundamental frequencies in hertz (cycles per second) of the keys of a modern 88-key standard piano in 12-TET, with the 49th key (A4), tuned to 440 Hz (A440).\n",
    "\n",
    "Insted of taking the piano keys as integer notation, the Scientific Pitch Notation with some minor changes is used.\n",
    "\n",
    "<a href='https://en.wikipedia.org/wiki/Scientific_pitch_notation'>Scientific pitch notation</a>\n",
    "\n",
    "(or SPN, also known as American Standard Pitch Notation (ASPN) and International Pitch Notation (IPN)) is a method of specifying musical pitch by combining a musical note name (with accidental if needed) and a number identifying the pitch's octave.\n",
    "\n",
    "<a href='https://en.wikipedia.org/wiki/Scientific_pitch_notation#Table_of_note_frequencies'>SPN table of note frequencies</a>\n",
    "\n",
    "<a href='https://en.wikipedia.org/wiki/Twelfth_root_of_two#The_equal-tempered_chromatic_scale'>12-TET chromatic scale</a>\n",
    "\n",
    "A is always the basis, but notations begin with C.\n",
    "\n",
    "$C_{-1}$ (note C of ocatve -1) will be the first pitch and noted with 0 as it is defined by MIDI.\n",
    "From there we create a list of 128 pitch frequencies, up to $G_{9}$ (note G of octave 9, MIDI=128)\n",
    "\n",
    "Then we are able to choose whatever range we want for further processing (whole range, 88-key Piano, 108-key Piano).\n",
    "\n",
    "Note A is always the 9th note, and therefor the pitch ratios begin at -9 and end at 2."
   ]
  },
  {
   "cell_type": "code",
   "execution_count": 15,
   "metadata": {},
   "outputs": [
    {
     "name": "stdout",
     "output_type": "stream",
     "text": [
      "12-TET pitches\n",
      "count: 108\n",
      "example: A4= 440.0 Hz\n"
     ]
    }
   ],
   "source": [
    "pitch_A0 = 27.5\n",
    "pitch_Ax = np.array ([pitch_A0*(2**n) for n in range (-1, 11)])\n",
    "twtet_pitch_ratios = np.array ([2**(n*1/12) for n in range (-9, 3)])\n",
    "\n",
    "twtet_pitches = np.empty ((11,12)) # shape is 11 octaves, each 12 pitches\n",
    "for i in range (11):\n",
    "    twtet_pitches[i] = pitch_Ax[i] * twtet_pitch_ratios\n",
    "\n",
    "twtet_pitches = twtet_pitches.flatten ()\n",
    "# MIDI notation has only 128 numbers\n",
    "#twtet_pitches = twtet_pitches[:128]\n",
    "pitch_C0_midi = 12\n",
    "twtet_pitches = twtet_pitches[pitch_C0_midi:120]\n",
    "print ('12-TET pitches')\n",
    "print ('count:', twtet_pitches.size)\n",
    "print ('example: A4= {} Hz'.format (twtet_pitches[69-pitch_C0_midi]))"
   ]
  },
  {
   "cell_type": "code",
   "execution_count": 16,
   "metadata": {},
   "outputs": [],
   "source": [
    "# There will be uncertainty in the Fourier-transformed signal.\n",
    "# The number of samples of the time-domain signal dictate the resolution in the frequency-domain.\n",
    "# The frequency-domain is divided evenly in bins (=number of samples).\n",
    "\n",
    "# TODO\n",
    "# change numbers to better fit for histogram\n",
    "# e.g. A0=27.5 > put in bin in half of 12-root-2\n",
    "#twtet_pitches = twtet_pitches - (2**(1/12)/2)\n",
    "#print (twtet_pitches)"
   ]
  },
  {
   "cell_type": "code",
   "execution_count": 17,
   "metadata": {
    "scrolled": false
   },
   "outputs": [
    {
     "name": "stdout",
     "output_type": "stream",
     "text": [
      ">>> performing Fourier Transformation... done\n"
     ]
    }
   ],
   "source": [
    "import scipy\n",
    "import scipy.fftpack\n",
    "\n",
    "\n",
    "T = 1.0/sig_prep_fs # sampling interval in time\n",
    "\n",
    "print ('>>> performing Fourier Transformation...', end=' ', flush=True)\n",
    "# retrieve Fourier Transform coefficients\n",
    "# calculate magnitude of the FFT coefficients (= absolute value of each complex coefficient)\n",
    "sig_fft_mags = np.empty (sig_slices.shape)\n",
    "for i in range (sig_slices.shape[0]):\n",
    "    sig_fft_mags[i] = abs (scipy.fft (sig_slices[i]))\n",
    "print ('done')\n",
    "\n",
    "# get the frequency bin centers in cycles per unit of the sample spacing (with zero at the start)\n",
    "freq_bins = list (range (0, len (sig_fft_mags[0])))\n",
    "# convert bins to frequency range\n",
    "freq_bins_f = (np.array (freq_bins)/len(sig_fft_mags[0])) * sig_prep_fs"
   ]
  },
  {
   "cell_type": "code",
   "execution_count": 1,
   "metadata": {
    "scrolled": false
   },
   "outputs": [
    {
     "name": "stdout",
     "output_type": "stream",
     "text": [
      ">>> drawing image... "
     ]
    },
    {
     "ename": "NameError",
     "evalue": "name 'plt' is not defined",
     "output_type": "error",
     "traceback": [
      "\u001b[0;31m---------------------------------------------------------------------------\u001b[0m",
      "\u001b[0;31mNameError\u001b[0m                                 Traceback (most recent call last)",
      "\u001b[0;32m<ipython-input-1-b69db3d9f169>\u001b[0m in \u001b[0;36m<module>\u001b[0;34m()\u001b[0m\n\u001b[1;32m      1\u001b[0m \u001b[0mprint\u001b[0m \u001b[0;34m(\u001b[0m\u001b[0;34m'>>> drawing image...'\u001b[0m\u001b[0;34m,\u001b[0m \u001b[0mend\u001b[0m\u001b[0;34m=\u001b[0m\u001b[0;34m' '\u001b[0m\u001b[0;34m,\u001b[0m \u001b[0mflush\u001b[0m\u001b[0;34m=\u001b[0m\u001b[0;32mTrue\u001b[0m\u001b[0;34m)\u001b[0m\u001b[0;34m\u001b[0m\u001b[0m\n\u001b[0;32m----> 2\u001b[0;31m \u001b[0mfig\u001b[0m\u001b[0;34m,\u001b[0m \u001b[0maxs\u001b[0m \u001b[0;34m=\u001b[0m \u001b[0mplt\u001b[0m\u001b[0;34m.\u001b[0m\u001b[0msubplots\u001b[0m \u001b[0;34m(\u001b[0m\u001b[0msig_fft_mags\u001b[0m\u001b[0;34m.\u001b[0m\u001b[0mshape\u001b[0m\u001b[0;34m[\u001b[0m\u001b[0;36m0\u001b[0m\u001b[0;34m]\u001b[0m\u001b[0;34m,\u001b[0m \u001b[0;36m1\u001b[0m\u001b[0;34m,\u001b[0m \u001b[0msharex\u001b[0m\u001b[0;34m=\u001b[0m\u001b[0;32mTrue\u001b[0m\u001b[0;34m)\u001b[0m\u001b[0;34m\u001b[0m\u001b[0m\n\u001b[0m\u001b[1;32m      3\u001b[0m \u001b[0mdpi\u001b[0m \u001b[0;34m=\u001b[0m \u001b[0mfig\u001b[0m\u001b[0;34m.\u001b[0m\u001b[0mget_dpi\u001b[0m \u001b[0;34m(\u001b[0m\u001b[0;34m)\u001b[0m\u001b[0;34m\u001b[0m\u001b[0m\n\u001b[1;32m      4\u001b[0m \u001b[0mw\u001b[0m \u001b[0;34m=\u001b[0m \u001b[0mtwtet_pitches\u001b[0m\u001b[0;34m.\u001b[0m\u001b[0msize\u001b[0m\u001b[0;34m*\u001b[0m\u001b[0;36m2\u001b[0m\u001b[0;34m\u001b[0m\u001b[0m\n\u001b[1;32m      5\u001b[0m \u001b[0mh\u001b[0m \u001b[0;34m=\u001b[0m \u001b[0mtwtet_pitches\u001b[0m\u001b[0;34m.\u001b[0m\u001b[0msize\u001b[0m\u001b[0;34m*\u001b[0m\u001b[0;36m2\u001b[0m \u001b[0;31m#sig_prep_fs/10\u001b[0m\u001b[0;34m\u001b[0m\u001b[0m\n",
      "\u001b[0;31mNameError\u001b[0m: name 'plt' is not defined"
     ]
    }
   ],
   "source": [
    "print ('>>> drawing image...', end=' ', flush=True)\n",
    "fig, axs = plt.subplots (sig_fft_mags.shape[0], 1, sharex=True)\n",
    "dpi = fig.get_dpi ()\n",
    "w = twtet_pitches.size*2\n",
    "h = twtet_pitches.size*2 #sig_prep_fs/10\n",
    "fig.set_size_inches (w/dpi,h/dpi)\n",
    "for i in range (sig_fft_mags.shape[0]):\n",
    "    cpy = np.copy (sig_fft_mags[i])\n",
    "    y = []\n",
    "    for _ in range (25):\n",
    "        bin_n = np.argmax (cpy)\n",
    "        y.append (freq_bins_f[bin_n])\n",
    "        cpy = np.delete (cpy, bin_n)\n",
    "    hist, edges = np.histogram (y, bins=twtet_pitches, range=(twtet_pitches.min(), twtet_pitches.max()))\n",
    "    hist=hist[np.newaxis,:]\n",
    "    extent=[0, twtet_pitches.size,0,1]\n",
    "    # [!] LATER use cmap=\"binary\"\n",
    "    axs[i].imshow (hist, aspect='auto', cmap=\"gray\", extent=extent)\n",
    "    axs[i].axis ('off')\n",
    "    axs[i].axes.get_xaxis().set_visible (False)\n",
    "    axs[i].axes.get_yaxis().set_visible (False)\n",
    "\n",
    "plt.subplots_adjust (top=1, bottom=0, right=1, left=0, hspace=0, wspace=0)\n",
    "plt.savefig (audio_name, dpi=dpi, pad_inches=0, bbox_inches='tight')\n",
    "plt.show ()"
   ]
  },
  {
   "cell_type": "code",
   "execution_count": 20,
   "metadata": {},
   "outputs": [],
   "source": [
    "# IMAGE EDIT: convert to 8 Bit and rotate by 90 degrees\n",
    "from PIL import Image\n",
    "\n",
    "img = Image.open (audio_name+'.png').convert ('L')\n",
    "img = img.rotate (90)\n",
    "img.save (audio_name+'_bw'+'.png')\n",
    "#img.show ()"
   ]
  },
  {
   "cell_type": "markdown",
   "metadata": {},
   "source": [
    "<a href='http://pages.mtu.edu/~suits/notefreqs.html'>http://pages.mtu.edu/~suits/notefreqs.html</a>"
   ]
  },
  {
   "cell_type": "markdown",
   "metadata": {},
   "source": [
    "## Short-Time Fourier Transformation (STFT)"
   ]
  },
  {
   "cell_type": "markdown",
   "metadata": {},
   "source": [
    "## simple example for windowing"
   ]
  },
  {
   "cell_type": "markdown",
   "metadata": {},
   "source": [
    "### cosine wave and its dft"
   ]
  },
  {
   "cell_type": "code",
   "execution_count": null,
   "metadata": {},
   "outputs": [],
   "source": [
    "import math\n",
    "import numpy as np\n",
    "import matplotlib.pyplot as plt\n",
    "%matplotlib inline\n",
    "\n",
    "fs = 1000 # frames per second\n",
    "T = 1/fs\n",
    "N = 1000 # samples\n",
    "n = list (range (0,N))\n",
    "t = np.linspace (0, len (n)*T, N)\n",
    "x = [math.cos (2*math.pi*6.5*_t) for _t in t] # cos with freq of 6.5 Hz\n",
    "\n",
    "# -----\n",
    "\n",
    "import scipy\n",
    "import scipy.fftpack\n",
    "\n",
    "x_zpad = np.append (x, np.full (99000, 0))\n",
    "X_ZPAD_mags = abs (scipy.fft (x_zpad))\n",
    "bins = list (range (0, len (x_zpad)))\n",
    "\n",
    "\n",
    "# -----\n",
    "\n",
    "import matplotlib.pyplot as plt\n",
    "%matplotlib inline\n",
    "\n",
    "plt.figure (figsize=(16.,6.))\n",
    "plt.subplot (211)\n",
    "plt.plot (t, x)\n",
    "plt.title ('time-domain signal')\n",
    "plt.xlabel('Time [s]')\n",
    "plt.ylabel('Amplitude [#]')\n",
    "plt.grid (True)\n",
    "plt.subplot (212)\n",
    "plt.plot (bins[0:1500], X_ZPAD_mags[0:1500])\n",
    "plt.title ('magnitude spectrum of zero-padded signal')\n",
    "plt.xlabel ('Frequency bin [#]')\n",
    "plt.ylabel ('Magnitude [#]')\n",
    "plt.grid (True)\n",
    "\n",
    "plt.subplots_adjust (hspace=0.5)\n",
    "plt.show ()"
   ]
  },
  {
   "cell_type": "markdown",
   "metadata": {},
   "source": [
    "above DFT magnitude spectrum plot shows the first 1500 bins\n",
    "\n",
    "the frequency with highest magnitude is calculated by:\n",
    "\n",
    "bin_num / len (x_zpad) \\* fs = 650 / 100.000 \\* 1.000 = 6.5 Hz"
   ]
  },
  {
   "cell_type": "code",
   "execution_count": null,
   "metadata": {
    "scrolled": true
   },
   "outputs": [],
   "source": [
    "# now bins will be converted to frequency range\n",
    "import matplotlib.pyplot as plt\n",
    "%matplotlib inline\n",
    "\n",
    "fax = np.array (bins) * fs / len (x_zpad)\n",
    "\n",
    "plt.figure (figsize=(16.,3.))\n",
    "plt.plot (fax[0:1500], X_ZPAD_mags[0:1500])\n",
    "plt.title ('magnitude spectrum of zero-padded signal')\n",
    "plt.xlabel ('Frequency [Hz]')\n",
    "plt.ylabel ('Magnitude [#]')\n",
    "plt.grid (True)\n",
    "\n",
    "plt.show ()\n",
    "\n",
    "print ('frequency with highest magnitude = {} Hz'.format (fax[np.argmax(X_ZPAD_mags)]))"
   ]
  },
  {
   "cell_type": "markdown",
   "metadata": {},
   "source": [
    "### rectangular window"
   ]
  },
  {
   "cell_type": "markdown",
   "metadata": {},
   "source": [
    "first: look at signals in time-domain"
   ]
  },
  {
   "cell_type": "code",
   "execution_count": null,
   "metadata": {},
   "outputs": [],
   "source": [
    "import matplotlib.pyplot as plt\n",
    "%matplotlib inline\n",
    "\n",
    "Ndisp = 5000\n",
    "\n",
    "plt.figure (figsize=(16.,6.))\n",
    "plt.subplot (311)\n",
    "plt.plot (x_zpad[0:Ndisp])\n",
    "plt.title ('zero-padded signal' + ' (first {} samples)'.format (Ndisp))\n",
    "plt.xlabel ('Sample [#]')\n",
    "plt.ylabel ('Amplitude [#]')\n",
    "plt.grid (True)\n",
    "\n",
    "t = np.linspace (0, 100000*T, 100000)\n",
    "sinusoid = [math.cos (2*math.pi*6.5*_t) for _t in t] # cos with freq of 6.5 Hz\n",
    "plt.subplot (312)\n",
    "plt.plot (sinusoid[0:Ndisp])\n",
    "plt.title ('sinusoidal signal' + ' (first {} samples)'.format (Ndisp))\n",
    "plt.xlabel ('Sample [#]')\n",
    "plt.ylabel ('Amplitude [#]')\n",
    "plt.grid (True)\n",
    "\n",
    "win = np.append (np.ones (1000), np.zeros (99000))\n",
    "plt.subplot (313)\n",
    "plt.plot (win[0:Ndisp])\n",
    "plt.title ('rectangular window' + ' (first {} samples)'.format (Ndisp))\n",
    "plt.xlabel ('Sample [#]')\n",
    "plt.ylabel ('Amplitude [#]')\n",
    "plt.ylim (-0.5, 1.5)\n",
    "plt.grid (True)\n",
    "\n",
    "plt.subplots_adjust (hspace=0.8)\n",
    "plt.show ()"
   ]
  },
  {
   "cell_type": "markdown",
   "metadata": {},
   "source": [
    "Interpretation of rectangular window: the sinusoidal signal (graph 2) is multiplied by the rectangular window (graph 3) in order to get the zero-padded signal (graph 1)"
   ]
  },
  {
   "cell_type": "markdown",
   "metadata": {},
   "source": [
    "second: now let's see how the requency-domain looks like"
   ]
  },
  {
   "cell_type": "code",
   "execution_count": null,
   "metadata": {},
   "outputs": [],
   "source": [
    "fax_dbl_sided = np.copy (fax)\n",
    "\n",
    "fax_dbl_sided[-49999:] = fax_dbl_sided[-49999:]-1000\n",
    "\n",
    "\n",
    "plt.figure (figsize=(16.,6.))\n",
    "plt.subplot (311)\n",
    "plt.plot (fax_dbl_sided[:1000], abs (scipy.fft (x_zpad))[:1000])\n",
    "plt.plot (fax_dbl_sided[-1000:], abs (scipy.fft (x_zpad))[-1000:])\n",
    "plt.title ('double-sided magnitude spectrum of zero-padded signal')\n",
    "plt.xlabel ('Sample [#]')\n",
    "plt.ylabel ('Amplitude [#]')\n",
    "plt.grid (True)\n",
    "\n",
    "plt.figure (figsize=(16.,6.))\n",
    "plt.subplot (312)\n",
    "plt.plot (fax_dbl_sided[:1000], abs (scipy.fft (sinusoid))[:1000])\n",
    "plt.plot (fax_dbl_sided[-1000:], abs (scipy.fft (sinusoid))[-1000:])\n",
    "plt.title ('double-sided magnitude spectrum of sinusoidal signal')\n",
    "plt.xlabel ('Sample [#]')\n",
    "plt.ylabel ('Amplitude [#]')\n",
    "plt.grid (True)\n",
    "\n",
    "win = np.append (np.ones (1000), np.zeros (99000))\n",
    "plt.subplot (313)\n",
    "plt.plot (fax_dbl_sided[:1000], abs (scipy.fft (win))[:1000])\n",
    "plt.plot (fax_dbl_sided[-1000:], abs (scipy.fft (win))[-1000:])\n",
    "plt.title ('double-sided magnitude of rectangular window')\n",
    "plt.xlabel ('Sample [#]')\n",
    "plt.ylabel ('Amplitude [#]')\n",
    "plt.grid (True)\n",
    "\n",
    "plt.subplots_adjust (hspace=0.8)\n",
    "plt.show ()"
   ]
  },
  {
   "cell_type": "markdown",
   "metadata": {},
   "source": [
    "As shown, the sinusoidal signal is in general just a line in frequency-domain. But due to the applied rectangular window in time-domain, the dft ends up like for the zero-padded signal.\n",
    "\n",
    "Consequence: **Convolution** = multiplication in time-domain results in convolution in frequency-domain"
   ]
  },
  {
   "cell_type": "markdown",
   "metadata": {},
   "source": [
    "### hanning window\n",
    "same as above, nut now with hanning window"
   ]
  },
  {
   "cell_type": "code",
   "execution_count": null,
   "metadata": {},
   "outputs": [],
   "source": [
    "### time-domain signals\n",
    "\n",
    "from scipy import signal\n",
    "import scipy.fftpack\n",
    "\n",
    "import matplotlib.pyplot as plt\n",
    "%matplotlib inline\n",
    "\n",
    "Ndisp = 5000\n",
    "\n",
    "# THIS IS THE IMPORTANT PART - multiply window with time-domain signal\n",
    "han_win = signal.hann (N)\n",
    "x_zpad_win = np.append (x*han_win, np.full (99000, 0))\n",
    "\n",
    "plt.figure (figsize=(16.,6.))\n",
    "plt.subplot (311)\n",
    "plt.plot (x_zpad_win[0:Ndisp])\n",
    "plt.title ('zero-padded signal' + ' (first {} samples)'.format (Ndisp))\n",
    "plt.xlabel ('Sample [#]')\n",
    "plt.ylabel ('Amplitude [#]')\n",
    "plt.grid (True)\n",
    "\n",
    "t = np.linspace (0, 100000*T, 100000)\n",
    "sinusoid = [math.cos (2*math.pi*6.5*_t) for _t in t] # cos with freq of 6.5 Hz\n",
    "plt.subplot (312)\n",
    "plt.plot (sinusoid[0:Ndisp])\n",
    "plt.title ('sinusoidal signal' + ' (first {} samples)'.format (Ndisp))\n",
    "plt.xlabel ('Sample [#]')\n",
    "plt.ylabel ('Amplitude [#]')\n",
    "plt.grid (True)\n",
    "\n",
    "\n",
    "plt.subplot (313)\n",
    "plt.plot (np.append (han_win, np.zeros (99000))[0:Ndisp])\n",
    "plt.title ('hanning window' + ' (first {} samples)'.format (Ndisp))\n",
    "plt.xlabel ('Sample [#]')\n",
    "plt.ylabel ('Amplitude [#]')\n",
    "plt.ylim (-0.5, 1.5)\n",
    "plt.grid (True)\n",
    "\n",
    "plt.subplots_adjust (hspace=0.8)\n",
    "plt.show ()"
   ]
  },
  {
   "cell_type": "markdown",
   "metadata": {},
   "source": [
    "sinusiodal signal is multiplied with hanning window to get the zero-padded signal (graph 1)"
   ]
  },
  {
   "cell_type": "code",
   "execution_count": null,
   "metadata": {},
   "outputs": [],
   "source": [
    "# frequency-domain signals\n",
    "\n",
    "from scipy import signal\n",
    "import scipy.fftpack\n",
    "\n",
    "import matplotlib.pyplot as plt\n",
    "%matplotlib inline\n",
    "\n",
    "\n",
    "X_ZPAD_win_mags = abs (scipy.fft (x_zpad_win))\n",
    "#bins = list (range (0, len (x_zpad)))\n",
    "\n",
    "\n",
    "fax_dbl_sided = np.copy (fax)\n",
    "\n",
    "fax_dbl_sided[-49999:] = fax_dbl_sided[-49999:]-1000\n",
    "\n",
    "\n",
    "plt.figure (figsize=(16.,6.))\n",
    "plt.subplot (311)\n",
    "plt.plot (fax_dbl_sided[:1000], abs (scipy.fft (x_zpad_win))[:1000])\n",
    "plt.plot (fax_dbl_sided[-1000:], abs (scipy.fft (x_zpad_win))[-1000:])\n",
    "plt.title ('double-sided magnitude spectrum of zero-padded signal')\n",
    "plt.xlabel ('Sample [#]')\n",
    "plt.ylabel ('Amplitude [#]')\n",
    "plt.grid (True)\n",
    "\n",
    "plt.figure (figsize=(16.,6.))\n",
    "plt.subplot (312)\n",
    "plt.plot (fax_dbl_sided[:1000], abs (scipy.fft (sinusoid))[:1000])\n",
    "plt.plot (fax_dbl_sided[-1000:], abs (scipy.fft (sinusoid))[-1000:])\n",
    "plt.title ('double-sided magnitude spectrum of sinusoidal signal')\n",
    "plt.xlabel ('Sample [#]')\n",
    "plt.ylabel ('Amplitude [#]')\n",
    "plt.grid (True)\n",
    "\n",
    "plt.subplot (313)\n",
    "\n",
    "plt.plot (fax_dbl_sided[:1000], abs (scipy.fft (np.append (han_win, np.zeros (99000))))[:1000])\n",
    "plt.plot (fax_dbl_sided[-1000:], abs (scipy.fft (np.append (han_win, np.zeros (99000)))[-1000:]))\n",
    "plt.title ('double-sided magnitude of hanning window')\n",
    "plt.xlabel ('Sample [#]')\n",
    "plt.ylabel ('Amplitude [#]')\n",
    "plt.grid (True)\n",
    "\n",
    "plt.tight_layout ()\n",
    "plt.show ()"
   ]
  },
  {
   "cell_type": "markdown",
   "metadata": {},
   "source": [
    "## influence of zero-padding\n",
    "the more zeros padded, the higher the resolution in frequency-domain\n",
    "\n",
    "since the dft-bins are dictated by the number of samples in time-domain signal\n",
    "\n",
    "the lower res spectrums are a sampled version of the higher res ones"
   ]
  },
  {
   "cell_type": "markdown",
   "metadata": {},
   "source": [
    "## deprecated stuff\n",
    "just for information - messy style"
   ]
  },
  {
   "cell_type": "code",
   "execution_count": null,
   "metadata": {},
   "outputs": [],
   "source": [
    "# read wav file\n",
    "import wave\n",
    "import numpy as np\n",
    "\n",
    "wav_params = None\n",
    "wav_frames = None\n",
    "with wave.open (audio_out) as wav_file:\n",
    "    wav_params = wav_file.getparams ()\n",
    "    wav_frames = wav_file.readframes (-1)\n",
    "\n",
    "print ('signal information:')\n",
    "print ('  channels:', wav_params[0])\n",
    "print ('  sampling rate: {} Hz (S/s)'.format (wav_params[2]))\n",
    "print ('  number of samples: {} S'.format (wav_params[3]))\n",
    "print ('  sample width: {} Bytes = {} Bits'.format (wav_params[1], wav_params[1]*8))\n",
    "print ('  length of signal: {:.2f} s'.format (wav_params[3]/wav_params[2]))\n",
    "print ('example of signal samples:')\n",
    "print ('  ', wav_frames[30000:30010])\n",
    "wav_frames = np.frombuffer (wav_frames, dtype=np.int16)\n",
    "print ('  ', wav_frames[30000:30010])\n",
    "print (wav_frames.dtype)"
   ]
  },
  {
   "cell_type": "code",
   "execution_count": null,
   "metadata": {},
   "outputs": [],
   "source": [
    "# Fourier transformation requires input signal with number of samples to be a power of 2\n",
    "# if not, zero-pad the signal\n",
    "# from https://www.geeksforgeeks.org/smallest-power-of-2-greater-than-or-equal-to-n/\n",
    "if not (sig_prep_N & (sig_prep_N-1) == 0):\n",
    "    print ('[i] signal length not a power of 2')\n",
    "    print ('>>> zero-padding the signal...', end=' ', flush=True)\n",
    "    # get number of zeros to add\n",
    "    k = sig_prep_N\n",
    "    while (k&(k-1) > 0):\n",
    "        k = k&(k-1)\n",
    "    k = k<<1\n",
    "    num_zeros = k - sig_prep_N\n",
    "    # add zeros to end of signal\n",
    "    sig_prep = np.append (sig_prep, np.full (num_zeros, 0, dtype=sig_prep.dtype))\n",
    "    sig_prep_N = sig_prep.shape[0]\n",
    "    sig_prep_len = sig_prep_N/sig_prep_fs\n",
    "    print ('done')\n",
    "\n",
    "print (sig_prep_N)\n",
    "print (sig_prep_len)"
   ]
  },
  {
   "cell_type": "markdown",
   "metadata": {},
   "source": [
    "---"
   ]
  },
  {
   "cell_type": "markdown",
   "metadata": {},
   "source": [
    "# Obsolete"
   ]
  },
  {
   "cell_type": "markdown",
   "metadata": {},
   "source": [
    "## Decode MP3 to WAV\n",
    "why obsolete: Initial idea was to store mp3 files since they are smaller in size, and then convert them to wav."
   ]
  },
  {
   "cell_type": "code",
   "execution_count": null,
   "metadata": {},
   "outputs": [],
   "source": [
    "import subprocess\n",
    "import os\n",
    "\n",
    "\n",
    "curr_dir = os.path.abspath ('./')\n",
    "ffmpeg = os.path.join (curr_dir, 'src', 'ffmpeg-20180719-9cb3d8f-win64-static', 'bin', 'ffmpeg.exe')\n",
    "ffmpeg_opt_main = '-n -i'\n",
    "ffmpeg_opt_wav = '-ar 44100 -ac 2'\n",
    "audio_name = \"Rick Astley - Never Gonna Give You up\"\n",
    "#\"2017-06-16 - CamelPhat, Elderbrook - Cola [Original Mix]\"\n",
    "#\"2015-05-29 - Tough Love - So Freakin' Tight [Original Mix]\"\n",
    "audio_in = os.path.join ('src', audio_name + '.mp3')\n",
    "audio_out = os.path.join ('src', audio_name + '.wav')\n",
    "\n",
    "cmd = ffmpeg + ' ' + ffmpeg_opt_main + ' ' + \\\n",
    "    \"\\\"\" + audio_in + \"\\\"\" + ' ' + ffmpeg_opt_wav + ' ' + \\\n",
    "    \"\\\"\" + audio_out + \"\\\"\"\n",
    "\n",
    "subprocess.call (cmd, shell=True)"
   ]
  }
 ],
 "metadata": {
  "kernelspec": {
   "display_name": "Python 3",
   "language": "python",
   "name": "python3"
  },
  "language_info": {
   "codemirror_mode": {
    "name": "ipython",
    "version": 3
   },
   "file_extension": ".py",
   "mimetype": "text/x-python",
   "name": "python",
   "nbconvert_exporter": "python",
   "pygments_lexer": "ipython3",
   "version": "3.5.2"
  }
 },
 "nbformat": 4,
 "nbformat_minor": 2
}
