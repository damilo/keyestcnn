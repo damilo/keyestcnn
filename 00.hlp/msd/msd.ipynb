{
 "cells": [
  {
   "cell_type": "markdown",
   "metadata": {},
   "source": [
    "# Million Song Dataset\n",
    "<a href='https://labrosa.ee.columbia.edu/millionsong/'>Link to MSD</a>\n",
    "\n",
    "<a href='https://github.com/tbertinmahieux/MSongsDB/tree/master/PythonSrc'>Python source</a>"
   ]
  },
  {
   "cell_type": "markdown",
   "metadata": {},
   "source": [
    "<a href='https://labrosa.ee.columbia.edu/millionsong/pages/field-list'>MSD field list</a>\n",
    "\n",
    "The key is a track-level attribute ranging from 0 to 11 and corresponding to one of the 12 keys: C, C#, D, etc. up to B. If no key was detected, the value is -1.\n",
    "\n",
    "The mode is equal to 0 or 1 for “minor” or “major” and may be -1 in case of no result. Note that the major key (e.g. C major) could more likely be confused with the minor key at 3 semitones lower (e.g.  A minor) as both keys carry the same pitches. Harmonic details are given in segments below."
   ]
  },
  {
   "cell_type": "markdown",
   "metadata": {},
   "source": [
    "<a href='https://github.com/tbertinmahieux/MSongsDB/tree/master/Tasks_Demos/Preview7digital'>Get preview of 7digital song</a>"
   ]
  },
  {
   "cell_type": "markdown",
   "metadata": {},
   "source": [
    "---"
   ]
  },
  {
   "cell_type": "markdown",
   "metadata": {},
   "source": [
    "# MSD summary file (hdf5)"
   ]
  },
  {
   "cell_type": "code",
   "execution_count": null,
   "metadata": {},
   "outputs": [],
   "source": [
    "# EXAMPLE on how to read the Million Song Dataset entries\n",
    "import os\n",
    "import numpy as np\n",
    "import tables as pt\n",
    "\n",
    "file_name = os.path.join ('src', 'msd_summary_file.h5')\n",
    "h5_file = pt.open_file (file_name, mode='r')\n",
    "\n",
    "# print object tree of PyTable file\n",
    "print (h5_file)"
   ]
  },
  {
   "cell_type": "code",
   "execution_count": null,
   "metadata": {},
   "outputs": [],
   "source": [
    "# get link to song table node\n",
    "table = h5_file.get_node ('/analysis/songs')\n",
    "print (table.coldescrs)"
   ]
  },
  {
   "cell_type": "code",
   "execution_count": null,
   "metadata": {},
   "outputs": [],
   "source": [
    "# shape of the table is:\n",
    "print (table.nrows, len(table.coldtypes))"
   ]
  },
  {
   "cell_type": "code",
   "execution_count": null,
   "metadata": {},
   "outputs": [],
   "source": [
    "# read data from song table\n",
    "msd_songs = table.read ()\n",
    "table_colnames=table.colnames"
   ]
  },
  {
   "cell_type": "code",
   "execution_count": null,
   "metadata": {},
   "outputs": [],
   "source": [
    "h5_file.close ()"
   ]
  },
  {
   "cell_type": "code",
   "execution_count": null,
   "metadata": {},
   "outputs": [],
   "source": [
    "print (msd_songs[0])\n",
    "print (table_colnames)"
   ]
  },
  {
   "cell_type": "code",
   "execution_count": null,
   "metadata": {},
   "outputs": [],
   "source": [
    "# make pandas df of data (just because it looks better and is more dynamic)\n",
    "import pandas as pd\n",
    "from IPython.display import display\n",
    "\n",
    "msd_songs_df = pd.DataFrame (msd_songs, columns=table_colnames)\n",
    "display (msd_songs_df.head ())"
   ]
  },
  {
   "cell_type": "markdown",
   "metadata": {},
   "source": [
    "<a href='https://labrosa.ee.columbia.edu/millionsong/pages/field-list'>MSD field list</a>"
   ]
  },
  {
   "cell_type": "code",
   "execution_count": null,
   "metadata": {},
   "outputs": [],
   "source": [
    "# clean up the columns 'audio_md5' and 'track_id'\n",
    "# they are byte objects and need to be decoded to string\n",
    "if False:\n",
    "    msd_songs_df['audio_md5'] = msd_songs_df['audio_md5'].map (lambda x: x.decode())\n",
    "    msd_songs_df['track_id'] = msd_songs_df['track_id'].map (lambda x: x.decode())\n",
    "\n",
    "display (msd_songs_df.head ())"
   ]
  },
  {
   "cell_type": "code",
   "execution_count": null,
   "metadata": {},
   "outputs": [],
   "source": [
    "# TODO: from every key, get 100 examples per mode\n",
    "# 12 keys * 2 modes * 100 = 2400 songs\n",
    "# constraint: key confidence AND mode confidence shall be > (???) <- check first where good cut is"
   ]
  },
  {
   "cell_type": "code",
   "execution_count": null,
   "metadata": {},
   "outputs": [],
   "source": [
    "# print histograms of key confidence and mode confidence\n",
    "import matplotlib.pyplot as plt\n",
    "%matplotlib inline\n",
    "\n",
    "msd_songs_df['key_confidence'].plot (kind='hist', bins=20)\n",
    "msd_songs_df['mode_confidence'].plot (kind='hist', bins=20, alpha=0.5);"
   ]
  },
  {
   "cell_type": "code",
   "execution_count": null,
   "metadata": {},
   "outputs": [],
   "source": [
    "songs_conf = msd_songs_df.loc[(msd_songs_df['key_confidence']>0.75) & (msd_songs_df['mode_confidence']>0.75)]"
   ]
  },
  {
   "cell_type": "code",
   "execution_count": null,
   "metadata": {},
   "outputs": [],
   "source": [
    "display (songs_conf.head ())\n",
    "print (songs_conf.shape)"
   ]
  },
  {
   "cell_type": "code",
   "execution_count": null,
   "metadata": {},
   "outputs": [],
   "source": [
    "songs_conf['key'].plot (kind='hist', bins=12)\n",
    "songs_conf['mode'].plot (kind='hist', bins=12);"
   ]
  },
  {
   "cell_type": "code",
   "execution_count": null,
   "metadata": {},
   "outputs": [],
   "source": [
    "overall_length = 0\n",
    "for i in range (12):\n",
    "    for j in range (2):\n",
    "        k = len (songs_conf.loc[(songs_conf['key']==i) & (songs_conf['mode']==j)])\n",
    "        print (i, j, ':', k)\n",
    "        overall_length += k\n",
    "print (overall_length)"
   ]
  },
  {
   "cell_type": "code",
   "execution_count": 3,
   "metadata": {},
   "outputs": [],
   "source": [
    "# get artist name and song title from another msd file...\n",
    "# read the 'all track Echo Nest ID' file\n",
    "# it is a text file, each line is formatted: track id<SEP>song id<SEP>artist name<SEP>song title\n",
    "\n",
    "import os\n",
    "import pandas as pd\n",
    "\n",
    "file_name = os.path.join ('src', 'unique_tracks.txt')\n",
    "col_names = ['track_id', 'song_id', 'artist_name', 'song_title']\n",
    "unique_tracks = pd.read_table (file_name, sep='<SEP>', header=None, names=col_names, engine='python')"
   ]
  },
  {
   "cell_type": "code",
   "execution_count": 5,
   "metadata": {},
   "outputs": [
    {
     "data": {
      "text/html": [
       "<div>\n",
       "<style scoped>\n",
       "    .dataframe tbody tr th:only-of-type {\n",
       "        vertical-align: middle;\n",
       "    }\n",
       "\n",
       "    .dataframe tbody tr th {\n",
       "        vertical-align: top;\n",
       "    }\n",
       "\n",
       "    .dataframe thead th {\n",
       "        text-align: right;\n",
       "    }\n",
       "</style>\n",
       "<table border=\"1\" class=\"dataframe\">\n",
       "  <thead>\n",
       "    <tr style=\"text-align: right;\">\n",
       "      <th></th>\n",
       "      <th>track_id</th>\n",
       "      <th>song_id</th>\n",
       "      <th>artist_name</th>\n",
       "      <th>song_title</th>\n",
       "    </tr>\n",
       "  </thead>\n",
       "  <tbody>\n",
       "    <tr>\n",
       "      <th>0</th>\n",
       "      <td>TRMMMYQ128F932D901</td>\n",
       "      <td>SOQMMHC12AB0180CB8</td>\n",
       "      <td>Faster Pussy cat</td>\n",
       "      <td>Silent Night</td>\n",
       "    </tr>\n",
       "    <tr>\n",
       "      <th>1</th>\n",
       "      <td>TRMMMKD128F425225D</td>\n",
       "      <td>SOVFVAK12A8C1350D9</td>\n",
       "      <td>Karkkiautomaatti</td>\n",
       "      <td>Tanssi vaan</td>\n",
       "    </tr>\n",
       "    <tr>\n",
       "      <th>2</th>\n",
       "      <td>TRMMMRX128F93187D9</td>\n",
       "      <td>SOGTUKN12AB017F4F1</td>\n",
       "      <td>Hudson Mohawke</td>\n",
       "      <td>No One Could Ever</td>\n",
       "    </tr>\n",
       "    <tr>\n",
       "      <th>3</th>\n",
       "      <td>TRMMMCH128F425532C</td>\n",
       "      <td>SOBNYVR12A8C13558C</td>\n",
       "      <td>Yerba Brava</td>\n",
       "      <td>Si Vos Querés</td>\n",
       "    </tr>\n",
       "    <tr>\n",
       "      <th>4</th>\n",
       "      <td>TRMMMWA128F426B589</td>\n",
       "      <td>SOHSBXH12A8C13B0DF</td>\n",
       "      <td>Der Mystic</td>\n",
       "      <td>Tangle Of Aspens</td>\n",
       "    </tr>\n",
       "  </tbody>\n",
       "</table>\n",
       "</div>"
      ],
      "text/plain": [
       "             track_id             song_id       artist_name         song_title\n",
       "0  TRMMMYQ128F932D901  SOQMMHC12AB0180CB8  Faster Pussy cat       Silent Night\n",
       "1  TRMMMKD128F425225D  SOVFVAK12A8C1350D9  Karkkiautomaatti        Tanssi vaan\n",
       "2  TRMMMRX128F93187D9  SOGTUKN12AB017F4F1    Hudson Mohawke  No One Could Ever\n",
       "3  TRMMMCH128F425532C  SOBNYVR12A8C13558C       Yerba Brava      Si Vos Querés\n",
       "4  TRMMMWA128F426B589  SOHSBXH12A8C13B0DF        Der Mystic   Tangle Of Aspens"
      ]
     },
     "metadata": {},
     "output_type": "display_data"
    },
    {
     "name": "stdout",
     "output_type": "stream",
     "text": [
      "[i] Number of records: 1000000\n"
     ]
    }
   ],
   "source": [
    "from IPython.display import display\n",
    "\n",
    "display (unique_tracks.head ())\n",
    "print ('[i] Number of records:', len (unique_tracks))"
   ]
  },
  {
   "cell_type": "code",
   "execution_count": null,
   "metadata": {},
   "outputs": [],
   "source": [
    "# unique db-key = track_id (db-key = database key, to avoid confusion with audio key)\n",
    "# db-key from songs_conf only taken into consideration\n",
    "\n",
    "songs_conf_tracks = songs_conf.merge (unique_tracks, how='left', on=['track_id'], validate='one_to_one')"
   ]
  },
  {
   "cell_type": "code",
   "execution_count": null,
   "metadata": {
    "scrolled": false
   },
   "outputs": [],
   "source": [
    "display (songs_conf_tracks.head ())\n",
    "print (len (songs_conf_tracks))"
   ]
  },
  {
   "cell_type": "code",
   "execution_count": null,
   "metadata": {},
   "outputs": [],
   "source": [
    "# TODO: get rid of columns we don't need\n",
    "# here it is easier to filter by the columns we need\n",
    "print (list (songs_conf_tracks.columns.values))"
   ]
  },
  {
   "cell_type": "code",
   "execution_count": null,
   "metadata": {
    "scrolled": false
   },
   "outputs": [],
   "source": [
    "keep_cols = ['duration', 'end_of_fade_in', 'key', 'key_confidence',\n",
    "             'mode', 'mode_confidence', 'start_of_fade_out', 'tempo',\n",
    "             'track_id', 'song_id', 'artist_name', 'song_title']\n",
    "\n",
    "songs_conf_tracks_filt = songs_conf_tracks.filter (items=keep_cols, axis=1)\n",
    "\n",
    "display (songs_conf_tracks_filt.head ())\n",
    "print (len (songs_conf_tracks_filt))"
   ]
  },
  {
   "cell_type": "code",
   "execution_count": null,
   "metadata": {},
   "outputs": [],
   "source": [
    "songs_conf_tracks_filt.to_csv ('songs_conf=75_tracks_filt.csv')"
   ]
  },
  {
   "cell_type": "code",
   "execution_count": null,
   "metadata": {},
   "outputs": [],
   "source": []
  }
 ],
 "metadata": {
  "kernelspec": {
   "display_name": "Python 3",
   "language": "python",
   "name": "python3"
  },
  "language_info": {
   "codemirror_mode": {
    "name": "ipython",
    "version": 3
   },
   "file_extension": ".py",
   "mimetype": "text/x-python",
   "name": "python",
   "nbconvert_exporter": "python",
   "pygments_lexer": "ipython3",
   "version": "3.5.2"
  }
 },
 "nbformat": 4,
 "nbformat_minor": 2
}
