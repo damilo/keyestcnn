{
 "cells": [
  {
   "cell_type": "code",
   "execution_count": 2,
   "metadata": {},
   "outputs": [
    {
     "data": {
      "image/png": "[encoded data removed]",
      "text/plain": [
       "<Figure size 432x288 with 1 Axes>"
      ]
     },
     "metadata": {},
     "output_type": "display_data"
    }
   ],
   "source": [
    "import os\n",
    "import numpy as np\n",
    "from PIL import Image\n",
    "import matplotlib.pyplot as plt\n",
    "%matplotlib inline\n",
    "\n",
    "#spectro_file = os.path.join ('..', 'fft', 'test', 'c-major-scale-on-treble-clef.png')\n",
    "#spectro_file = os.path.join ('..', '..', 'src_spectro', '8-0', 'TRIZVHE128EF351C4E.png')\n",
    "#spectro_file = os.path.join ('..', '..', 'src_spectro', '7-0', 'TRUIIZI12903D00069.png')\n",
    "spectro_file = os.path.join ('..', '..', 'src_spectro', '7-1', 'TRNIWUC128F4284F76.png')\n",
    "\n",
    "img = Image.open (spectro_file).convert (mode='L')\n",
    "\n",
    "plt.imshow (img)\n",
    "plt.show ()"
   ]
  },
  {
   "cell_type": "code",
   "execution_count": 3,
   "metadata": {},
   "outputs": [
    {
     "data": {
      "text/plain": [
       "(150, 128)"
      ]
     },
     "execution_count": 3,
     "metadata": {},
     "output_type": "execute_result"
    }
   ],
   "source": [
    "img.size"
   ]
  },
  {
   "cell_type": "code",
   "execution_count": 4,
   "metadata": {},
   "outputs": [
    {
     "data": {
      "text/plain": [
       "(128, 150)"
      ]
     },
     "execution_count": 4,
     "metadata": {},
     "output_type": "execute_result"
    }
   ],
   "source": [
    "img_arr = np.array (img)\n",
    "img_arr.shape"
   ]
  },
  {
   "cell_type": "code",
   "execution_count": 24,
   "metadata": {},
   "outputs": [
    {
     "name": "stdout",
     "output_type": "stream",
     "text": [
      "[ 55  57  78  55  55  59  48  52  65  78  67  66  66  79  66  68  69  69\n",
      "  69  68  67  66  65  55  55  64  64  60  55  55  48  48  74  52  74  55\n",
      "  50  55  76  85  67  67  77  90  78  76  45  62  63  76  75  76  75  75\n",
      "  75  74  74  62  62  64  63  64  62  62  63  64  64  64  64  48  58  59\n",
      "  59  59  79  79  55  57  86  90  80  55  55  54  54  62  62  57  60 120\n",
      "  72  74  74  74  62  57  58  55  55  55  74  62  45  55  62  72  79  59\n",
      "  57  57  57  57  59  42  64  64  62  50  80  79  59  56  57  57  50  62\n",
      "  79  60  80  60  74  76  74  74  79  76  83  55  54  55  42  59  43  59\n",
      "  82  81  86  72  56  54] (150,)\n"
     ]
    }
   ],
   "source": [
    "k = img_arr.shape[0]-np.argmax (img_arr, axis=0)\n",
    "print (k, k.shape)"
   ]
  },
  {
   "cell_type": "code",
   "execution_count": 22,
   "metadata": {},
   "outputs": [
    {
     "name": "stdout",
     "output_type": "stream",
     "text": [
      "[ 55  57  78  59  48  52  65  67  66  79  68  69  64  60  74  50  76  85\n",
      "  77  90  45  62  63  75  58  86  80  54 120  72  42  56  83  43  82  81]\n"
     ]
    }
   ],
   "source": [
    "# run through all time chunks, get the corresponding pitch and add it to a list if not already in list\n",
    "\n",
    "list_of_pitches_midi = np.empty (1).astype (int)\n",
    "max_pitch_midi = img_arr.shape[0]\n",
    "for i in range (img_arr.shape[1]):\n",
    "    \n",
    "    # check first if we have absolute silence in this time chunk = all values are zero\n",
    "    if (img_arr[:,i].sum () == 0):\n",
    "        continue\n",
    "    \n",
    "    pitch_midi = max_pitch_midi - img_arr[:,i].argmax ()\n",
    "    if pitch_midi not in list_of_pitches_midi:\n",
    "        list_of_pitches_midi = np.append (list_of_pitches_midi, pitch_midi)\n",
    "\n",
    "list_of_pitches_midi = list_of_pitches_midi[1:]\n",
    "print (list_of_pitches_midi)"
   ]
  },
  {
   "cell_type": "code",
   "execution_count": 52,
   "metadata": {},
   "outputs": [
    {
     "name": "stdout",
     "output_type": "stream",
     "text": [
      "[73 71 50 73 73 69 57 76 63 50 61 62 62 49 49 60 59 59 59 60 61 61 63 73\n",
      " 73 52 64 68 73 73 73 80 54 76 54 73 77 55 52 43 61 61 51 38 38 52 83 66\n",
      " 53 45 53 45 46 53 53 54 54 42 64 64 65 64 66 66 64 64 64 59 59 80 70 69\n",
      " 69 69 49 49 73 71 38 38 48 72 73 74 73 66 65 71 53  8 56 54 54 54 66 71\n",
      " 70 73 73 73 54 66 83 73 66 56 49 69 71 71 71 69 57 85 64 64 66 66 48 44\n",
      " 45 72 71 71 71 66 49 68 48 68 54 52 54 54 49 52 45 73 74 47 86 66 85 69\n",
      " 46 42 42 56 72 74] 150\n",
      "[ 54  56  58  54  54  58  47  51  64  77  66  65  65  78  65  67  68  68\n",
      "  68  67  66  65  63  54  54  63  63  59  54  54  47  47  73  51  73  54\n",
      "  49  54  63  84  66  66  76  89  77  75  44  61  62  75  49  75  55  74\n",
      "  74  61  61  61  61  63  62  63  61  61  62  63  63  63  63  46  57  58\n",
      "  58  58  78  78  54  42  85  85  41  54  54  53  53  61  61  56  56 119\n",
      "  59  73  73  73  61  56  57  54  54  44  61  61  44  54  61  59  59  58\n",
      "  56  56  56  56  58  41  63  63  61  49  79  78  58  55  56  56  49  56\n",
      "  78  59  79  59  42  75  73  73  78  75  82  54  53  54  41  58  42  58\n",
      "  81  80  80  71  55  53] 150\n"
     ]
    }
   ],
   "source": [
    "# run through all time chunks, get the corresponding pitch and add it to a list if not already in list\n",
    "\n",
    "#list_of_pitches_midi = np.empty (1).astype (int)\n",
    "max_pitch_midi = img_arr.shape[0]\n",
    "#for i in range (img_arr.shape[1]):\n",
    "    \n",
    "    # check first if we have absolute silence in this time chunk = all values are zero\n",
    "    #if (img_arr[:,i].sum () == 0):\n",
    "    #    continue\n",
    "    \n",
    "list_of_pitches_midi_up = np.argmax (img_arr[::1,:] > 0, axis=0)\n",
    "list_of_pitches_midi_dwn = np.argmax (img_arr[::-1,:] > 0, axis=0)\n",
    "    #if pitch_midi not in list_of_pitches_midi:\n",
    "    #    list_of_pitches_midi = np.append (list_of_pitches_midi, pitch_midi)\n",
    "\n",
    "#list_of_pitches_midi = list_of_pitches_midi[1:]\n",
    "print (list_of_pitches_midi_up, list_of_pitches_midi_up.size)\n",
    "print (list_of_pitches_midi_dwn, list_of_pitches_midi_dwn.size)"
   ]
  },
  {
   "cell_type": "code",
   "execution_count": 88,
   "metadata": {},
   "outputs": [
    {
     "data": {
      "text/plain": [
       "<matplotlib.image.AxesImage at 0x7f4e8ace5dd8>"
      ]
     },
     "execution_count": 88,
     "metadata": {},
     "output_type": "execute_result"
    },
    {
     "data": {
      "image/png": "[encoded data removed]",
      "text/plain": [
       "<Figure size 432x288 with 1 Axes>"
      ]
     },
     "metadata": {},
     "output_type": "display_data"
    }
   ],
   "source": [
    "#plt.imshow (img_arr[::1,:])\n",
    "plt.imshow (img_arr[::-1,:])"
   ]
  },
  {
   "cell_type": "code",
   "execution_count": 16,
   "metadata": {},
   "outputs": [],
   "source": [
    "# function: get key of array pixel value\n",
    "import math\n",
    "\n",
    "def get_music_key (arr_val):\n",
    "    tone = arr_val % 12\n",
    "    octave = math.floor (arr_val / 12) - 1\n",
    "    \n",
    "    return tone, octave"
   ]
  },
  {
   "cell_type": "code",
   "execution_count": 17,
   "metadata": {},
   "outputs": [],
   "source": [
    "dict_music_keys = {'C':0, 'C#':1, 'D':2, 'D#':3, 'E':4, 'F':5, 'F#':6, 'G':7, 'G#':8, 'A':9, 'A#':10, 'B':11}"
   ]
  },
  {
   "cell_type": "code",
   "execution_count": 18,
   "metadata": {},
   "outputs": [
    {
     "name": "stdout",
     "output_type": "stream",
     "text": [
      "G3, A3, F#5, B3, B4, E3, F4, G4, F#4, G5, G#4, A4, E5, E4, C4, C3, D5, D#3, C#5, C#6, F5, F#6, A2, D4, D#5, B5, A#5, D6, D#4, A#3, G#5, G#3, F#3, C9, C5, G2, C6, A5, F#2, \n"
     ]
    }
   ],
   "source": [
    "for arr_val in list_of_pitches_midi:\n",
    "    for dict_key, dict_value in dict_music_keys.items ():\n",
    "        tone, octave = get_music_key (arr_val)\n",
    "        if (tone == dict_value):\n",
    "            print ('{}{}'.format (dict_key, octave), end=', ', flush=True)\n",
    "print ()"
   ]
  },
  {
   "cell_type": "markdown",
   "metadata": {},
   "source": [
    "## Octave Transposition\n",
    "---\n",
    "\"In music transposition refers to the process, or operation, of moving a collection of notes (pitches or pitch classes) up or down in pitch by a constant interval.\" (<a href='https://en.wikipedia.org/wiki/Transposition_(music)'>Wikipedia - Transposition (music)</a>)\n",
    "\n",
    "_\n",
    "\n",
    "*Octave Equivalency*\n",
    "\n",
    "\"[...] notes an octave apart are given the same note name in the Western system of music notation — the name of a note an octave above A is also A. This is called octave equivalency, the assumption that pitches one or more octaves apart are musically equivalent in many ways [...]\" (<a href='https://en.wikipedia.org/wiki/Octave#Theory'>Wikipedia - Octave, Theory</a>)\n",
    "\n",
    "_\n",
    "\n",
    "*Transpositional Equivalence*\n",
    "\n",
    "\"Using integer notation and modulo 12, to transpose a pitch x by n semitones (pitch class transposition by a pitch class interval):\" (<a href='https://en.wikipedia.org/wiki/Transposition_(music)#Transpositional_equivalence'>Wikipedia - Transpositional Equivalence</a>)\n",
    "\n",
    "$T_n(x) = x + n (mod 12)$\n",
    "\n",
    "_\n",
    "\n",
    "\"Transposing a melody up or down by one octave will not change the key.\" (<a href='http://brebru.com/musicroom/theory/lesson18/octavetrans.html'>brebru - octave transposition</a>)"
   ]
  },
  {
   "cell_type": "code",
   "execution_count": 176,
   "metadata": {},
   "outputs": [],
   "source": [
    "# check if min/max value out of 12-TET bounds after transposition\n",
    "semitones_to_transpose = 12\n",
    "\n",
    "def transpose_spectrogram (img_arr):\n",
    "    min_oob = False\n",
    "    max_oob = False\n",
    "    min_oob_2 = False\n",
    "    max_oob_2 = False\n",
    "    if (np.argmax (img_arr[::1,:]>0, axis=0).min ()-semitones_to_transpose < 0):\n",
    "        print ('  [i] max pitch would be out of bounds after transposition',\\\n",
    "               np.argmax (img_arr[::1,:]>0, axis=0).min ())\n",
    "        max_oob = True\n",
    "    if (np.argmax (img_arr[::1,:]>0, axis=0).min ()-semitones_to_transpose*2 < 0):\n",
    "        print ('  [i] max pitch would be out of bounds after 2x transposition',\\\n",
    "               np.argmax (img_arr[::1,:]>0, axis=0).min ())\n",
    "        max_oob_2 = True\n",
    "    if (np.argmax (img_arr[::-1,:]>0, axis=0).min ()-semitones_to_transpose < 0):\n",
    "        print ('  [i] min pitch would be out of bounds after transposition',\\\n",
    "               np.argmax (img_arr[::-1,:]>0, axis=0).min ())\n",
    "        min_oob = True\n",
    "    if (np.argmax (img_arr[::-1,:]>0, axis=0).min ()-semitones_to_transpose*2 < 0):\n",
    "        print ('  [i] min pitch would be out of bounds after 2x transposition',\\\n",
    "               np.argmax (img_arr[::-1,:]>0, axis=0).min ())\n",
    "        min_oob_2 = True\n",
    "    \n",
    "    \n",
    "    # go through every column of the image and move every value 12 indices up (or down)\n",
    "    \n",
    "    # - one octave up\n",
    "    img_arr_trnsp = np.empty ((4, img_arr.shape[0], img_arr.shape[1])).astype(np.uint8)\n",
    "    if not max_oob:\n",
    "        # array with 12 more rows\n",
    "        img_arr_trnsp[0] = np.vstack (\n",
    "            (img_arr[semitones_to_transpose:], np.zeros ((semitones_to_transpose, img_arr.shape[1]))))\n",
    "\n",
    "    # - one octave down\n",
    "    if not min_oob:\n",
    "        img_arr_trnsp[1] = np.vstack (\n",
    "            (np.zeros ((semitones_to_transpose, img_arr.shape[1])), img_arr[:-semitones_to_transpose]))\n",
    "    \n",
    "    # - two octaves up\n",
    "    if not max_oob_2:\n",
    "        # array with 24 more rows\n",
    "        img_arr_trnsp[2] = np.vstack (\n",
    "            (img_arr[semitones_to_transpose*2:], np.zeros ((semitones_to_transpose*2, img_arr.shape[1]))))\n",
    "    \n",
    "    # - two octaves down\n",
    "    if not min_oob_2:\n",
    "        img_arr_trnsp[3] = np.vstack (\n",
    "            (np.zeros ((semitones_to_transpose*2, img_arr.shape[1])), img_arr[:-semitones_to_transpose*2]))\n",
    "    \n",
    "    return img_arr_trnsp"
   ]
  },
  {
   "cell_type": "code",
   "execution_count": 177,
   "metadata": {},
   "outputs": [
    {
     "name": "stdout",
     "output_type": "stream",
     "text": [
      "  [i] max pitch would be out of bounds after transposition 8\n",
      "  [i] max pitch would be out of bounds after 2x transposition 8\n"
     ]
    }
   ],
   "source": [
    "img_arr_trnsp = transpose_spectrogram (img_arr)\n",
    "\n",
    "cnt = 0\n",
    "for i in range (img_arr_trnsp.shape[0]):\n",
    "    if (img_arr_trnsp[i].sum () > 0):\n",
    "        cnt +=1"
   ]
  },
  {
   "cell_type": "code",
   "execution_count": 179,
   "metadata": {},
   "outputs": [
    {
     "data": {
      "image/png": "[encoded data removed]",
      "text/plain": [
       "<Figure size 1152x1008 with 3 Axes>"
      ]
     },
     "metadata": {},
     "output_type": "display_data"
    }
   ],
   "source": [
    "fig, axs= plt.subplots (1, cnt+1, sharex=True, sharey=True)\n",
    "axs[0].imshow (Image.fromarray (img_arr))\n",
    "k = 1\n",
    "for i in range (img_arr_trnsp.shape[0]):\n",
    "    if (img_arr_trnsp[i].sum () > 0):\n",
    "        axs[k].imshow (Image.fromarray (img_arr_trnsp[i]))\n",
    "        k += 1\n",
    "\n",
    "fig.set_size_inches (16, 14)\n",
    "plt.show ()"
   ]
  },
  {
   "cell_type": "code",
   "execution_count": 13,
   "metadata": {},
   "outputs": [
    {
     "name": "stdout",
     "output_type": "stream",
     "text": [
      "[ 67  69  90  71  60  64  77  79  78  91  80  81  76  72  86  62  88  97\n",
      "  89 102  57  74  75  87  70  98  92  66  84  54  68  95  55  94  93]\n",
      "[ 43  45  66  47  36  40  53  55  54  67  56  57  52  48  62  38  64  73\n",
      "  65  78  33  50  51  63  46  74  68  42 108  60  30  44  71  31  70  69]\n"
     ]
    }
   ],
   "source": [
    "list_of_pitches_midi_oct_up = np.empty (1).astype (int)\n",
    "max_pitch_midi_oct_up = img_arr_oct_up.shape[0]\n",
    "for i in range (img_arr_oct_up.shape[1]):\n",
    "    \n",
    "    # check first if we have absolute silence in this time chunk = all values are zero\n",
    "    if (img_arr_oct_up[:,i].sum () == 0):\n",
    "        continue\n",
    "    \n",
    "    pitch_midi = max_pitch_midi_oct_up - img_arr_oct_up[:,i].argmax ()\n",
    "    if pitch_midi not in list_of_pitches_midi_oct_up:\n",
    "        list_of_pitches_midi_oct_up = np.append (list_of_pitches_midi_oct_up, pitch_midi)\n",
    "\n",
    "list_of_pitches_midi_oct_up = list_of_pitches_midi_oct_up[1:]\n",
    "print (list_of_pitches_midi_oct_up)\n",
    "\n",
    "\n",
    "\n",
    "list_of_pitches_midi_oct_dwn = np.empty (1).astype (int)\n",
    "max_pitch_midi_oct_dwn = img_arr_oct_dwn.shape[0]\n",
    "for i in range (img_arr_oct_dwn.shape[1]):\n",
    "    \n",
    "    # check first if we have absolute silence in this time chunk = all values are zero\n",
    "    if (img_arr_oct_dwn[:,i].sum () == 0):\n",
    "        continue\n",
    "    \n",
    "    pitch_midi = max_pitch_midi_oct_dwn - img_arr_oct_dwn[:,i].argmax ()\n",
    "    if pitch_midi not in list_of_pitches_midi_oct_dwn:\n",
    "        list_of_pitches_midi_oct_dwn = np.append (list_of_pitches_midi_oct_dwn, pitch_midi)\n",
    "\n",
    "list_of_pitches_midi_oct_dwn = list_of_pitches_midi_oct_dwn[1:]\n",
    "print (list_of_pitches_midi_oct_dwn)"
   ]
  },
  {
   "cell_type": "code",
   "execution_count": 14,
   "metadata": {},
   "outputs": [
    {
     "name": "stdout",
     "output_type": "stream",
     "text": [
      "G4, A4, F#6, B4, C4, E4, F5, G5, F#5, G6, G#5, A5, E5, C5, D6, D4, E6, C#7, F6, F#7, A3, D5, D#5, D#6, A#4, D7, G#6, F#4, C6, F#3, G#4, B6, G3, A#6, A6, \n",
      "G2, A2, F#4, B2, C2, E2, F3, G3, F#3, G4, G#3, A3, E3, C3, D4, D2, E4, C#5, F4, F#5, A1, D3, D#3, D#4, A#2, D5, G#4, F#2, C8, C4, F#1, G#2, B4, G1, A#4, A4, \n",
      "\n",
      "G3, A3, F#5, B3, C3, E3, F4, G4, F#4, G5, G#4, A4, E4, C4, D5, D3, E5, C#6, F5, F#6, A2, D4, D#4, D#5, A#3, D6, G#5, F#3, C9, C5, F#2, G#3, B5, G2, A#5, A5, \n"
     ]
    }
   ],
   "source": [
    "for arr_val in list_of_pitches_midi_oct_up:\n",
    "    for dict_key, dict_value in dict_music_keys.items ():\n",
    "        tone, octave = get_music_key (arr_val)\n",
    "        if (tone == dict_value):\n",
    "            print ('{}{}'.format (dict_key, octave), end=', ', flush=True)\n",
    "print ()\n",
    "\n",
    "for arr_val in list_of_pitches_midi_oct_dwn:\n",
    "    for dict_key, dict_value in dict_music_keys.items ():\n",
    "        tone, octave = get_music_key (arr_val)\n",
    "        if (tone == dict_value):\n",
    "            print ('{}{}'.format (dict_key, octave), end=', ', flush=True)\n",
    "print ()\n",
    "\n",
    "print ()\n",
    "for arr_val in list_of_pitches_midi:\n",
    "    for dict_key, dict_value in dict_music_keys.items ():\n",
    "        tone, octave = get_music_key (arr_val)\n",
    "        if (tone == dict_value):\n",
    "            print ('{}{}'.format (dict_key, octave), end=', ', flush=True)\n",
    "print ()"
   ]
  },
  {
   "cell_type": "code",
   "execution_count": null,
   "metadata": {},
   "outputs": [],
   "source": []
  }
 ],
 "metadata": {
  "kernelspec": {
   "display_name": "Python 3",
   "language": "python",
   "name": "python3"
  },
  "language_info": {
   "codemirror_mode": {
    "name": "ipython",
    "version": 3
   },
   "file_extension": ".py",
   "mimetype": "text/x-python",
   "name": "python",
   "nbconvert_exporter": "python",
   "pygments_lexer": "ipython3",
   "version": "3.5.2"
  }
 },
 "nbformat": 4,
 "nbformat_minor": 2
}
