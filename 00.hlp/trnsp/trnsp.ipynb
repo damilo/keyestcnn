{
 "cells": [
  {
   "cell_type": "code",
   "execution_count": 2,
   "metadata": {},
   "outputs": [
    {
     "data": {
      "image/png": "[encoded data removed]",
      "text/plain": [
       "<Figure size 432x288 with 1 Axes>"
      ]
     },
     "metadata": {},
     "output_type": "display_data"
    }
   ],
   "source": [
    "import os\n",
    "import numpy as np\n",
    "from PIL import Image\n",
    "import matplotlib.pyplot as plt\n",
    "\n",
    "spectro_file = os.path.join ('..', 'fft', 'test', 'c-major-scale-on-treble-clef.png')\n",
    "\n",
    "img = Image.open (spectro_file).convert (mode='L')\n",
    "\n",
    "plt.imshow (img)\n",
    "plt.show ()"
   ]
  },
  {
   "cell_type": "code",
   "execution_count": 3,
   "metadata": {},
   "outputs": [
    {
     "data": {
      "text/plain": [
       "(48, 128)"
      ]
     },
     "execution_count": 3,
     "metadata": {},
     "output_type": "execute_result"
    }
   ],
   "source": [
    "img.size"
   ]
  },
  {
   "cell_type": "code",
   "execution_count": 4,
   "metadata": {},
   "outputs": [
    {
     "data": {
      "text/plain": [
       "(128, 48)"
      ]
     },
     "execution_count": 4,
     "metadata": {},
     "output_type": "execute_result"
    }
   ],
   "source": [
    "img_arr = np.array (img)\n",
    "img_arr.shape"
   ]
  },
  {
   "cell_type": "code",
   "execution_count": 5,
   "metadata": {},
   "outputs": [
    {
     "name": "stdout",
     "output_type": "stream",
     "text": [
      "[ 60  60  60  60  60  62  62  62  62  62  64  64  64  64  64  65  65  65\n",
      "  65  65  67  67  67  67  67  69  69  69  69  69  71  71  71  71  71  72\n",
      "  72  72  72  72  72 128 128 128 128 128 128 128]\n"
     ]
    }
   ],
   "source": [
    "print (img_arr.shape[0]-np.argmax (img_arr, axis=0))"
   ]
  },
  {
   "cell_type": "code",
   "execution_count": 27,
   "metadata": {},
   "outputs": [
    {
     "name": "stdout",
     "output_type": "stream",
     "text": [
      "[60 62 64 65 67 69 71 72]\n"
     ]
    }
   ],
   "source": [
    "# run through all time chunks, get the corresponding pitch and add it to a list if not already in list\n",
    "\n",
    "list_of_pitches_midi = np.empty (1).astype (int)\n",
    "max_pitch_midi = img_arr.shape[0]\n",
    "for i in range (img_arr.shape[1]):\n",
    "    \n",
    "    # check first if we have absolute silence in this time chunk = all values are zero\n",
    "    if (img_arr[:,i].sum () == 0):\n",
    "        continue\n",
    "    \n",
    "    pitch_midi = max_pitch_midi - img_arr[:,i].argmax ()\n",
    "    if pitch_midi not in list_of_pitches_midi:\n",
    "        list_of_pitches_midi = np.append (list_of_pitches_midi, pitch_midi)\n",
    "\n",
    "list_of_pitches_midi = list_of_pitches_midi[1:]\n",
    "print (list_of_pitches_midi)"
   ]
  },
  {
   "cell_type": "code",
   "execution_count": 28,
   "metadata": {},
   "outputs": [],
   "source": [
    "# function: get key of array pixel value\n",
    "import math\n",
    "\n",
    "def get_music_key (arr_val):\n",
    "    tone = arr_val % 12\n",
    "    octave = math.floor (arr_val / 12) - 1\n",
    "    \n",
    "    return tone, octave"
   ]
  },
  {
   "cell_type": "code",
   "execution_count": 29,
   "metadata": {},
   "outputs": [],
   "source": [
    "dict_music_keys = {'C':0, 'C#':1, 'D':2, 'D#':3, 'E':4, 'F':5, 'F#':6, 'G':7, 'G#':8, 'A':9, 'A#':10, 'B':11}"
   ]
  },
  {
   "cell_type": "code",
   "execution_count": 30,
   "metadata": {},
   "outputs": [
    {
     "name": "stdout",
     "output_type": "stream",
     "text": [
      "C4, D4, E4, F4, G4, A4, B4, C5, \n"
     ]
    }
   ],
   "source": [
    "for arr_val in list_of_pitches_midi:\n",
    "    for dict_key, dict_value in dict_music_keys.items ():\n",
    "        tone, octave = get_music_key (arr_val)\n",
    "        if (tone == dict_value):\n",
    "            print ('{}{}'.format (dict_key, octave), end=', ', flush=True)\n",
    "print ()"
   ]
  },
  {
   "cell_type": "markdown",
   "metadata": {},
   "source": [
    "## Octave Transposition\n",
    "---\n",
    "\"In music transposition refers to the process, or operation, of moving a collection of notes (pitches or pitch classes) up or down in pitch by a constant interval.\" (<a href='https://en.wikipedia.org/wiki/Transposition_(music)'>Wikipedia - Transposition (music)</a>)\n",
    "\n",
    "_\n",
    "\n",
    "*Octave Equivalency*\n",
    "\n",
    "\"[...] notes an octave apart are given the same note name in the Western system of music notation — the name of a note an octave above A is also A. This is called octave equivalency, the assumption that pitches one or more octaves apart are musically equivalent in many ways [...]\" (<a href='https://en.wikipedia.org/wiki/Octave#Theory'>Wikipedia - Octave, Theory</a>)\n",
    "\n",
    "_\n",
    "\n",
    "*Transpositional Equivalence*\n",
    "\n",
    "\"Using integer notation and modulo 12, to transpose a pitch x by n semitones (pitch class transposition by a pitch class interval):\" (<a href='https://en.wikipedia.org/wiki/Transposition_(music)#Transpositional_equivalence'>Wikipedia - Transpositional Equivalence</a>)\n",
    "\n",
    "$T_n(x) = x + n (mod 12)$\n",
    "\n",
    "_\n",
    "\n",
    "\"Transposing a melody up or down by one octave will not change the key.\" (<a href='http://brebru.com/musicroom/theory/lesson18/octavetrans.html'>brebru - octave transposition</a>)"
   ]
  },
  {
   "cell_type": "code",
   "execution_count": 31,
   "metadata": {},
   "outputs": [
    {
     "name": "stdout",
     "output_type": "stream",
     "text": [
      "[60 62 64 65 67 69 71 72]\n"
     ]
    }
   ],
   "source": [
    "print (list_of_pitches_midi)"
   ]
  },
  {
   "cell_type": "code",
   "execution_count": 35,
   "metadata": {},
   "outputs": [],
   "source": [
    "# check if min/max value out of 12-TET bounds after transposition\n",
    "semitones_to_transpose = 12\n",
    "min_oob = False\n",
    "max_oob = False\n",
    "\n",
    "if (list_of_pitches_midi.min ()-semitones_to_transpose < 0):\n",
    "    print ('  [i] min pitch would be out of bounds after transposition')\n",
    "    min_oob = True\n",
    "if (list_of_pitches_midi.max ()+semitones_to_transpose > 127):\n",
    "    print ('  [i] max pitch would be out of bounds after transposition')\n",
    "    max_oob = True\n",
    "\n",
    "if (min_oob or max_oob):\n",
    "    pass"
   ]
  },
  {
   "cell_type": "code",
   "execution_count": 72,
   "metadata": {},
   "outputs": [],
   "source": [
    "# go through every column of the image and move every value 12 indices up (or down)\n",
    "\n",
    "# - one octave up\n",
    "# array with 12 more rows\n",
    "img_arr_oct_up = np.copy (img_arr[semitones_to_transpose:])\n",
    "img_arr_oct_up = np.vstack ((img_arr_oct_up, np.zeros ((semitones_to_transpose, img_arr_oct_up.shape[1]))))\n",
    "\n",
    "\n",
    "# - one octave down\n",
    "img_arr_oct_dwn = np.copy (img_arr[:-semitones_to_transpose])\n",
    "img_arr_oct_dwn = np.vstack ((np.zeros ((semitones_to_transpose, img_arr_oct_dwn.shape[1])), img_arr_oct_dwn))"
   ]
  },
  {
   "cell_type": "code",
   "execution_count": 73,
   "metadata": {},
   "outputs": [
    {
     "name": "stdout",
     "output_type": "stream",
     "text": [
      "(128, 48)\n",
      "(128, 48)\n"
     ]
    }
   ],
   "source": [
    "print (img_arr_oct_up.shape)\n",
    "print (img_arr_oct_dwn.shape)"
   ]
  },
  {
   "cell_type": "code",
   "execution_count": 76,
   "metadata": {},
   "outputs": [
    {
     "data": {
      "image/png": "[encoded data removed]",
      "text/plain": [
       "<Figure size 576x1008 with 3 Axes>"
      ]
     },
     "metadata": {},
     "output_type": "display_data"
    }
   ],
   "source": [
    "img_oct_up = Image.fromarray (img_arr_oct_up)\n",
    "img_oct_dwn = Image.fromarray (img_arr_oct_dwn)\n",
    "\n",
    "fig, axs= plt.subplots (1, 3, sharex=True, sharey=True)\n",
    "axs[0].imshow (img)\n",
    "axs[1].imshow (img_oct_up)\n",
    "axs[2].imshow (img_oct_dwn)\n",
    "\n",
    "fig.set_size_inches (8, 14)\n",
    "plt.show ()"
   ]
  },
  {
   "cell_type": "code",
   "execution_count": 78,
   "metadata": {},
   "outputs": [
    {
     "name": "stdout",
     "output_type": "stream",
     "text": [
      "[72 74 76 77 79 81 83 84]\n",
      "[48 50 52 53 55 57 59 60]\n"
     ]
    }
   ],
   "source": [
    "list_of_pitches_midi_oct_up = np.empty (1).astype (int)\n",
    "max_pitch_midi_oct_up = img_arr_oct_up.shape[0]\n",
    "for i in range (img_arr_oct_up.shape[1]):\n",
    "    \n",
    "    # check first if we have absolute silence in this time chunk = all values are zero\n",
    "    if (img_arr_oct_up[:,i].sum () == 0):\n",
    "        continue\n",
    "    \n",
    "    pitch_midi = max_pitch_midi_oct_up - img_arr_oct_up[:,i].argmax ()\n",
    "    if pitch_midi not in list_of_pitches_midi_oct_up:\n",
    "        list_of_pitches_midi_oct_up = np.append (list_of_pitches_midi_oct_up, pitch_midi)\n",
    "\n",
    "list_of_pitches_midi_oct_up = list_of_pitches_midi_oct_up[1:]\n",
    "print (list_of_pitches_midi_oct_up)\n",
    "\n",
    "\n",
    "\n",
    "list_of_pitches_midi_oct_dwn = np.empty (1).astype (int)\n",
    "max_pitch_midi_oct_dwn = img_arr_oct_dwn.shape[0]\n",
    "for i in range (img_arr_oct_dwn.shape[1]):\n",
    "    \n",
    "    # check first if we have absolute silence in this time chunk = all values are zero\n",
    "    if (img_arr_oct_dwn[:,i].sum () == 0):\n",
    "        continue\n",
    "    \n",
    "    pitch_midi = max_pitch_midi_oct_dwn - img_arr_oct_dwn[:,i].argmax ()\n",
    "    if pitch_midi not in list_of_pitches_midi_oct_dwn:\n",
    "        list_of_pitches_midi_oct_dwn = np.append (list_of_pitches_midi_oct_dwn, pitch_midi)\n",
    "\n",
    "list_of_pitches_midi_oct_dwn = list_of_pitches_midi_oct_dwn[1:]\n",
    "print (list_of_pitches_midi_oct_dwn)"
   ]
  },
  {
   "cell_type": "code",
   "execution_count": 79,
   "metadata": {},
   "outputs": [
    {
     "name": "stdout",
     "output_type": "stream",
     "text": [
      "C5, D5, E5, F5, G5, A5, B5, C6, \n",
      "C3, D3, E3, F3, G3, A3, B3, C4, \n"
     ]
    }
   ],
   "source": [
    "for arr_val in list_of_pitches_midi_oct_up:\n",
    "    for dict_key, dict_value in dict_music_keys.items ():\n",
    "        tone, octave = get_music_key (arr_val)\n",
    "        if (tone == dict_value):\n",
    "            print ('{}{}'.format (dict_key, octave), end=', ', flush=True)\n",
    "print ()\n",
    "\n",
    "for arr_val in list_of_pitches_midi_oct_dwn:\n",
    "    for dict_key, dict_value in dict_music_keys.items ():\n",
    "        tone, octave = get_music_key (arr_val)\n",
    "        if (tone == dict_value):\n",
    "            print ('{}{}'.format (dict_key, octave), end=', ', flush=True)\n",
    "print ()"
   ]
  },
  {
   "cell_type": "code",
   "execution_count": null,
   "metadata": {},
   "outputs": [],
   "source": []
  }
 ],
 "metadata": {
  "kernelspec": {
   "display_name": "Python 3",
   "language": "python",
   "name": "python3"
  },
  "language_info": {
   "codemirror_mode": {
    "name": "ipython",
    "version": 3
   },
   "file_extension": ".py",
   "mimetype": "text/x-python",
   "name": "python",
   "nbconvert_exporter": "python",
   "pygments_lexer": "ipython3",
   "version": "3.5.2"
  }
 },
 "nbformat": 4,
 "nbformat_minor": 2
}
